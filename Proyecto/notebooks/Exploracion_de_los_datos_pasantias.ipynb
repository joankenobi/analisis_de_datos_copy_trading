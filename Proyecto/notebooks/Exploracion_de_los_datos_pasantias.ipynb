{
  "cells": [
    {
      "cell_type": "code",
      "execution_count": null,
      "metadata": {
        "id": "c8rtN-O8iS7X"
      },
      "outputs": [],
      "source": [
        "import pandas as pd\n",
        "import numpy as np\n",
        "from datetime import datetime, timedelta\n",
        "import matplotlib.pyplot as plt\n",
        "import seaborn as sns\n",
        "from pandas import NA, NaT"
      ]
    },
    {
      "cell_type": "markdown",
      "metadata": {
        "id": "dcjnPCF1jYP8"
      },
      "source": [
        "### Leer .csv pasanti"
      ]
    },
    {
      "cell_type": "code",
      "execution_count": null,
      "metadata": {
        "id": "7gAsNiC1jWRT"
      },
      "outputs": [],
      "source": [
        "df_pasanti_sygnals=pd.read_csv(\"pasanti_sygnals.csv\")"
      ]
    },
    {
      "cell_type": "code",
      "execution_count": null,
      "metadata": {
        "id": "QEySXK88pEVM"
      },
      "outputs": [],
      "source": [
        "df_sygnals=df_pasanti_sygnals.copy()\n",
        "df_sygnals.drop(columns=\"Unnamed: 0\",inplace=True)"
      ]
    },
    {
      "cell_type": "code",
      "execution_count": null,
      "metadata": {},
      "outputs": [],
      "source": [
        "df_pasanti_sygnals[\"message_link\"]"
      ]
    },
    {
      "cell_type": "markdown",
      "metadata": {
        "id": "sp0zr7q5ovEm"
      },
      "source": [
        "### Ajustar los tipos de datos"
      ]
    },
    {
      "cell_type": "code",
      "execution_count": null,
      "metadata": {
        "colab": {
          "base_uri": "https://localhost:8080/"
        },
        "id": "Nzko3ztBoNPU",
        "outputId": "b3a96e84-dd12-49f8-8f14-9074434e5f20"
      },
      "outputs": [],
      "source": [
        "# determinar que tipo de datos hay en el data frame.\n",
        "df_sygnals.info()\n"
      ]
    },
    {
      "cell_type": "code",
      "execution_count": null,
      "metadata": {
        "id": "lrp3qfQjpszt"
      },
      "outputs": [],
      "source": [
        "# convertir los datos tipo str a un typo de dato mas adecuado\n",
        "df_sygnals=df_sygnals.convert_dtypes()"
      ]
    },
    {
      "cell_type": "code",
      "execution_count": null,
      "metadata": {
        "colab": {
          "base_uri": "https://localhost:8080/"
        },
        "id": "Jaoz-l4usMky",
        "outputId": "821441dc-b7fe-4468-f2b8-a67631c184d4"
      },
      "outputs": [],
      "source": [
        "df_sygnals.columns"
      ]
    },
    {
      "cell_type": "markdown",
      "metadata": {
        "id": "14fm907wBXnr"
      },
      "source": [
        "### ajustar los datos de fechas"
      ]
    },
    {
      "cell_type": "code",
      "execution_count": null,
      "metadata": {
        "id": "TO9_vqjertwc"
      },
      "outputs": [],
      "source": [
        "# pasar los datos str a datetime\n",
        "df_sygnals['date']=pd.to_datetime(df_sygnals['date'])"
      ]
    },
    {
      "cell_type": "code",
      "execution_count": null,
      "metadata": {
        "id": "s6IJjvps--L3"
      },
      "outputs": [],
      "source": [
        "# extraer la primera fecha del conjunto de fechas.\n",
        "def extrat(x):\n",
        "  if type(x) == type(NA):\n",
        "    return x\n",
        "  if x == \"False\":\n",
        "    return False\n",
        "  if x == \"never\":\n",
        "    return \"never\"\n",
        "  else:\n",
        "    return pd.to_datetime(x)\n"
      ]
    },
    {
      "cell_type": "code",
      "execution_count": null,
      "metadata": {
        "id": "TaCgakFo8BCF"
      },
      "outputs": [],
      "source": [
        "df_sygnals['first_dates_entry']=df_sygnals['first_dates_entry'].agg(lambda x: extrat(x))\n",
        "df_sygnals['first_dates_stoploss']=df_sygnals['first_dates_stoploss'].agg(lambda x: extrat(x))\n",
        "df_sygnals['first_dates_profit']=df_sygnals['first_dates_profit'].agg(lambda x: extrat(x))"
      ]
    },
    {
      "cell_type": "markdown",
      "metadata": {
        "id": "AxwDxLcLeguI"
      },
      "source": [
        "## Calcular el tiempo transcurrido entre fechas"
      ]
    },
    {
      "cell_type": "code",
      "execution_count": null,
      "metadata": {
        "colab": {
          "base_uri": "https://localhost:8080/",
          "height": 424
        },
        "id": "Hm7UCr9wBj8P",
        "outputId": "da292ca2-4f33-4198-f601-4982e6a5cf3f"
      },
      "outputs": [],
      "source": [
        "# crear un df con las columnas de tiempo\n",
        "df_times=df_sygnals.loc[:,[\"date\",\"first_dates_profit\",\"first_dates_stoploss\",\"first_dates_entry\"]]\n",
        "df_times"
      ]
    },
    {
      "cell_type": "code",
      "execution_count": null,
      "metadata": {
        "id": "HzyaCv2fBrmu"
      },
      "outputs": [],
      "source": [
        "# funcion que calcula la diferencia entre dos fechas\n",
        "def delta_time(d,e):\n",
        "  d_e=False\n",
        "  if type(e)==type(d) and type(e)!= bool and e is not NA:\n",
        "    d_e=e-d\n",
        "    d_e=d_e.total_seconds()\n",
        "  return d_e"
      ]
    },
    {
      "cell_type": "code",
      "execution_count": null,
      "metadata": {
        "id": "UH82VlanB0cU"
      },
      "outputs": [],
      "source": [
        "# nuevas columnas de diferencias entre fechas\n",
        "df_times[\"d_e\"]=df_times.agg(lambda x: delta_time(x.date,x.first_dates_entry),axis=1)\n",
        "df_times[\"d_p\"]=df_times.agg(lambda x: delta_time(x.date,x.first_dates_profit),axis=1)\n",
        "df_times[\"e_p\"]=df_times.agg(lambda x: delta_time(x.first_dates_entry,x.first_dates_profit),axis=1)\n",
        "df_times[\"d_s\"]=df_times.agg(lambda x: delta_time(x.date,x.first_dates_stoploss),axis=1)"
      ]
    },
    {
      "cell_type": "code",
      "execution_count": null,
      "metadata": {},
      "outputs": [],
      "source": [
        "#pd.concat([df_times,df_sygnals[[\"\"]]]"
      ]
    },
    {
      "cell_type": "code",
      "execution_count": null,
      "metadata": {},
      "outputs": [],
      "source": [
        "# para ver los segundo en deltatime\n",
        "str(timedelta(seconds=153229.7503816794))\n",
        "str(timedelta(seconds=233928.42055084746))\n",
        "str(timedelta(seconds=36378571.0))"
      ]
    },
    {
      "cell_type": "code",
      "execution_count": null,
      "metadata": {},
      "outputs": [],
      "source": [
        "# sns.set(rc={'figure.figsize':(20,120)},font_scale=1.7)\n",
        "# sns.violinplot(data=df_times[[\"d_e\"]])"
      ]
    },
    {
      "cell_type": "code",
      "execution_count": null,
      "metadata": {},
      "outputs": [],
      "source": [
        "# Calcular los min, max, mena, median y mostrar en formato timedelta\n",
        "\n",
        "pd.concat([\n",
        "    (df_times[df_times[\"d_e\"]!=False][\"d_e\"].agg([min,max,np.mean,np.median])).apply(lambda x: str(timedelta(seconds=x))),\n",
        "    df_times[df_times[\"d_p\"]!=False][\"d_p\"].agg([min,max,np.mean,np.median]).apply(lambda x: str(timedelta(seconds=x))),\n",
        "    df_times[df_times[\"e_p\"]!=False][\"e_p\"].agg([min,max,np.mean,np.median]).apply(lambda x: str(timedelta(seconds=x))),\n",
        "    df_times[df_times[\"d_s\"]!=False][\"d_s\"].agg([min,max,np.mean,np.median]).apply(lambda x: str(timedelta(seconds=x))),\n",
        "],axis=1)"
      ]
    },
    {
      "cell_type": "markdown",
      "metadata": {},
      "source": [
        "## Cantidad de señales por canal"
      ]
    },
    {
      "cell_type": "code",
      "execution_count": null,
      "metadata": {},
      "outputs": [],
      "source": [
        "df_sygnals[\"channel\"].replace(['𝑪𝒐𝒊𝒏|𝑪𝒐𝒂𝒄𝒉|𝑺𝒊𝒈𝒏𝒂𝒍𝒔','Crypto Futures Spot Signals😘'],[\"Coin|Coach|Signals\",\"Crypto Futures Spot Signals\"],inplace=True)"
      ]
    },
    {
      "cell_type": "code",
      "execution_count": null,
      "metadata": {},
      "outputs": [],
      "source": [
        "plt.rcParams[\"figure.figsize\"] = (20,10)"
      ]
    },
    {
      "cell_type": "code",
      "execution_count": null,
      "metadata": {},
      "outputs": [],
      "source": [
        "sns.set(rc={'figure.figsize':(20,10)},font_scale=1.7)\n",
        "sns.histplot(df_sygnals,x=\"channel\",hue=\"channel\" , palette=\"Set2\")\n"
      ]
    },
    {
      "cell_type": "markdown",
      "metadata": {},
      "source": [
        "## eficiencia de señales por canal"
      ]
    },
    {
      "cell_type": "code",
      "execution_count": null,
      "metadata": {},
      "outputs": [],
      "source": [
        "channels=df_sygnals[\"channel\"].unique()\n",
        "channels"
      ]
    },
    {
      "cell_type": "code",
      "execution_count": null,
      "metadata": {},
      "outputs": [],
      "source": [
        "efficiency_by_channel=df_sygnals[[\"channel\",\"efficiency\",\"symbol\"]].groupby(\"channel\")"
      ]
    },
    {
      "cell_type": "code",
      "execution_count": null,
      "metadata": {},
      "outputs": [],
      "source": [
        "sns.histplot(df_sygnals, x='efficiency', hue = 'channel', multiple=\"dodge\")\n",
        "plt.title(\"Distribucion de eficiencia por canal\")\n"
      ]
    },
    {
      "cell_type": "code",
      "execution_count": null,
      "metadata": {},
      "outputs": [],
      "source": [
        "sns.displot(df_sygnals, x='efficiency', hue = 'channel', multiple=\"dodge\")\n",
        "plt.title(\"Distribucion de eficiencia por canal\")"
      ]
    },
    {
      "cell_type": "markdown",
      "metadata": {},
      "source": [
        "## Vistazo de cantidad de operaciones con ganancia y sin ganancia"
      ]
    },
    {
      "cell_type": "code",
      "execution_count": null,
      "metadata": {},
      "outputs": [],
      "source": [
        "is_profit:pd.Series=df_sygnals[\"efficiency\"].dropna().agg(lambda x: \"profit\" if x > 0 else \"no_profit\")\n",
        "is_profit.name=\"is_profit\""
      ]
    },
    {
      "cell_type": "code",
      "execution_count": null,
      "metadata": {},
      "outputs": [],
      "source": [
        "df_isprofit=pd.concat([df_sygnals[[\"efficiency\",\"channel\",\"symbol\",\"_id\"]],is_profit],axis=1)"
      ]
    },
    {
      "cell_type": "code",
      "execution_count": null,
      "metadata": {},
      "outputs": [],
      "source": [
        "sns.histplot(df_isprofit, x='is_profit', hue = 'channel', multiple=\"dodge\",palette=\"Set2\")\n",
        "plt.title(\"Distribucion de profit por canal\")"
      ]
    },
    {
      "cell_type": "markdown",
      "metadata": {},
      "source": [
        "## Cantidad de operaciones por criptomoneda"
      ]
    },
    {
      "cell_type": "markdown",
      "metadata": {},
      "source": [
        "### Cantidad de symbolos y pares"
      ]
    },
    {
      "cell_type": "code",
      "execution_count": null,
      "metadata": {},
      "outputs": [],
      "source": [
        "df_sygnals[\"symbol\"].unique()"
      ]
    },
    {
      "cell_type": "code",
      "execution_count": null,
      "metadata": {},
      "outputs": [],
      "source": [
        "df_sygnals.columns"
      ]
    },
    {
      "cell_type": "code",
      "execution_count": null,
      "metadata": {},
      "outputs": [],
      "source": [
        "df_sygnals['primary_currencies'].unique()\n"
      ]
    },
    {
      "cell_type": "code",
      "execution_count": null,
      "metadata": {},
      "outputs": [],
      "source": [
        "df_sygnals['segundary_currencies'].unique()\n"
      ]
    },
    {
      "cell_type": "code",
      "execution_count": null,
      "metadata": {},
      "outputs": [],
      "source": [
        "'Crypto Futures Spot Signals', 'Coin|Coach|Signals', 'Bitcoin Bullets VIP Free', 'Federal Russian Insiders VIP Free'"
      ]
    },
    {
      "cell_type": "markdown",
      "metadata": {},
      "source": [
        "### 'Crypto Futures Spot Signals'"
      ]
    },
    {
      "cell_type": "code",
      "execution_count": null,
      "metadata": {},
      "outputs": [],
      "source": []
    },
    {
      "cell_type": "code",
      "execution_count": null,
      "metadata": {},
      "outputs": [],
      "source": [
        "#construir df para graficar\n",
        "\n",
        "canal='Crypto Futures Spot Signals'\n",
        "\n",
        "df_prf=df_isprofit.groupby([\"channel\"]).get_group(canal)\n",
        "df_prf[\"quantity\"]=df_prf.agg(lambda x: (dict(df_prf.value_counts(\"symbol\"))[x[\"symbol\"]]/len(df_prf[\"symbol\"].unique()))*100,axis=1)\n",
        "df_prf.sort_values(\"quantity\",ascending=False)\n",
        "\n",
        "\n",
        "\n",
        "sns.set(rc={'figure.figsize':(10,12)},font_scale=1)\n",
        "sns.histplot(df_prf.sort_values(\"quantity\",ascending=False).head(270), y=\"symbol\", hue= 'is_profit', multiple=\"dodge\",palette=\"Set1\")\n",
        "\n",
        "plt.title(canal)\n",
        "\n",
        "print(f\"\"\"cantidad de symbolos {len(df_prf[\"symbol\"].unique())}\"\"\")\n",
        "print(f\"\"\"cantidad por symbolo {df_prf.value_counts(\"symbol\").head(7)}\"\"\")\n"
      ]
    },
    {
      "cell_type": "markdown",
      "metadata": {},
      "source": [
        "### 'Coin|Coach|Signals'"
      ]
    },
    {
      "cell_type": "code",
      "execution_count": null,
      "metadata": {},
      "outputs": [],
      "source": []
    },
    {
      "cell_type": "code",
      "execution_count": null,
      "metadata": {},
      "outputs": [],
      "source": [
        "#construir df para graficar\n",
        "\n",
        "canal='Coin|Coach|Signals'\n",
        "\n",
        "df_prf=df_isprofit.groupby([\"channel\"]).get_group(canal)\n",
        "df_prf[\"quantity\"]=df_prf.agg(lambda x: (dict(df_prf.value_counts(\"symbol\"))[x[\"symbol\"]]/len(df_prf[\"symbol\"].unique()))*100,axis=1)\n",
        "df_prf.sort_values(\"quantity\",ascending=False)\n",
        "\n",
        "\n",
        "\n",
        "sns.set(rc={'figure.figsize':(10,10)},font_scale=1)\n",
        "sns.histplot(df_prf.sort_values(\"quantity\",ascending=False).head(250), y=\"symbol\", hue= 'is_profit', multiple=\"dodge\",palette=\"Set1\")\n",
        "\n",
        "plt.title(canal)\n",
        "\n",
        "print(f\"\"\"cantidad de symbolos {len(df_prf[\"symbol\"].unique())}\"\"\")\n",
        "print(f\"\"\"cantidad por symbolo {df_prf.value_counts(\"symbol\").head(7)}\"\"\")"
      ]
    },
    {
      "cell_type": "markdown",
      "metadata": {},
      "source": [
        "### 'Bitcoin Bullets VIP Free'"
      ]
    },
    {
      "cell_type": "code",
      "execution_count": null,
      "metadata": {},
      "outputs": [],
      "source": []
    },
    {
      "cell_type": "code",
      "execution_count": null,
      "metadata": {},
      "outputs": [],
      "source": [
        "#construir df para graficar\n",
        "\n",
        "canal='Bitcoin Bullets VIP Free'\n",
        "\n",
        "df_prf=df_isprofit.groupby([\"channel\"]).get_group(canal)\n",
        "df_prf[\"quantity\"]=df_prf.agg(lambda x: (dict(df_prf.value_counts(\"symbol\"))[x[\"symbol\"]]/len(df_prf[\"symbol\"].unique()))*100,axis=1)\n",
        "df_prf.sort_values(\"quantity\",ascending=False)\n",
        "\n",
        "\n",
        "\n",
        "sns.set(rc={'figure.figsize':(10,15)},font_scale=1)\n",
        "sns.histplot(df_prf.sort_values(\"quantity\",ascending=False), y=\"symbol\", hue= 'is_profit', multiple=\"dodge\",palette=\"Set1\")\n",
        "\n",
        "plt.title(canal)\n",
        "\n",
        "print(f\"\"\"cantidad de symbolos {len(df_prf[\"symbol\"].unique())}\"\"\")\n",
        "print(f\"\"\"cantidad por symbolo {df_prf.value_counts(\"symbol\").head(7)}\"\"\")"
      ]
    },
    {
      "cell_type": "markdown",
      "metadata": {},
      "source": [
        "### 'Federal Russian Insiders VIP Free'"
      ]
    },
    {
      "cell_type": "code",
      "execution_count": null,
      "metadata": {},
      "outputs": [],
      "source": []
    },
    {
      "cell_type": "code",
      "execution_count": null,
      "metadata": {},
      "outputs": [],
      "source": [
        "#construir df para graficar\n",
        "\n",
        "canal='Federal Russian Insiders VIP Free'\n",
        "\n",
        "df_prf=df_isprofit.groupby([\"channel\"]).get_group(canal)\n",
        "df_prf[\"quantity\"]=df_prf.agg(lambda x: (dict(df_prf.value_counts(\"symbol\"))[x[\"symbol\"]]/len(df_prf[\"symbol\"].unique()))*100,axis=1)\n",
        "df_prf.sort_values(\"quantity\",ascending=False)\n",
        "\n",
        "\n",
        "\n",
        "sns.set(rc={'figure.figsize':(10,15)},font_scale=1)\n",
        "sns.histplot(df_prf.sort_values(\"quantity\",ascending=False), y=\"symbol\", hue= 'is_profit', multiple=\"dodge\",palette=\"Set1\")\n",
        "\n",
        "plt.title(canal)\n",
        "\n",
        "print(f\"\"\"cantidad de symbolos {len(df_prf[\"symbol\"].unique())}\"\"\")\n",
        "print(f\"\"\"cantidad por symbolo {df_prf.value_counts(\"symbol\").head(7)}\"\"\")"
      ]
    },
    {
      "cell_type": "markdown",
      "metadata": {},
      "source": [
        "## variaciones de tiempos segun canal"
      ]
    },
    {
      "cell_type": "code",
      "execution_count": null,
      "metadata": {},
      "outputs": [],
      "source": [
        "df_sygnals.columns,df_sygnals.shape\n",
        "timedeltaP=(df_sygnals['first_dates_stoploss'].iloc[6]-df_sygnals['date'].iloc[6])"
      ]
    },
    {
      "cell_type": "code",
      "execution_count": null,
      "metadata": {},
      "outputs": [],
      "source": [
        "df_isprofit.columns,df_isprofit[\"channel\"].unique()"
      ]
    },
    {
      "cell_type": "code",
      "execution_count": null,
      "metadata": {},
      "outputs": [],
      "source": [
        "df_times.columns,df_times.shape"
      ]
    },
    {
      "cell_type": "code",
      "execution_count": null,
      "metadata": {},
      "outputs": [],
      "source": [
        "def delta_time_ca(x):\n",
        "    return str(timedelta(seconds=x))"
      ]
    },
    {
      "cell_type": "code",
      "execution_count": null,
      "metadata": {},
      "outputs": [],
      "source": [
        "df_sygnals_2=pd.concat([df_isprofit,df_times],axis=1)"
      ]
    },
    {
      "cell_type": "code",
      "execution_count": null,
      "metadata": {},
      "outputs": [],
      "source": [
        "mask=(df_sygnals_2[\"is_profit\"]==\"profit\") & (df_sygnals_2[\"channel\"]==\"Crypto Futures Spot Signals\") & (df_times[\"d_e\"]!=False)& (df_times[\"d_p\"]!=False) & (df_times[\"e_p\"]!=False) & (df_times[\"d_s\"]!=False)\n",
        "df_sygnals_2[mask][['d_e', 'd_p', 'e_p', 'd_s']].apply([max,min,np.mean, np.median])#.apply(lambda x : list(map(delta_time_ca,x)) )"
      ]
    },
    {
      "cell_type": "code",
      "execution_count": null,
      "metadata": {},
      "outputs": [],
      "source": [
        "mask=(df_sygnals_2[\"is_profit\"]==\"profit\") & (df_sygnals_2[\"channel\"]==\"Crypto Futures Spot Signals\") & (df_times[\"d_e\"]!=False)& (df_times[\"d_p\"]!=False) & (df_times[\"e_p\"]!=False) & (df_times[\"d_s\"]!=False)\n",
        "df_sygnals_2[mask][['d_e', 'd_p', 'e_p', 'd_s']].apply([max,min,np.mean, np.median]).apply(lambda x : list(map(delta_time_ca,x)) )"
      ]
    },
    {
      "cell_type": "code",
      "execution_count": null,
      "metadata": {},
      "outputs": [],
      "source": [
        "str(timedelta(seconds=5.048409e+07))"
      ]
    },
    {
      "cell_type": "code",
      "execution_count": null,
      "metadata": {},
      "outputs": [],
      "source": [
        "df_sygnals_2[mask][['d_e', 'd_p', 'e_p', 'd_s']].transform(lambda x: round(x/3600))"
      ]
    },
    {
      "cell_type": "code",
      "execution_count": null,
      "metadata": {},
      "outputs": [],
      "source": [
        "df_sygnals_2[mask][['d_s']].max()"
      ]
    },
    {
      "cell_type": "code",
      "execution_count": null,
      "metadata": {},
      "outputs": [],
      "source": [
        "round(50484089.0/3600)"
      ]
    },
    {
      "cell_type": "code",
      "execution_count": null,
      "metadata": {},
      "outputs": [],
      "source": [
        "pd.concat([\n",
        "    (df_times[df_times[\"d_e\"]!=False][\"d_e\"].agg([min,max,np.mean,np.median])).apply(lambda x: str(timedelta(seconds=x))),\n",
        "    df_times[df_times[\"d_p\"]!=False][\"d_p\"].agg([min,max,np.mean,np.median]).apply(lambda x: str(timedelta(seconds=x))),\n",
        "    df_times[df_times[\"e_p\"]!=False][\"e_p\"].agg([min,max,np.mean,np.median]).apply(lambda x: str(timedelta(seconds=x))),\n",
        "    df_times[df_times[\"d_s\"]!=False][\"d_s\"].agg([min,max,np.mean,np.median]).apply(lambda x: str(timedelta(seconds=x))),\n",
        "],axis=1)"
      ]
    }
  ],
  "metadata": {
    "colab": {
      "collapsed_sections": [
        "dcjnPCF1jYP8"
      ],
      "name": "Exploracion de los datos pasantias.ipynb",
      "provenance": []
    },
    "kernelspec": {
      "display_name": "Python 3.9.12 ('pasanti_venv')",
      "language": "python",
      "name": "python3"
    },
    "language_info": {
      "codemirror_mode": {
        "name": "ipython",
        "version": 3
      },
      "file_extension": ".py",
      "mimetype": "text/x-python",
      "name": "python",
      "nbconvert_exporter": "python",
      "pygments_lexer": "ipython3",
      "version": "3.9.7"
    },
    "vscode": {
      "interpreter": {
        "hash": "a14bdbe9f715ea087dcd1ac157ff383c1803eb47c6bf2fe043eef5111c475d5c"
      }
    }
  },
  "nbformat": 4,
  "nbformat_minor": 0
}
