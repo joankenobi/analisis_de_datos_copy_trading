{
  "cells": [
    {
      "cell_type": "code",
      "execution_count": 4,
      "metadata": {
        "id": "c8rtN-O8iS7X"
      },
      "outputs": [],
      "source": [
        "import pandas as pd\n",
        "import numpy as np\n",
        "from datetime import datetime, timedelta\n",
        "import matplotlib.pyplot as plt\n",
        "import seaborn as sns\n",
        "from pandas import NA, NaT"
      ]
    },
    {
      "cell_type": "markdown",
      "metadata": {
        "id": "dcjnPCF1jYP8"
      },
      "source": [
        "### Leer .csv pasanti"
      ]
    },
    {
      "cell_type": "code",
      "execution_count": 5,
      "metadata": {
        "id": "7gAsNiC1jWRT"
      },
      "outputs": [],
      "source": [
        "df=pd.read_csv(\"pasanti_sygnals.csv\")"
      ]
    },
    {
      "cell_type": "code",
      "execution_count": 6,
      "metadata": {
        "id": "QEySXK88pEVM"
      },
      "outputs": [],
      "source": [
        "df_symbol=df.copy()\n",
        "df_symbol.drop(columns=\"Unnamed: 0\",inplace=True)"
      ]
    },
    {
      "cell_type": "markdown",
      "metadata": {
        "id": "sp0zr7q5ovEm"
      },
      "source": [
        "### Ajustar los tipos de datos"
      ]
    },
    {
      "cell_type": "code",
      "execution_count": 7,
      "metadata": {
        "colab": {
          "base_uri": "https://localhost:8080/"
        },
        "id": "Nzko3ztBoNPU",
        "outputId": "b3a96e84-dd12-49f8-8f14-9074434e5f20"
      },
      "outputs": [
        {
          "name": "stdout",
          "output_type": "stream",
          "text": [
            "<class 'pandas.core.frame.DataFrame'>\n",
            "RangeIndex: 1554 entries, 0 to 1553\n",
            "Data columns (total 32 columns):\n",
            " #   Column                          Non-Null Count  Dtype  \n",
            "---  ------                          --------------  -----  \n",
            " 0   _id                             1554 non-null   object \n",
            " 1   symbol                          1554 non-null   object \n",
            " 2   is_long                         1554 non-null   bool   \n",
            " 3   is_entry_market                 1554 non-null   bool   \n",
            " 4   entry_targets                   1554 non-null   object \n",
            " 5   take_profit_targets             1554 non-null   object \n",
            " 6   stop_targets                    1554 non-null   object \n",
            " 7   date                            1554 non-null   object \n",
            " 8   channel                         1554 non-null   object \n",
            " 9   channel_id                      1554 non-null   int64  \n",
            " 10  message_link                    1554 non-null   object \n",
            " 11  dates_entry                     1544 non-null   object \n",
            " 12  dates_stoploss                  1544 non-null   object \n",
            " 13  dates_profit                    1544 non-null   object \n",
            " 14  efficiency                      1544 non-null   float64\n",
            " 15  error_ta_recomendation          72 non-null     object \n",
            " 16  error_prophettesting            10 non-null     object \n",
            " 17  error_backtesting               10 non-null     object \n",
            " 18  primary_currencies              1554 non-null   object \n",
            " 19  segundary_currencies            1554 non-null   object \n",
            " 20  type_leverage                   528 non-null    object \n",
            " 21  is_cross_leverage               1554 non-null   bool   \n",
            " 22  percent_leverage                1554 non-null   int64  \n",
            " 23  percent_trailing_configuration  1554 non-null   int64  \n",
            " 24  AO                              1441 non-null   object \n",
            " 25  RSI                             1441 non-null   object \n",
            " 26  ADX                             1441 non-null   object \n",
            " 27  CCI20                           1441 non-null   object \n",
            " 28  Stoch                           1441 non-null   object \n",
            " 29  first_dates_entry               1544 non-null   object \n",
            " 30  first_dates_stoploss            1544 non-null   object \n",
            " 31  first_dates_profit              1544 non-null   object \n",
            "dtypes: bool(3), float64(1), int64(3), object(25)\n",
            "memory usage: 356.8+ KB\n"
          ]
        }
      ],
      "source": [
        "# determinar que tipo de datos hay en el data frame.\n",
        "df_symbol.info()\n"
      ]
    },
    {
      "cell_type": "code",
      "execution_count": 8,
      "metadata": {
        "id": "lrp3qfQjpszt"
      },
      "outputs": [],
      "source": [
        "# convertir los datos tipo str a un typo de dato mas adecuado\n",
        "df_symbol=df_symbol.convert_dtypes()"
      ]
    },
    {
      "cell_type": "code",
      "execution_count": 9,
      "metadata": {
        "colab": {
          "base_uri": "https://localhost:8080/"
        },
        "id": "Jaoz-l4usMky",
        "outputId": "821441dc-b7fe-4468-f2b8-a67631c184d4"
      },
      "outputs": [
        {
          "data": {
            "text/plain": [
              "Index(['_id', 'symbol', 'is_long', 'is_entry_market', 'entry_targets',\n",
              "       'take_profit_targets', 'stop_targets', 'date', 'channel', 'channel_id',\n",
              "       'message_link', 'dates_entry', 'dates_stoploss', 'dates_profit',\n",
              "       'efficiency', 'error_ta_recomendation', 'error_prophettesting',\n",
              "       'error_backtesting', 'primary_currencies', 'segundary_currencies',\n",
              "       'type_leverage', 'is_cross_leverage', 'percent_leverage',\n",
              "       'percent_trailing_configuration', 'AO', 'RSI', 'ADX', 'CCI20', 'Stoch',\n",
              "       'first_dates_entry', 'first_dates_stoploss', 'first_dates_profit'],\n",
              "      dtype='object')"
            ]
          },
          "execution_count": 9,
          "metadata": {},
          "output_type": "execute_result"
        }
      ],
      "source": [
        "df_symbol.columns"
      ]
    },
    {
      "cell_type": "markdown",
      "metadata": {
        "id": "14fm907wBXnr"
      },
      "source": [
        "### ajustar los datos de fechas"
      ]
    },
    {
      "cell_type": "code",
      "execution_count": 10,
      "metadata": {
        "id": "TO9_vqjertwc"
      },
      "outputs": [],
      "source": [
        "# pasar los datos str a datetime\n",
        "df_symbol['date']=pd.to_datetime(df_symbol['date'])"
      ]
    },
    {
      "cell_type": "code",
      "execution_count": 11,
      "metadata": {
        "id": "s6IJjvps--L3"
      },
      "outputs": [],
      "source": [
        "# extraer la primera fecha del conjunto de fechas.\n",
        "def extrat(x):\n",
        "  if type(x) == type(NA):\n",
        "    return x\n",
        "  if x == \"False\":\n",
        "    return False\n",
        "  if x == \"never\":\n",
        "    return \"never\"\n",
        "  else:\n",
        "    return pd.to_datetime(x)\n"
      ]
    },
    {
      "cell_type": "code",
      "execution_count": 12,
      "metadata": {
        "id": "TaCgakFo8BCF"
      },
      "outputs": [],
      "source": [
        "df_symbol['first_dates_entry']=df_symbol['first_dates_entry'].agg(lambda x: extrat(x))\n",
        "df_symbol['first_dates_stoploss']=df_symbol['first_dates_stoploss'].agg(lambda x: extrat(x))\n",
        "df_symbol['first_dates_profit']=df_symbol['first_dates_profit'].agg(lambda x: extrat(x))"
      ]
    },
    {
      "cell_type": "markdown",
      "metadata": {
        "id": "AxwDxLcLeguI"
      },
      "source": [
        "## Calcular el tiempo transcurrido entre fechas"
      ]
    },
    {
      "cell_type": "code",
      "execution_count": 13,
      "metadata": {
        "colab": {
          "base_uri": "https://localhost:8080/",
          "height": 424
        },
        "id": "Hm7UCr9wBj8P",
        "outputId": "da292ca2-4f33-4198-f601-4982e6a5cf3f"
      },
      "outputs": [
        {
          "data": {
            "text/html": [
              "<div>\n",
              "<style scoped>\n",
              "    .dataframe tbody tr th:only-of-type {\n",
              "        vertical-align: middle;\n",
              "    }\n",
              "\n",
              "    .dataframe tbody tr th {\n",
              "        vertical-align: top;\n",
              "    }\n",
              "\n",
              "    .dataframe thead th {\n",
              "        text-align: right;\n",
              "    }\n",
              "</style>\n",
              "<table border=\"1\" class=\"dataframe\">\n",
              "  <thead>\n",
              "    <tr style=\"text-align: right;\">\n",
              "      <th></th>\n",
              "      <th>date</th>\n",
              "      <th>first_dates_profit</th>\n",
              "      <th>first_dates_stoploss</th>\n",
              "      <th>first_dates_entry</th>\n",
              "    </tr>\n",
              "  </thead>\n",
              "  <tbody>\n",
              "    <tr>\n",
              "      <th>0</th>\n",
              "      <td>2020-08-28 10:19:36</td>\n",
              "      <td>False</td>\n",
              "      <td>False</td>\n",
              "      <td>False</td>\n",
              "    </tr>\n",
              "    <tr>\n",
              "      <th>1</th>\n",
              "      <td>2020-09-14 07:10:46</td>\n",
              "      <td>False</td>\n",
              "      <td>False</td>\n",
              "      <td>False</td>\n",
              "    </tr>\n",
              "    <tr>\n",
              "      <th>2</th>\n",
              "      <td>2020-09-20 00:30:24</td>\n",
              "      <td>False</td>\n",
              "      <td>False</td>\n",
              "      <td>False</td>\n",
              "    </tr>\n",
              "    <tr>\n",
              "      <th>3</th>\n",
              "      <td>2020-09-23 07:41:41</td>\n",
              "      <td>False</td>\n",
              "      <td>False</td>\n",
              "      <td>False</td>\n",
              "    </tr>\n",
              "    <tr>\n",
              "      <th>4</th>\n",
              "      <td>2020-10-09 08:59:19</td>\n",
              "      <td>False</td>\n",
              "      <td>False</td>\n",
              "      <td>False</td>\n",
              "    </tr>\n",
              "    <tr>\n",
              "      <th>...</th>\n",
              "      <td>...</td>\n",
              "      <td>...</td>\n",
              "      <td>...</td>\n",
              "      <td>...</td>\n",
              "    </tr>\n",
              "    <tr>\n",
              "      <th>1549</th>\n",
              "      <td>2022-06-14 15:28:40</td>\n",
              "      <td>2022-06-15 14:45:00</td>\n",
              "      <td>never</td>\n",
              "      <td>2022-06-14 15:30:00</td>\n",
              "    </tr>\n",
              "    <tr>\n",
              "      <th>1550</th>\n",
              "      <td>2022-06-15 12:10:40</td>\n",
              "      <td>2022-06-15 14:40:00</td>\n",
              "      <td>never</td>\n",
              "      <td>2022-06-15 12:15:00</td>\n",
              "    </tr>\n",
              "    <tr>\n",
              "      <th>1551</th>\n",
              "      <td>2022-06-16 11:50:41</td>\n",
              "      <td>2022-06-20 06:10:00</td>\n",
              "      <td>never</td>\n",
              "      <td>2022-06-16 12:25:00</td>\n",
              "    </tr>\n",
              "    <tr>\n",
              "      <th>1552</th>\n",
              "      <td>2022-06-17 13:22:41</td>\n",
              "      <td>False</td>\n",
              "      <td>False</td>\n",
              "      <td>False</td>\n",
              "    </tr>\n",
              "    <tr>\n",
              "      <th>1553</th>\n",
              "      <td>2022-06-17 13:32:39</td>\n",
              "      <td>2022-06-17 22:25:00</td>\n",
              "      <td>never</td>\n",
              "      <td>2022-06-17 14:10:00</td>\n",
              "    </tr>\n",
              "  </tbody>\n",
              "</table>\n",
              "<p>1554 rows × 4 columns</p>\n",
              "</div>"
            ],
            "text/plain": [
              "                    date   first_dates_profit first_dates_stoploss  \\\n",
              "0    2020-08-28 10:19:36                False                False   \n",
              "1    2020-09-14 07:10:46                False                False   \n",
              "2    2020-09-20 00:30:24                False                False   \n",
              "3    2020-09-23 07:41:41                False                False   \n",
              "4    2020-10-09 08:59:19                False                False   \n",
              "...                  ...                  ...                  ...   \n",
              "1549 2022-06-14 15:28:40  2022-06-15 14:45:00                never   \n",
              "1550 2022-06-15 12:10:40  2022-06-15 14:40:00                never   \n",
              "1551 2022-06-16 11:50:41  2022-06-20 06:10:00                never   \n",
              "1552 2022-06-17 13:22:41                False                False   \n",
              "1553 2022-06-17 13:32:39  2022-06-17 22:25:00                never   \n",
              "\n",
              "        first_dates_entry  \n",
              "0                   False  \n",
              "1                   False  \n",
              "2                   False  \n",
              "3                   False  \n",
              "4                   False  \n",
              "...                   ...  \n",
              "1549  2022-06-14 15:30:00  \n",
              "1550  2022-06-15 12:15:00  \n",
              "1551  2022-06-16 12:25:00  \n",
              "1552                False  \n",
              "1553  2022-06-17 14:10:00  \n",
              "\n",
              "[1554 rows x 4 columns]"
            ]
          },
          "execution_count": 13,
          "metadata": {},
          "output_type": "execute_result"
        }
      ],
      "source": [
        "# crear un df con las columnas de tiempo\n",
        "df_times=df_symbol.loc[:,[\"date\",\"first_dates_profit\",\"first_dates_stoploss\",\"first_dates_entry\"]]\n",
        "df_times"
      ]
    },
    {
      "cell_type": "code",
      "execution_count": 14,
      "metadata": {
        "id": "HzyaCv2fBrmu"
      },
      "outputs": [],
      "source": [
        "# funcion que calcula la diferencia entre dos fechas\n",
        "def delta_time(d,e):\n",
        "  d_e=False\n",
        "  if type(e)==type(d) and type(e)!= bool and e is not NA:\n",
        "    d_e=e-d\n",
        "    d_e=d_e.total_seconds()\n",
        "  return d_e"
      ]
    },
    {
      "cell_type": "code",
      "execution_count": 15,
      "metadata": {
        "id": "UH82VlanB0cU"
      },
      "outputs": [],
      "source": [
        "# nuevas columnas de diferencias entre fechas\n",
        "df_times[\"d_e\"]=df_times.agg(lambda x: delta_time(x.date,x.first_dates_entry),axis=1)\n",
        "df_times[\"d_p\"]=df_times.agg(lambda x: delta_time(x.date,x.first_dates_profit),axis=1)\n",
        "df_times[\"e_p\"]=df_times.agg(lambda x: delta_time(x.first_dates_entry,x.first_dates_profit),axis=1)\n",
        "df_times[\"d_s\"]=df_times.agg(lambda x: delta_time(x.date,x.first_dates_stoploss),axis=1)"
      ]
    },
    {
      "cell_type": "code",
      "execution_count": 16,
      "metadata": {},
      "outputs": [
        {
          "data": {
            "text/html": [
              "<div>\n",
              "<style scoped>\n",
              "    .dataframe tbody tr th:only-of-type {\n",
              "        vertical-align: middle;\n",
              "    }\n",
              "\n",
              "    .dataframe tbody tr th {\n",
              "        vertical-align: top;\n",
              "    }\n",
              "\n",
              "    .dataframe thead th {\n",
              "        text-align: right;\n",
              "    }\n",
              "</style>\n",
              "<table border=\"1\" class=\"dataframe\">\n",
              "  <thead>\n",
              "    <tr style=\"text-align: right;\">\n",
              "      <th></th>\n",
              "      <th>date</th>\n",
              "      <th>first_dates_profit</th>\n",
              "      <th>first_dates_stoploss</th>\n",
              "      <th>first_dates_entry</th>\n",
              "      <th>d_e</th>\n",
              "      <th>d_p</th>\n",
              "      <th>e_p</th>\n",
              "      <th>d_s</th>\n",
              "    </tr>\n",
              "  </thead>\n",
              "  <tbody>\n",
              "    <tr>\n",
              "      <th>0</th>\n",
              "      <td>2020-08-28 10:19:36</td>\n",
              "      <td>False</td>\n",
              "      <td>False</td>\n",
              "      <td>False</td>\n",
              "      <td>False</td>\n",
              "      <td>False</td>\n",
              "      <td>False</td>\n",
              "      <td>False</td>\n",
              "    </tr>\n",
              "    <tr>\n",
              "      <th>1</th>\n",
              "      <td>2020-09-14 07:10:46</td>\n",
              "      <td>False</td>\n",
              "      <td>False</td>\n",
              "      <td>False</td>\n",
              "      <td>False</td>\n",
              "      <td>False</td>\n",
              "      <td>False</td>\n",
              "      <td>False</td>\n",
              "    </tr>\n",
              "    <tr>\n",
              "      <th>2</th>\n",
              "      <td>2020-09-20 00:30:24</td>\n",
              "      <td>False</td>\n",
              "      <td>False</td>\n",
              "      <td>False</td>\n",
              "      <td>False</td>\n",
              "      <td>False</td>\n",
              "      <td>False</td>\n",
              "      <td>False</td>\n",
              "    </tr>\n",
              "    <tr>\n",
              "      <th>3</th>\n",
              "      <td>2020-09-23 07:41:41</td>\n",
              "      <td>False</td>\n",
              "      <td>False</td>\n",
              "      <td>False</td>\n",
              "      <td>False</td>\n",
              "      <td>False</td>\n",
              "      <td>False</td>\n",
              "      <td>False</td>\n",
              "    </tr>\n",
              "    <tr>\n",
              "      <th>4</th>\n",
              "      <td>2020-10-09 08:59:19</td>\n",
              "      <td>False</td>\n",
              "      <td>False</td>\n",
              "      <td>False</td>\n",
              "      <td>False</td>\n",
              "      <td>False</td>\n",
              "      <td>False</td>\n",
              "      <td>False</td>\n",
              "    </tr>\n",
              "    <tr>\n",
              "      <th>...</th>\n",
              "      <td>...</td>\n",
              "      <td>...</td>\n",
              "      <td>...</td>\n",
              "      <td>...</td>\n",
              "      <td>...</td>\n",
              "      <td>...</td>\n",
              "      <td>...</td>\n",
              "      <td>...</td>\n",
              "    </tr>\n",
              "    <tr>\n",
              "      <th>1549</th>\n",
              "      <td>2022-06-14 15:28:40</td>\n",
              "      <td>2022-06-15 14:45:00</td>\n",
              "      <td>never</td>\n",
              "      <td>2022-06-14 15:30:00</td>\n",
              "      <td>80.0</td>\n",
              "      <td>83780.0</td>\n",
              "      <td>83700.0</td>\n",
              "      <td>False</td>\n",
              "    </tr>\n",
              "    <tr>\n",
              "      <th>1550</th>\n",
              "      <td>2022-06-15 12:10:40</td>\n",
              "      <td>2022-06-15 14:40:00</td>\n",
              "      <td>never</td>\n",
              "      <td>2022-06-15 12:15:00</td>\n",
              "      <td>260.0</td>\n",
              "      <td>8960.0</td>\n",
              "      <td>8700.0</td>\n",
              "      <td>False</td>\n",
              "    </tr>\n",
              "    <tr>\n",
              "      <th>1551</th>\n",
              "      <td>2022-06-16 11:50:41</td>\n",
              "      <td>2022-06-20 06:10:00</td>\n",
              "      <td>never</td>\n",
              "      <td>2022-06-16 12:25:00</td>\n",
              "      <td>2059.0</td>\n",
              "      <td>325159.0</td>\n",
              "      <td>323100.0</td>\n",
              "      <td>False</td>\n",
              "    </tr>\n",
              "    <tr>\n",
              "      <th>1552</th>\n",
              "      <td>2022-06-17 13:22:41</td>\n",
              "      <td>False</td>\n",
              "      <td>False</td>\n",
              "      <td>False</td>\n",
              "      <td>False</td>\n",
              "      <td>False</td>\n",
              "      <td>False</td>\n",
              "      <td>False</td>\n",
              "    </tr>\n",
              "    <tr>\n",
              "      <th>1553</th>\n",
              "      <td>2022-06-17 13:32:39</td>\n",
              "      <td>2022-06-17 22:25:00</td>\n",
              "      <td>never</td>\n",
              "      <td>2022-06-17 14:10:00</td>\n",
              "      <td>2241.0</td>\n",
              "      <td>31941.0</td>\n",
              "      <td>29700.0</td>\n",
              "      <td>False</td>\n",
              "    </tr>\n",
              "  </tbody>\n",
              "</table>\n",
              "<p>1554 rows × 8 columns</p>\n",
              "</div>"
            ],
            "text/plain": [
              "                    date   first_dates_profit first_dates_stoploss  \\\n",
              "0    2020-08-28 10:19:36                False                False   \n",
              "1    2020-09-14 07:10:46                False                False   \n",
              "2    2020-09-20 00:30:24                False                False   \n",
              "3    2020-09-23 07:41:41                False                False   \n",
              "4    2020-10-09 08:59:19                False                False   \n",
              "...                  ...                  ...                  ...   \n",
              "1549 2022-06-14 15:28:40  2022-06-15 14:45:00                never   \n",
              "1550 2022-06-15 12:10:40  2022-06-15 14:40:00                never   \n",
              "1551 2022-06-16 11:50:41  2022-06-20 06:10:00                never   \n",
              "1552 2022-06-17 13:22:41                False                False   \n",
              "1553 2022-06-17 13:32:39  2022-06-17 22:25:00                never   \n",
              "\n",
              "        first_dates_entry     d_e       d_p       e_p    d_s  \n",
              "0                   False   False     False     False  False  \n",
              "1                   False   False     False     False  False  \n",
              "2                   False   False     False     False  False  \n",
              "3                   False   False     False     False  False  \n",
              "4                   False   False     False     False  False  \n",
              "...                   ...     ...       ...       ...    ...  \n",
              "1549  2022-06-14 15:30:00    80.0   83780.0   83700.0  False  \n",
              "1550  2022-06-15 12:15:00   260.0    8960.0    8700.0  False  \n",
              "1551  2022-06-16 12:25:00  2059.0  325159.0  323100.0  False  \n",
              "1552                False   False     False     False  False  \n",
              "1553  2022-06-17 14:10:00  2241.0   31941.0   29700.0  False  \n",
              "\n",
              "[1554 rows x 8 columns]"
            ]
          },
          "execution_count": 16,
          "metadata": {},
          "output_type": "execute_result"
        }
      ],
      "source": [
        "df_times"
      ]
    },
    {
      "cell_type": "code",
      "execution_count": 17,
      "metadata": {},
      "outputs": [
        {
          "data": {
            "text/plain": [
              "'421 days, 1:09:31'"
            ]
          },
          "execution_count": 17,
          "metadata": {},
          "output_type": "execute_result"
        }
      ],
      "source": [
        "# para ver los segundo en deltatime\n",
        "str(timedelta(seconds=153229.7503816794))\n",
        "str(timedelta(seconds=233928.42055084746))\n",
        "str(timedelta(seconds=36378571.0))"
      ]
    },
    {
      "cell_type": "code",
      "execution_count": 18,
      "metadata": {},
      "outputs": [
        {
          "data": {
            "text/html": [
              "<div>\n",
              "<style scoped>\n",
              "    .dataframe tbody tr th:only-of-type {\n",
              "        vertical-align: middle;\n",
              "    }\n",
              "\n",
              "    .dataframe tbody tr th {\n",
              "        vertical-align: top;\n",
              "    }\n",
              "\n",
              "    .dataframe thead th {\n",
              "        text-align: right;\n",
              "    }\n",
              "</style>\n",
              "<table border=\"1\" class=\"dataframe\">\n",
              "  <thead>\n",
              "    <tr style=\"text-align: right;\">\n",
              "      <th></th>\n",
              "      <th>d_e</th>\n",
              "      <th>d_p</th>\n",
              "      <th>e_p</th>\n",
              "      <th>d_s</th>\n",
              "    </tr>\n",
              "  </thead>\n",
              "  <tbody>\n",
              "    <tr>\n",
              "      <th>min</th>\n",
              "      <td>0:00:01</td>\n",
              "      <td>0:00:36</td>\n",
              "      <td>0:05:00</td>\n",
              "      <td>0:00:42</td>\n",
              "    </tr>\n",
              "    <tr>\n",
              "      <th>max</th>\n",
              "      <td>421 days, 1:09:31</td>\n",
              "      <td>421 days, 1:09:31</td>\n",
              "      <td>45 days, 1:10:00</td>\n",
              "      <td>584 days, 7:21:29</td>\n",
              "    </tr>\n",
              "    <tr>\n",
              "      <th>mean</th>\n",
              "      <td>1 day, 18:37:44.046636</td>\n",
              "      <td>2 days, 17:02:56.488865</td>\n",
              "      <td>21:42:22.708333</td>\n",
              "      <td>21 days, 16:48:22.957447</td>\n",
              "    </tr>\n",
              "    <tr>\n",
              "      <th>median</th>\n",
              "      <td>0:07:42.500000</td>\n",
              "      <td>6:28:34</td>\n",
              "      <td>4:45:00</td>\n",
              "      <td>5 days, 23:12:25</td>\n",
              "    </tr>\n",
              "  </tbody>\n",
              "</table>\n",
              "</div>"
            ],
            "text/plain": [
              "                           d_e                      d_p               e_p  \\\n",
              "min                    0:00:01                  0:00:36           0:05:00   \n",
              "max          421 days, 1:09:31        421 days, 1:09:31  45 days, 1:10:00   \n",
              "mean    1 day, 18:37:44.046636  2 days, 17:02:56.488865   21:42:22.708333   \n",
              "median          0:07:42.500000                  6:28:34           4:45:00   \n",
              "\n",
              "                             d_s  \n",
              "min                      0:00:42  \n",
              "max            584 days, 7:21:29  \n",
              "mean    21 days, 16:48:22.957447  \n",
              "median          5 days, 23:12:25  "
            ]
          },
          "execution_count": 18,
          "metadata": {},
          "output_type": "execute_result"
        }
      ],
      "source": [
        "# Calcular los min, max, mena, median y mostrar en formato timedelta\n",
        "\n",
        "pd.concat([\n",
        "    (df_times[df_times[\"d_e\"]!=False][\"d_e\"].agg([min,max,np.mean,np.median])).apply(lambda x: str(timedelta(seconds=x))),\n",
        "    df_times[df_times[\"d_p\"]!=False][\"d_p\"].agg([min,max,np.mean,np.median]).apply(lambda x: str(timedelta(seconds=x))),\n",
        "    df_times[df_times[\"e_p\"]!=False][\"e_p\"].agg([min,max,np.mean,np.median]).apply(lambda x: str(timedelta(seconds=x))),\n",
        "    df_times[df_times[\"d_s\"]!=False][\"d_s\"].agg([min,max,np.mean,np.median]).apply(lambda x: str(timedelta(seconds=x))),\n",
        "],axis=1)"
      ]
    },
    {
      "cell_type": "markdown",
      "metadata": {},
      "source": [
        "# Cantidad de señales por canal"
      ]
    },
    {
      "cell_type": "code",
      "execution_count": 45,
      "metadata": {},
      "outputs": [],
      "source": [
        "df_symbol[\"channel_id\"]=df_symbol[\"channel_id\"].astype(str)\n",
        "df_symbol[\"channel\"].replace('𝑪𝒐𝒊𝒏|𝑪𝒐𝒂𝒄𝒉|𝑺𝒊𝒈𝒏𝒂𝒍𝒔',\"Coin|Coach|Signals\",inplace=True)"
      ]
    },
    {
      "cell_type": "code",
      "execution_count": 41,
      "metadata": {},
      "outputs": [],
      "source": [
        "plt.rcParams[\"figure.figsize\"] = (20,10)"
      ]
    },
    {
      "cell_type": "code",
      "execution_count": 51,
      "metadata": {},
      "outputs": [
        {
          "data": {
            "text/plain": [
              "<AxesSubplot:xlabel='channel', ylabel='Count'>"
            ]
          },
          "execution_count": 51,
          "metadata": {},
          "output_type": "execute_result"
        },
        {
          "data": {
            "image/png": "[encoded data removed]",
            "text/plain": [
              "<Figure size 1080x360 with 1 Axes>"
            ]
          },
          "metadata": {},
          "output_type": "display_data"
        }
      ],
      "source": [
        "sns.set(rc={'figure.figsize':(15,5)})\n",
        "sns.histplot(df_symbol,x=\"channel\",hue=\"channel\" , palette=\"Set2\")\n"
      ]
    },
    {
      "cell_type": "markdown",
      "metadata": {},
      "source": [
        "## eficiencia de señales por canal"
      ]
    },
    {
      "cell_type": "code",
      "execution_count": 55,
      "metadata": {},
      "outputs": [
        {
          "data": {
            "text/plain": [
              "<StringArray>\n",
              "[     'Crypto Futures Spot Signals😘',                'Coin|Coach|Signals',\n",
              "          'Bitcoin Bullets VIP Free', 'Federal Russian Insiders VIP Free']\n",
              "Length: 4, dtype: string"
            ]
          },
          "execution_count": 55,
          "metadata": {},
          "output_type": "execute_result"
        }
      ],
      "source": [
        "df_symbol[\"channel\"].unique()"
      ]
    },
    {
      "cell_type": "code",
      "execution_count": 54,
      "metadata": {},
      "outputs": [],
      "source": [
        "efficiency_by_channel=df_symbol[[\"channel\",\"efficiency\"]].groupby(\"channel\")"
      ]
    },
    {
      "cell_type": "code",
      "execution_count": 68,
      "metadata": {},
      "outputs": [
        {
          "data": {
            "text/plain": [
              "channel\n",
              "Bitcoin Bullets VIP Free             [[AxesSubplot(0.125,0.125;0.775x0.755)]]\n",
              "Coin|Coach|Signals                   [[AxesSubplot(0.125,0.125;0.775x0.755)]]\n",
              "Crypto Futures Spot Signals😘         [[AxesSubplot(0.125,0.125;0.775x0.755)]]\n",
              "Federal Russian Insiders VIP Free    [[AxesSubplot(0.125,0.125;0.775x0.755)]]\n",
              "dtype: object"
            ]
          },
          "execution_count": 68,
          "metadata": {},
          "output_type": "execute_result"
        },
        {
          "data": {
            "image/png": "[encoded data removed]",
            "text/plain": [
              "<Figure size 1080x360 with 1 Axes>"
            ]
          },
          "metadata": {},
          "output_type": "display_data"
        },
        {
          "data": {
            "image/png": "[encoded data removed]",
            "text/plain": [
              "<Figure size 1080x360 with 1 Axes>"
            ]
          },
          "metadata": {},
          "output_type": "display_data"
        },
        {
          "data": {
            "image/png": "[encoded data removed]",
            "text/plain": [
              "<Figure size 1080x360 with 1 Axes>"
            ]
          },
          "metadata": {},
          "output_type": "display_data"
        },
        {
          "data": {
            "image/png": "[encoded data removed]",
            "text/plain": [
              "<Figure size 1080x360 with 1 Axes>"
            ]
          },
          "metadata": {},
          "output_type": "display_data"
        }
      ],
      "source": [
        "efficiency_by_channel.hist()"
      ]
    },
    {
      "cell_type": "code",
      "execution_count": 66,
      "metadata": {},
      "outputs": [
        {
          "data": {
            "text/plain": [
              "Text(0.5, 1.0, 'Crypto Futures Spot Signals😘')"
            ]
          },
          "execution_count": 66,
          "metadata": {},
          "output_type": "execute_result"
        },
        {
          "data": {
            "image/png": "[encoded data removed]",
            "text/plain": [
              "<Figure size 1080x360 with 1 Axes>"
            ]
          },
          "metadata": {},
          "output_type": "display_data"
        }
      ],
      "source": [
        "sns.histplot(efficiency_by_channel.get_group('Crypto Futures Spot Signals😘'))\n",
        "plt.title('Crypto Futures Spot Signals😘')"
      ]
    },
    {
      "cell_type": "code",
      "execution_count": 59,
      "metadata": {},
      "outputs": [
        {
          "data": {
            "text/html": [
              "<div>\n",
              "<style scoped>\n",
              "    .dataframe tbody tr th:only-of-type {\n",
              "        vertical-align: middle;\n",
              "    }\n",
              "\n",
              "    .dataframe tbody tr th {\n",
              "        vertical-align: top;\n",
              "    }\n",
              "\n",
              "    .dataframe thead th {\n",
              "        text-align: right;\n",
              "    }\n",
              "</style>\n",
              "<table border=\"1\" class=\"dataframe\">\n",
              "  <thead>\n",
              "    <tr style=\"text-align: right;\">\n",
              "      <th></th>\n",
              "      <th>channel</th>\n",
              "      <th>efficiency</th>\n",
              "    </tr>\n",
              "  </thead>\n",
              "  <tbody>\n",
              "    <tr>\n",
              "      <th>0</th>\n",
              "      <td>Crypto Futures Spot Signals😘</td>\n",
              "      <td>0.0</td>\n",
              "    </tr>\n",
              "    <tr>\n",
              "      <th>1</th>\n",
              "      <td>Crypto Futures Spot Signals😘</td>\n",
              "      <td>0.0</td>\n",
              "    </tr>\n",
              "    <tr>\n",
              "      <th>2</th>\n",
              "      <td>Crypto Futures Spot Signals😘</td>\n",
              "      <td>0.0</td>\n",
              "    </tr>\n",
              "    <tr>\n",
              "      <th>3</th>\n",
              "      <td>Crypto Futures Spot Signals😘</td>\n",
              "      <td>0.0</td>\n",
              "    </tr>\n",
              "    <tr>\n",
              "      <th>4</th>\n",
              "      <td>Crypto Futures Spot Signals😘</td>\n",
              "      <td>0.0</td>\n",
              "    </tr>\n",
              "    <tr>\n",
              "      <th>...</th>\n",
              "      <td>...</td>\n",
              "      <td>...</td>\n",
              "    </tr>\n",
              "    <tr>\n",
              "      <th>523</th>\n",
              "      <td>Crypto Futures Spot Signals😘</td>\n",
              "      <td>0.0</td>\n",
              "    </tr>\n",
              "    <tr>\n",
              "      <th>524</th>\n",
              "      <td>Crypto Futures Spot Signals😘</td>\n",
              "      <td>100.0</td>\n",
              "    </tr>\n",
              "    <tr>\n",
              "      <th>525</th>\n",
              "      <td>Crypto Futures Spot Signals😘</td>\n",
              "      <td>0.0</td>\n",
              "    </tr>\n",
              "    <tr>\n",
              "      <th>526</th>\n",
              "      <td>Crypto Futures Spot Signals😘</td>\n",
              "      <td>0.0</td>\n",
              "    </tr>\n",
              "    <tr>\n",
              "      <th>527</th>\n",
              "      <td>Crypto Futures Spot Signals😘</td>\n",
              "      <td>100.0</td>\n",
              "    </tr>\n",
              "  </tbody>\n",
              "</table>\n",
              "<p>528 rows × 2 columns</p>\n",
              "</div>"
            ],
            "text/plain": [
              "                          channel  efficiency\n",
              "0    Crypto Futures Spot Signals😘         0.0\n",
              "1    Crypto Futures Spot Signals😘         0.0\n",
              "2    Crypto Futures Spot Signals😘         0.0\n",
              "3    Crypto Futures Spot Signals😘         0.0\n",
              "4    Crypto Futures Spot Signals😘         0.0\n",
              "..                            ...         ...\n",
              "523  Crypto Futures Spot Signals😘         0.0\n",
              "524  Crypto Futures Spot Signals😘       100.0\n",
              "525  Crypto Futures Spot Signals😘         0.0\n",
              "526  Crypto Futures Spot Signals😘         0.0\n",
              "527  Crypto Futures Spot Signals😘       100.0\n",
              "\n",
              "[528 rows x 2 columns]"
            ]
          },
          "execution_count": 59,
          "metadata": {},
          "output_type": "execute_result"
        }
      ],
      "source": [
        "efficiency_by_channel.get_group('Crypto Futures Spot Signals😘')"
      ]
    }
  ],
  "metadata": {
    "colab": {
      "collapsed_sections": [
        "dcjnPCF1jYP8"
      ],
      "name": "Exploracion de los datos pasantias.ipynb",
      "provenance": []
    },
    "kernelspec": {
      "display_name": "Python 3.9.12 ('pasanti_venv')",
      "language": "python",
      "name": "python3"
    },
    "language_info": {
      "codemirror_mode": {
        "name": "ipython",
        "version": 3
      },
      "file_extension": ".py",
      "mimetype": "text/x-python",
      "name": "python",
      "nbconvert_exporter": "python",
      "pygments_lexer": "ipython3",
      "version": "3.9.7"
    },
    "vscode": {
      "interpreter": {
        "hash": "a14bdbe9f715ea087dcd1ac157ff383c1803eb47c6bf2fe043eef5111c475d5c"
      }
    }
  },
  "nbformat": 4,
  "nbformat_minor": 0
}
