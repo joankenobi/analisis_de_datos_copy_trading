{
 "cells": [
  {
   "cell_type": "code",
   "execution_count": 2,
   "metadata": {},
   "outputs": [],
   "source": [
    "from pymongo import MongoClient\n"
   ]
  },
  {
   "cell_type": "code",
   "execution_count": null,
   "metadata": {},
   "outputs": [],
   "source": []
  },
  {
   "cell_type": "code",
   "execution_count": 1,
   "metadata": {},
   "outputs": [],
   "source": [
    "import pandas as pd\n",
    "import numpy as np\n",
    "import seaborn as sns\n",
    "import matplotlib.pyplot as plt\n",
    "#import binance\n",
    "from datetime import datetime\n",
    "from dateutil import parser\n",
    "pd.options.display.float_format=\"{:,.1f}\".format"
   ]
  },
  {
   "cell_type": "code",
   "execution_count": 11,
   "metadata": {},
   "outputs": [],
   "source": [
    "#df_sygnal_data = pd.read_csv(\"sygnals_operations.csv\")\n",
    "df_sygnal_data:pd.DataFrame = pd.read_pickle(\"sygnals_operations.pickle\")"
   ]
  },
  {
   "cell_type": "code",
   "execution_count": 3,
   "metadata": {},
   "outputs": [],
   "source": [
    "client = MongoClient('localhost', 27017)\n",
    "db=client[\"Back_prueba\"]\n",
    "#db.drop_collection()\n",
    "data= db.signals.find()\n",
    "list_data = list(data)\n"
   ]
  },
  {
   "cell_type": "code",
   "execution_count": 9,
   "metadata": {},
   "outputs": [
    {
     "name": "stderr",
     "output_type": "stream",
     "text": [
      "/tmp/ipykernel_21129/1522792818.py:1: DeprecationWarning: database_names is deprecated. Use list_database_names instead.\n",
      "  dbs=client.database_names()\n"
     ]
    }
   ],
   "source": [
    "#dbs=client.database_names()\n",
    "#for db in dbs[7:]:\n",
    "#    client.drop_database(db)\n"
   ]
  },
  {
   "cell_type": "code",
   "execution_count": 4,
   "metadata": {},
   "outputs": [],
   "source": [
    "df = pd.DataFrame(list_data)\n"
   ]
  },
  {
   "cell_type": "code",
   "execution_count": 16,
   "metadata": {},
   "outputs": [],
   "source": [
    "df.to_pickle('sygnals_operations.pickle',)\n"
   ]
  },
  {
   "cell_type": "code",
   "execution_count": 5,
   "metadata": {},
   "outputs": [
    {
     "data": {
      "text/html": [
       "<div>\n",
       "<style scoped>\n",
       "    .dataframe tbody tr th:only-of-type {\n",
       "        vertical-align: middle;\n",
       "    }\n",
       "\n",
       "    .dataframe tbody tr th {\n",
       "        vertical-align: top;\n",
       "    }\n",
       "\n",
       "    .dataframe thead th {\n",
       "        text-align: right;\n",
       "    }\n",
       "</style>\n",
       "<table border=\"1\" class=\"dataframe\">\n",
       "  <thead>\n",
       "    <tr style=\"text-align: right;\">\n",
       "      <th></th>\n",
       "      <th>symbol</th>\n",
       "      <th>currencies</th>\n",
       "      <th>channel</th>\n",
       "    </tr>\n",
       "  </thead>\n",
       "  <tbody>\n",
       "    <tr>\n",
       "      <th>0</th>\n",
       "      <td>ATOMBTC</td>\n",
       "      <td>{'primary': 'ATOM', 'segundary': 'BTC'}</td>\n",
       "      <td>Crypto Futures Spot Signals😘</td>\n",
       "    </tr>\n",
       "    <tr>\n",
       "      <th>1</th>\n",
       "      <td>KAVAUSDT</td>\n",
       "      <td>{'primary': 'KAVA', 'segundary': 'USDT'}</td>\n",
       "      <td>Crypto Futures Spot Signals😘</td>\n",
       "    </tr>\n",
       "    <tr>\n",
       "      <th>2</th>\n",
       "      <td>DEXEUSDT</td>\n",
       "      <td>{'primary': 'DEXE', 'segundary': 'USDT'}</td>\n",
       "      <td>Crypto Futures Spot Signals😘</td>\n",
       "    </tr>\n",
       "    <tr>\n",
       "      <th>3</th>\n",
       "      <td>APEUSDT</td>\n",
       "      <td>{'primary': 'APE', 'segundary': 'USDT'}</td>\n",
       "      <td>Crypto Futures Spot Signals😘</td>\n",
       "    </tr>\n",
       "    <tr>\n",
       "      <th>4</th>\n",
       "      <td>CAKEBTC</td>\n",
       "      <td>{'primary': 'CAKE', 'segundary': 'BTC'}</td>\n",
       "      <td>Crypto Futures Spot Signals😘</td>\n",
       "    </tr>\n",
       "    <tr>\n",
       "      <th>...</th>\n",
       "      <td>...</td>\n",
       "      <td>...</td>\n",
       "      <td>...</td>\n",
       "    </tr>\n",
       "    <tr>\n",
       "      <th>115</th>\n",
       "      <td>ADAUSDT</td>\n",
       "      <td>{'primary': 'ADA', 'segundary': 'USDT'}</td>\n",
       "      <td>Federal Russian Insiders VIP Free</td>\n",
       "    </tr>\n",
       "    <tr>\n",
       "      <th>116</th>\n",
       "      <td>TRXUSDT</td>\n",
       "      <td>{'primary': 'TRX', 'segundary': 'USDT'}</td>\n",
       "      <td>Federal Russian Insiders VIP Free</td>\n",
       "    </tr>\n",
       "    <tr>\n",
       "      <th>117</th>\n",
       "      <td>BCHUSDT</td>\n",
       "      <td>{'primary': 'BCH', 'segundary': 'USDT'}</td>\n",
       "      <td>Federal Russian Insiders VIP Free</td>\n",
       "    </tr>\n",
       "    <tr>\n",
       "      <th>118</th>\n",
       "      <td>ETHUSDT</td>\n",
       "      <td>{'primary': 'ETH', 'segundary': 'USDT'}</td>\n",
       "      <td>Federal Russian Insiders VIP Free</td>\n",
       "    </tr>\n",
       "    <tr>\n",
       "      <th>119</th>\n",
       "      <td>XMRUSDT</td>\n",
       "      <td>{'primary': 'XMR', 'segundary': 'USDT'}</td>\n",
       "      <td>Federal Russian Insiders VIP Free</td>\n",
       "    </tr>\n",
       "  </tbody>\n",
       "</table>\n",
       "<p>120 rows × 3 columns</p>\n",
       "</div>"
      ],
      "text/plain": [
       "       symbol                                currencies  \\\n",
       "0     ATOMBTC   {'primary': 'ATOM', 'segundary': 'BTC'}   \n",
       "1    KAVAUSDT  {'primary': 'KAVA', 'segundary': 'USDT'}   \n",
       "2    DEXEUSDT  {'primary': 'DEXE', 'segundary': 'USDT'}   \n",
       "3     APEUSDT   {'primary': 'APE', 'segundary': 'USDT'}   \n",
       "4     CAKEBTC   {'primary': 'CAKE', 'segundary': 'BTC'}   \n",
       "..        ...                                       ...   \n",
       "115   ADAUSDT   {'primary': 'ADA', 'segundary': 'USDT'}   \n",
       "116   TRXUSDT   {'primary': 'TRX', 'segundary': 'USDT'}   \n",
       "117   BCHUSDT   {'primary': 'BCH', 'segundary': 'USDT'}   \n",
       "118   ETHUSDT   {'primary': 'ETH', 'segundary': 'USDT'}   \n",
       "119   XMRUSDT   {'primary': 'XMR', 'segundary': 'USDT'}   \n",
       "\n",
       "                               channel  \n",
       "0         Crypto Futures Spot Signals😘  \n",
       "1         Crypto Futures Spot Signals😘  \n",
       "2         Crypto Futures Spot Signals😘  \n",
       "3         Crypto Futures Spot Signals😘  \n",
       "4         Crypto Futures Spot Signals😘  \n",
       "..                                 ...  \n",
       "115  Federal Russian Insiders VIP Free  \n",
       "116  Federal Russian Insiders VIP Free  \n",
       "117  Federal Russian Insiders VIP Free  \n",
       "118  Federal Russian Insiders VIP Free  \n",
       "119  Federal Russian Insiders VIP Free  \n",
       "\n",
       "[120 rows x 3 columns]"
      ]
     },
     "execution_count": 5,
     "metadata": {},
     "output_type": "execute_result"
    }
   ],
   "source": [
    "df[[\"symbol\",\"currencies\", \"channel\"]]\n"
   ]
  },
  {
   "cell_type": "code",
   "execution_count": 6,
   "metadata": {},
   "outputs": [
    {
     "data": {
      "text/plain": [
       "Index(['_id', 'symbol_message', 'symbol', 'currencies', 'is_future', 'is_long',\n",
       "       'leverage', 'percent_amount', 'is_entry_market', 'entry_targets',\n",
       "       'take_profit_targets', 'stop_targets', 'trailing_configuration',\n",
       "       'quantity', 'quantity_take_profit', 'free', 'timeStamp_Tg', 'date',\n",
       "       'message_id', 'channel', 'channel_id'],\n",
       "      dtype='object')"
      ]
     },
     "execution_count": 6,
     "metadata": {},
     "output_type": "execute_result"
    }
   ],
   "source": [
    "df.columns"
   ]
  },
  {
   "cell_type": "code",
   "execution_count": 27,
   "metadata": {},
   "outputs": [],
   "source": [
    "mask=df[\"symbol_message\"].str.contains(\"/\")\n",
    "mask\n",
    "df=df[mask]"
   ]
  },
  {
   "cell_type": "code",
   "execution_count": 50,
   "metadata": {},
   "outputs": [
    {
     "data": {
      "text/plain": [
       "Crypto Futures Spot Signals😘         300\n",
       "𝑪𝒐𝒊𝒏|𝑪𝒐𝒂𝒄𝒉|𝑺𝒊𝒈𝒏𝒂𝒍𝒔                   300\n",
       "Federal Russian Insiders VIP Free    300\n",
       "Bitcoin Bullets VIP Free             235\n",
       "Name: channel, dtype: int64"
      ]
     },
     "execution_count": 50,
     "metadata": {},
     "output_type": "execute_result"
    }
   ],
   "source": [
    "df.channel.value_counts()\n"
   ]
  },
  {
   "cell_type": "code",
   "execution_count": 21,
   "metadata": {},
   "outputs": [
    {
     "data": {
      "text/plain": [
       "pandas.core.series.Series"
      ]
     },
     "execution_count": 21,
     "metadata": {},
     "output_type": "execute_result"
    }
   ],
   "source": [
    "symbols_count = df[[\"symbol\", \"channel\"]].value_counts().sort_values(ascending=False)\n",
    "important_symbol = symbols_count.head(40)\n",
    "type(important_symbol)\n"
   ]
  },
  {
   "cell_type": "code",
   "execution_count": 22,
   "metadata": {},
   "outputs": [
    {
     "data": {
      "text/html": [
       "<div>\n",
       "<style scoped>\n",
       "    .dataframe tbody tr th:only-of-type {\n",
       "        vertical-align: middle;\n",
       "    }\n",
       "\n",
       "    .dataframe tbody tr th {\n",
       "        vertical-align: top;\n",
       "    }\n",
       "\n",
       "    .dataframe thead tr th {\n",
       "        text-align: left;\n",
       "    }\n",
       "\n",
       "    .dataframe thead tr:last-of-type th {\n",
       "        text-align: right;\n",
       "    }\n",
       "</style>\n",
       "<table border=\"1\" class=\"dataframe\">\n",
       "  <thead>\n",
       "    <tr>\n",
       "      <th></th>\n",
       "      <th colspan=\"4\" halign=\"left\">symbol</th>\n",
       "    </tr>\n",
       "    <tr>\n",
       "      <th></th>\n",
       "      <th>count</th>\n",
       "      <th>unique</th>\n",
       "      <th>top</th>\n",
       "      <th>freq</th>\n",
       "    </tr>\n",
       "    <tr>\n",
       "      <th>channel</th>\n",
       "      <th></th>\n",
       "      <th></th>\n",
       "      <th></th>\n",
       "      <th></th>\n",
       "    </tr>\n",
       "  </thead>\n",
       "  <tbody>\n",
       "    <tr>\n",
       "      <th>Bitcoin Bullets VIP Free</th>\n",
       "      <td>229</td>\n",
       "      <td>59</td>\n",
       "      <td>LTCUSDT</td>\n",
       "      <td>14</td>\n",
       "    </tr>\n",
       "    <tr>\n",
       "      <th>Crypto Futures Spot Signals😘</th>\n",
       "      <td>300</td>\n",
       "      <td>173</td>\n",
       "      <td>BTCUSDT</td>\n",
       "      <td>16</td>\n",
       "    </tr>\n",
       "    <tr>\n",
       "      <th>Federal Russian Insiders VIP Free</th>\n",
       "      <td>296</td>\n",
       "      <td>56</td>\n",
       "      <td>ETHUSDT</td>\n",
       "      <td>19</td>\n",
       "    </tr>\n",
       "    <tr>\n",
       "      <th>𝑪𝒐𝒊𝒏|𝑪𝒐𝒂𝒄𝒉|𝑺𝒊𝒈𝒏𝒂𝒍𝒔</th>\n",
       "      <td>300</td>\n",
       "      <td>96</td>\n",
       "      <td>BELUSDT</td>\n",
       "      <td>15</td>\n",
       "    </tr>\n",
       "  </tbody>\n",
       "</table>\n",
       "</div>"
      ],
      "text/plain": [
       "                                  symbol                     \n",
       "                                   count unique      top freq\n",
       "channel                                                      \n",
       "Bitcoin Bullets VIP Free             229     59  LTCUSDT   14\n",
       "Crypto Futures Spot Signals😘         300    173  BTCUSDT   16\n",
       "Federal Russian Insiders VIP Free    296     56  ETHUSDT   19\n",
       "𝑪𝒐𝒊𝒏|𝑪𝒐𝒂𝒄𝒉|𝑺𝒊𝒈𝒏𝒂𝒍𝒔                   300     96  BELUSDT   15"
      ]
     },
     "execution_count": 22,
     "metadata": {},
     "output_type": "execute_result"
    }
   ],
   "source": [
    "symbols_count = df[[\"symbol\", \"channel\"]]\n",
    "important_symbol = symbols_count\n",
    "important_symbol.groupby(\"channel\").describe()\n"
   ]
  },
  {
   "cell_type": "code",
   "execution_count": 20,
   "metadata": {},
   "outputs": [
    {
     "data": {
      "text/plain": [
       "<AxesSubplot:>"
      ]
     },
     "execution_count": 20,
     "metadata": {},
     "output_type": "execute_result"
    },
    {
     "data": {
      "image/png": "[encoded data removed]",
      "text/plain": [
       "<Figure size 2160x720 with 1 Axes>"
      ]
     },
     "metadata": {
      "needs_background": "light"
     },
     "output_type": "display_data"
    }
   ],
   "source": [
    "important_symbol[\"symbol\"].hist(figsize=(30, 10),xrot=90, bins=200,)\n"
   ]
  },
  {
   "cell_type": "code",
   "execution_count": 12,
   "metadata": {},
   "outputs": [],
   "source": [
    "#plt.figure(figsize=(50, 10))\n",
    "#plt.xticks(rotation=90)\n",
    "#sns.histplot(data=important_symbol, x=\"symbol\",hue=\"channel\",palette=\"Set1\")\n"
   ]
  },
  {
   "cell_type": "code",
   "execution_count": 52,
   "metadata": {},
   "outputs": [
    {
     "data": {
      "text/html": [
       "<div>\n",
       "<style scoped>\n",
       "    .dataframe tbody tr th:only-of-type {\n",
       "        vertical-align: middle;\n",
       "    }\n",
       "\n",
       "    .dataframe tbody tr th {\n",
       "        vertical-align: top;\n",
       "    }\n",
       "\n",
       "    .dataframe thead th {\n",
       "        text-align: right;\n",
       "    }\n",
       "</style>\n",
       "<table border=\"1\" class=\"dataframe\">\n",
       "  <thead>\n",
       "    <tr style=\"text-align: right;\">\n",
       "      <th></th>\n",
       "      <th>timeStamp_Tg</th>\n",
       "      <th>message_id</th>\n",
       "      <th>channel_id</th>\n",
       "      <th>date</th>\n",
       "    </tr>\n",
       "  </thead>\n",
       "  <tbody>\n",
       "    <tr>\n",
       "      <th>0</th>\n",
       "      <td>1647354765</td>\n",
       "      <td>5316</td>\n",
       "      <td>-1001381384148</td>\n",
       "      <td>2022-03-15 10:32:45</td>\n",
       "    </tr>\n",
       "    <tr>\n",
       "      <th>1</th>\n",
       "      <td>1646753327</td>\n",
       "      <td>5244</td>\n",
       "      <td>-1001381384148</td>\n",
       "      <td>2022-03-08 11:28:47</td>\n",
       "    </tr>\n",
       "    <tr>\n",
       "      <th>2</th>\n",
       "      <td>1646653781</td>\n",
       "      <td>5228</td>\n",
       "      <td>-1001381384148</td>\n",
       "      <td>2022-03-07 07:49:41</td>\n",
       "    </tr>\n",
       "    <tr>\n",
       "      <th>3</th>\n",
       "      <td>1645112197</td>\n",
       "      <td>5092</td>\n",
       "      <td>-1001381384148</td>\n",
       "      <td>2022-02-17 11:36:37</td>\n",
       "    </tr>\n",
       "    <tr>\n",
       "      <th>4</th>\n",
       "      <td>1645031424</td>\n",
       "      <td>5081</td>\n",
       "      <td>-1001381384148</td>\n",
       "      <td>2022-02-16 13:10:24</td>\n",
       "    </tr>\n",
       "    <tr>\n",
       "      <th>...</th>\n",
       "      <td>...</td>\n",
       "      <td>...</td>\n",
       "      <td>...</td>\n",
       "      <td>...</td>\n",
       "    </tr>\n",
       "    <tr>\n",
       "      <th>1130</th>\n",
       "      <td>1627755081</td>\n",
       "      <td>114</td>\n",
       "      <td>-1001277174399</td>\n",
       "      <td>2021-07-31 14:11:21</td>\n",
       "    </tr>\n",
       "    <tr>\n",
       "      <th>1131</th>\n",
       "      <td>1627603382</td>\n",
       "      <td>97</td>\n",
       "      <td>-1001277174399</td>\n",
       "      <td>2021-07-29 20:03:02</td>\n",
       "    </tr>\n",
       "    <tr>\n",
       "      <th>1132</th>\n",
       "      <td>1627583234</td>\n",
       "      <td>95</td>\n",
       "      <td>-1001277174399</td>\n",
       "      <td>2021-07-29 14:27:14</td>\n",
       "    </tr>\n",
       "    <tr>\n",
       "      <th>1133</th>\n",
       "      <td>1627543095</td>\n",
       "      <td>88</td>\n",
       "      <td>-1001277174399</td>\n",
       "      <td>2021-07-29 03:18:15</td>\n",
       "    </tr>\n",
       "    <tr>\n",
       "      <th>1134</th>\n",
       "      <td>1627410165</td>\n",
       "      <td>66</td>\n",
       "      <td>-1001277174399</td>\n",
       "      <td>2021-07-27 14:22:45</td>\n",
       "    </tr>\n",
       "  </tbody>\n",
       "</table>\n",
       "<p>1135 rows × 4 columns</p>\n",
       "</div>"
      ],
      "text/plain": [
       "      timeStamp_Tg  message_id     channel_id                date\n",
       "0       1647354765        5316 -1001381384148 2022-03-15 10:32:45\n",
       "1       1646753327        5244 -1001381384148 2022-03-08 11:28:47\n",
       "2       1646653781        5228 -1001381384148 2022-03-07 07:49:41\n",
       "3       1645112197        5092 -1001381384148 2022-02-17 11:36:37\n",
       "4       1645031424        5081 -1001381384148 2022-02-16 13:10:24\n",
       "...            ...         ...            ...                 ...\n",
       "1130    1627755081         114 -1001277174399 2021-07-31 14:11:21\n",
       "1131    1627603382          97 -1001277174399 2021-07-29 20:03:02\n",
       "1132    1627583234          95 -1001277174399 2021-07-29 14:27:14\n",
       "1133    1627543095          88 -1001277174399 2021-07-29 03:18:15\n",
       "1134    1627410165          66 -1001277174399 2021-07-27 14:22:45\n",
       "\n",
       "[1135 rows x 4 columns]"
      ]
     },
     "execution_count": 52,
     "metadata": {},
     "output_type": "execute_result"
    }
   ],
   "source": [
    "df[[\"timeStamp_Tg\",\"message_id\",\"channel_id\",\"date\"]]\n"
   ]
  },
  {
   "cell_type": "code",
   "execution_count": 31,
   "metadata": {},
   "outputs": [],
   "source": [
    "from datetime import timedelta, datetime, time"
   ]
  },
  {
   "cell_type": "code",
   "execution_count": 66,
   "metadata": {},
   "outputs": [
    {
     "data": {
      "text/plain": [
       "240.0"
      ]
     },
     "execution_count": 66,
     "metadata": {},
     "output_type": "execute_result"
    }
   ],
   "source": [
    "#str(datetime(2020,3,1,1,30,0)-h4)\n",
    "new=datetime.utcfromtimestamp(1647354765)\n",
    "old=datetime.fromtimestamp(1647354765)\n",
    "\n",
    "base=(new-old).total_seconds()/60\n",
    "\n",
    "base"
   ]
  },
  {
   "cell_type": "code",
   "execution_count": 64,
   "metadata": {},
   "outputs": [],
   "source": [
    "import math"
   ]
  },
  {
   "cell_type": "code",
   "execution_count": 74,
   "metadata": {},
   "outputs": [
    {
     "data": {
      "text/plain": [
       "4"
      ]
     },
     "execution_count": 74,
     "metadata": {},
     "output_type": "execute_result"
    }
   ],
   "source": [
    "h1=60\n",
    "math.ceil(base/h1)"
   ]
  },
  {
   "cell_type": "code",
   "execution_count": 17,
   "metadata": {},
   "outputs": [
    {
     "data": {
      "text/plain": [
       "datetime.timedelta(seconds=14400)"
      ]
     },
     "execution_count": 17,
     "metadata": {},
     "output_type": "execute_result"
    }
   ],
   "source": [
    "h4 = timedelta(hours=4)\n",
    "h4"
   ]
  },
  {
   "cell_type": "code",
   "execution_count": 13,
   "metadata": {},
   "outputs": [
    {
     "data": {
      "text/plain": [
       "0      2022-03-15 14:32:45\n",
       "1      2022-03-08 15:28:47\n",
       "2      2022-03-07 11:49:41\n",
       "3      2022-02-17 15:36:37\n",
       "4      2022-02-16 17:10:24\n",
       "               ...        \n",
       "1120   2021-07-30 00:03:02\n",
       "1121   2021-07-29 18:27:14\n",
       "1122   2021-07-29 07:18:15\n",
       "1123   2021-07-27 18:22:45\n",
       "1124   2021-07-26 04:36:32\n",
       "Name: datetime, Length: 1125, dtype: datetime64[ns]"
      ]
     },
     "execution_count": 13,
     "metadata": {},
     "output_type": "execute_result"
    }
   ],
   "source": [
    "df2[\"datetime\"]= pd.to_datetime(df2[\"timeStamp_Tg\"], unit=\"s\")\n",
    "df2[\"datetime\"]"
   ]
  },
  {
   "cell_type": "code",
   "execution_count": 14,
   "metadata": {},
   "outputs": [
    {
     "data": {
      "text/html": [
       "<div>\n",
       "<style scoped>\n",
       "    .dataframe tbody tr th:only-of-type {\n",
       "        vertical-align: middle;\n",
       "    }\n",
       "\n",
       "    .dataframe tbody tr th {\n",
       "        vertical-align: top;\n",
       "    }\n",
       "\n",
       "    .dataframe thead th {\n",
       "        text-align: right;\n",
       "    }\n",
       "</style>\n",
       "<table border=\"1\" class=\"dataframe\">\n",
       "  <thead>\n",
       "    <tr style=\"text-align: right;\">\n",
       "      <th></th>\n",
       "      <th>timeStamp_Tg</th>\n",
       "      <th>message_id</th>\n",
       "      <th>channel_id</th>\n",
       "      <th>datetime</th>\n",
       "    </tr>\n",
       "  </thead>\n",
       "  <tbody>\n",
       "    <tr>\n",
       "      <th>0</th>\n",
       "      <td>1647354765</td>\n",
       "      <td>5316</td>\n",
       "      <td>-1001381384148</td>\n",
       "      <td>2022-03-15 14:32:45</td>\n",
       "    </tr>\n",
       "    <tr>\n",
       "      <th>1</th>\n",
       "      <td>1646753327</td>\n",
       "      <td>5244</td>\n",
       "      <td>-1001381384148</td>\n",
       "      <td>2022-03-08 15:28:47</td>\n",
       "    </tr>\n",
       "    <tr>\n",
       "      <th>2</th>\n",
       "      <td>1646653781</td>\n",
       "      <td>5228</td>\n",
       "      <td>-1001381384148</td>\n",
       "      <td>2022-03-07 11:49:41</td>\n",
       "    </tr>\n",
       "    <tr>\n",
       "      <th>3</th>\n",
       "      <td>1645112197</td>\n",
       "      <td>5092</td>\n",
       "      <td>-1001381384148</td>\n",
       "      <td>2022-02-17 15:36:37</td>\n",
       "    </tr>\n",
       "    <tr>\n",
       "      <th>4</th>\n",
       "      <td>1645031424</td>\n",
       "      <td>5081</td>\n",
       "      <td>-1001381384148</td>\n",
       "      <td>2022-02-16 17:10:24</td>\n",
       "    </tr>\n",
       "    <tr>\n",
       "      <th>...</th>\n",
       "      <td>...</td>\n",
       "      <td>...</td>\n",
       "      <td>...</td>\n",
       "      <td>...</td>\n",
       "    </tr>\n",
       "    <tr>\n",
       "      <th>1120</th>\n",
       "      <td>1627603382</td>\n",
       "      <td>97</td>\n",
       "      <td>-1001277174399</td>\n",
       "      <td>2021-07-30 00:03:02</td>\n",
       "    </tr>\n",
       "    <tr>\n",
       "      <th>1121</th>\n",
       "      <td>1627583234</td>\n",
       "      <td>95</td>\n",
       "      <td>-1001277174399</td>\n",
       "      <td>2021-07-29 18:27:14</td>\n",
       "    </tr>\n",
       "    <tr>\n",
       "      <th>1122</th>\n",
       "      <td>1627543095</td>\n",
       "      <td>88</td>\n",
       "      <td>-1001277174399</td>\n",
       "      <td>2021-07-29 07:18:15</td>\n",
       "    </tr>\n",
       "    <tr>\n",
       "      <th>1123</th>\n",
       "      <td>1627410165</td>\n",
       "      <td>66</td>\n",
       "      <td>-1001277174399</td>\n",
       "      <td>2021-07-27 18:22:45</td>\n",
       "    </tr>\n",
       "    <tr>\n",
       "      <th>1124</th>\n",
       "      <td>1627274192</td>\n",
       "      <td>44</td>\n",
       "      <td>-1001277174399</td>\n",
       "      <td>2021-07-26 04:36:32</td>\n",
       "    </tr>\n",
       "  </tbody>\n",
       "</table>\n",
       "<p>1125 rows × 4 columns</p>\n",
       "</div>"
      ],
      "text/plain": [
       "      timeStamp_Tg  message_id     channel_id            datetime\n",
       "0       1647354765        5316 -1001381384148 2022-03-15 14:32:45\n",
       "1       1646753327        5244 -1001381384148 2022-03-08 15:28:47\n",
       "2       1646653781        5228 -1001381384148 2022-03-07 11:49:41\n",
       "3       1645112197        5092 -1001381384148 2022-02-17 15:36:37\n",
       "4       1645031424        5081 -1001381384148 2022-02-16 17:10:24\n",
       "...            ...         ...            ...                 ...\n",
       "1120    1627603382          97 -1001277174399 2021-07-30 00:03:02\n",
       "1121    1627583234          95 -1001277174399 2021-07-29 18:27:14\n",
       "1122    1627543095          88 -1001277174399 2021-07-29 07:18:15\n",
       "1123    1627410165          66 -1001277174399 2021-07-27 18:22:45\n",
       "1124    1627274192          44 -1001277174399 2021-07-26 04:36:32\n",
       "\n",
       "[1125 rows x 4 columns]"
      ]
     },
     "execution_count": 14,
     "metadata": {},
     "output_type": "execute_result"
    }
   ],
   "source": [
    "df2[[\"timeStamp_Tg\",\"message_id\",\"channel_id\",\"datetime\"]]"
   ]
  },
  {
   "cell_type": "code",
   "execution_count": 21,
   "metadata": {},
   "outputs": [],
   "source": [
    "df2[\"datetime\"]=df2[\"datetime\"].apply(lambda x : x - h4)\n"
   ]
  },
  {
   "cell_type": "code",
   "execution_count": 22,
   "metadata": {},
   "outputs": [
    {
     "data": {
      "text/html": [
       "<div>\n",
       "<style scoped>\n",
       "    .dataframe tbody tr th:only-of-type {\n",
       "        vertical-align: middle;\n",
       "    }\n",
       "\n",
       "    .dataframe tbody tr th {\n",
       "        vertical-align: top;\n",
       "    }\n",
       "\n",
       "    .dataframe thead th {\n",
       "        text-align: right;\n",
       "    }\n",
       "</style>\n",
       "<table border=\"1\" class=\"dataframe\">\n",
       "  <thead>\n",
       "    <tr style=\"text-align: right;\">\n",
       "      <th></th>\n",
       "      <th>timeStamp_Tg</th>\n",
       "      <th>message_id</th>\n",
       "      <th>channel_id</th>\n",
       "      <th>datetime</th>\n",
       "    </tr>\n",
       "  </thead>\n",
       "  <tbody>\n",
       "    <tr>\n",
       "      <th>0</th>\n",
       "      <td>1647354765</td>\n",
       "      <td>5316</td>\n",
       "      <td>-1001381384148</td>\n",
       "      <td>2022-03-15 10:32:45</td>\n",
       "    </tr>\n",
       "    <tr>\n",
       "      <th>1</th>\n",
       "      <td>1646753327</td>\n",
       "      <td>5244</td>\n",
       "      <td>-1001381384148</td>\n",
       "      <td>2022-03-08 11:28:47</td>\n",
       "    </tr>\n",
       "    <tr>\n",
       "      <th>2</th>\n",
       "      <td>1646653781</td>\n",
       "      <td>5228</td>\n",
       "      <td>-1001381384148</td>\n",
       "      <td>2022-03-07 07:49:41</td>\n",
       "    </tr>\n",
       "    <tr>\n",
       "      <th>3</th>\n",
       "      <td>1645112197</td>\n",
       "      <td>5092</td>\n",
       "      <td>-1001381384148</td>\n",
       "      <td>2022-02-17 11:36:37</td>\n",
       "    </tr>\n",
       "    <tr>\n",
       "      <th>4</th>\n",
       "      <td>1645031424</td>\n",
       "      <td>5081</td>\n",
       "      <td>-1001381384148</td>\n",
       "      <td>2022-02-16 13:10:24</td>\n",
       "    </tr>\n",
       "    <tr>\n",
       "      <th>...</th>\n",
       "      <td>...</td>\n",
       "      <td>...</td>\n",
       "      <td>...</td>\n",
       "      <td>...</td>\n",
       "    </tr>\n",
       "    <tr>\n",
       "      <th>1120</th>\n",
       "      <td>1627603382</td>\n",
       "      <td>97</td>\n",
       "      <td>-1001277174399</td>\n",
       "      <td>2021-07-29 20:03:02</td>\n",
       "    </tr>\n",
       "    <tr>\n",
       "      <th>1121</th>\n",
       "      <td>1627583234</td>\n",
       "      <td>95</td>\n",
       "      <td>-1001277174399</td>\n",
       "      <td>2021-07-29 14:27:14</td>\n",
       "    </tr>\n",
       "    <tr>\n",
       "      <th>1122</th>\n",
       "      <td>1627543095</td>\n",
       "      <td>88</td>\n",
       "      <td>-1001277174399</td>\n",
       "      <td>2021-07-29 03:18:15</td>\n",
       "    </tr>\n",
       "    <tr>\n",
       "      <th>1123</th>\n",
       "      <td>1627410165</td>\n",
       "      <td>66</td>\n",
       "      <td>-1001277174399</td>\n",
       "      <td>2021-07-27 14:22:45</td>\n",
       "    </tr>\n",
       "    <tr>\n",
       "      <th>1124</th>\n",
       "      <td>1627274192</td>\n",
       "      <td>44</td>\n",
       "      <td>-1001277174399</td>\n",
       "      <td>2021-07-26 00:36:32</td>\n",
       "    </tr>\n",
       "  </tbody>\n",
       "</table>\n",
       "<p>1125 rows × 4 columns</p>\n",
       "</div>"
      ],
      "text/plain": [
       "      timeStamp_Tg  message_id     channel_id            datetime\n",
       "0       1647354765        5316 -1001381384148 2022-03-15 10:32:45\n",
       "1       1646753327        5244 -1001381384148 2022-03-08 11:28:47\n",
       "2       1646653781        5228 -1001381384148 2022-03-07 07:49:41\n",
       "3       1645112197        5092 -1001381384148 2022-02-17 11:36:37\n",
       "4       1645031424        5081 -1001381384148 2022-02-16 13:10:24\n",
       "...            ...         ...            ...                 ...\n",
       "1120    1627603382          97 -1001277174399 2021-07-29 20:03:02\n",
       "1121    1627583234          95 -1001277174399 2021-07-29 14:27:14\n",
       "1122    1627543095          88 -1001277174399 2021-07-29 03:18:15\n",
       "1123    1627410165          66 -1001277174399 2021-07-27 14:22:45\n",
       "1124    1627274192          44 -1001277174399 2021-07-26 00:36:32\n",
       "\n",
       "[1125 rows x 4 columns]"
      ]
     },
     "execution_count": 22,
     "metadata": {},
     "output_type": "execute_result"
    }
   ],
   "source": [
    "df2[[\"timeStamp_Tg\",\"message_id\",\"channel_id\",\"datetime\"]]"
   ]
  },
  {
   "cell_type": "code",
   "execution_count": null,
   "metadata": {},
   "outputs": [],
   "source": [
    "if len(data) > 0:  \n",
    "        old = parser.parse(\n",
    "            data[\"timestamp\"].iloc[-1]\n",
    "            )"
   ]
  },
  {
   "cell_type": "code",
   "execution_count": null,
   "metadata": {},
   "outputs": [],
   "source": [
    "if len(data)>0:\n",
    "    old= parser.parse(\n",
    "        data[\"timestamp\"].iloc[-1]\n",
    "    )"
   ]
  },
  {
   "cell_type": "code",
   "execution_count": 31,
   "metadata": {},
   "outputs": [],
   "source": [
    "pd.options.display.float_format=\"{:,.1f}\".format\n",
    "pd.options.display.precision = 1"
   ]
  },
  {
   "cell_type": "code",
   "execution_count": 84,
   "metadata": {},
   "outputs": [],
   "source": [
    "df_symbol:pd.DataFrame=pd.read_pickle(\"../../BTCUSDT-5m-data.pickle\")"
   ]
  },
  {
   "cell_type": "code",
   "execution_count": 5,
   "metadata": {},
   "outputs": [
    {
     "data": {
      "text/plain": [
       "_id                                                625dcff219230c849ec300b9\n",
       "symbol_message                                                      OXT/BTC\n",
       "symbol                                                               OXTBTC\n",
       "currencies                       {'primary': 'OXTBTC', 'segundary': 'USDT'}\n",
       "is_future                                                              True\n",
       "is_long                                                                True\n",
       "leverage                  {'type': 'cross default', 'is_cross': True, 'p...\n",
       "percent_amount                                                            0\n",
       "is_entry_market                                                       False\n",
       "entry_targets                                          [5.82e-06, 5.43e-06]\n",
       "take_profit_targets                          [5.99e-06, 6.17e-06, 6.34e-06]\n",
       "stop_targets                                                     [5.35e-06]\n",
       "trailing_configuration                        {'quantity': 0, 'percent': 2}\n",
       "quantity                                                                   \n",
       "quantity_take_profit                                                       \n",
       "free                                                                   True\n",
       "timeStamp_Tg                                                     1646753327\n",
       "date                                                    2022-03-08 11:28:47\n",
       "message_id                                                             5244\n",
       "channel                                        Crypto Futures Spot Signals😘\n",
       "channel_id                                                   -1001381384148\n",
       "Name: 1, dtype: object"
      ]
     },
     "execution_count": 5,
     "metadata": {},
     "output_type": "execute_result"
    }
   ],
   "source": [
    "df_sygnal_data.iloc[1]#[\"entry_targets\"][1]"
   ]
  },
  {
   "cell_type": "code",
   "execution_count": 139,
   "metadata": {},
   "outputs": [
    {
     "data": {
      "text/plain": [
       "(8929, 12)"
      ]
     },
     "execution_count": 139,
     "metadata": {},
     "output_type": "execute_result"
    }
   ],
   "source": [
    "# %%timeit 3.46 ms\n",
    "mask:pd.Series=BTCUSDT_date[\"date_myUTC\"]\n",
    "mask=mask.between(\"2022-03-08\",\"2022-04-08\")\n",
    "btc_by_date=BTCUSDT_date[mask]\n",
    "btc_by_date.iloc[1]\n",
    "btc_by_date.shape\n"
   ]
  },
  {
   "cell_type": "code",
   "execution_count": 140,
   "metadata": {},
   "outputs": [
    {
     "data": {
      "text/plain": [
       "(12305, 12)"
      ]
     },
     "execution_count": 140,
     "metadata": {},
     "output_type": "execute_result"
    }
   ],
   "source": [
    "# %%timeit 394 ms\n",
    "\n",
    "mask:pd.Series=BTCUSDT_date[\"date_myUTC\"]\n",
    "mask=mask.isin(pd.date_range(start=\"2022-03-08 00:00.00\",end=str(BTCUSDT_date[\"date_myUTC\"].iloc[-1]),freq=\"1s\"))\n",
    "btc_by_date=BTCUSDT_date[mask]\n",
    "btc_by_date.iloc[1]\n",
    "btc_by_date.shape\n"
   ]
  },
  {
   "cell_type": "code",
   "execution_count": 141,
   "metadata": {},
   "outputs": [
    {
     "data": {
      "text/plain": [
       "(8929, 12)"
      ]
     },
     "execution_count": 141,
     "metadata": {},
     "output_type": "execute_result"
    }
   ],
   "source": [
    "# %%timeit 115 ms\n",
    "\n",
    "mask:pd.Series=BTCUSDT_date[\"date_myUTC\"]\n",
    "mask=mask.isin(pd.date_range(start=\"2022-03-08 00:00.00\",end=\"2022-04-08 00:00.00\",freq=\"1s\"))\n",
    "btc_by_date=BTCUSDT_date[mask]\n",
    "btc_by_date.iloc[1]\n",
    "btc_by_date.shape\n"
   ]
  },
  {
   "cell_type": "code",
   "execution_count": 142,
   "metadata": {},
   "outputs": [
    {
     "data": {
      "text/plain": [
       "(8928, 12)"
      ]
     },
     "execution_count": 142,
     "metadata": {},
     "output_type": "execute_result"
    }
   ],
   "source": [
    "# %%timeit 4.24 ms\n",
    "mask=(BTCUSDT_date[\"date_myUTC\"] > \n",
    "pd.to_datetime(\"2022-03-08 00:00.00\")) & (BTCUSDT_date[\"date_myUTC\"] <= \n",
    "pd.to_datetime(\"2022-04-08 00:00.00\"))\n",
    "btc_by_date=BTCUSDT_date[mask]\n",
    "btc_by_date.iloc[1]\n",
    "btc_by_date.shape"
   ]
  },
  {
   "cell_type": "code",
   "execution_count": 146,
   "metadata": {},
   "outputs": [
    {
     "data": {
      "text/plain": [
       "'la_t'"
      ]
     },
     "execution_count": 146,
     "metadata": {},
     "output_type": "execute_result"
    }
   ],
   "source": [
    "def t(la_t):\n",
    "    if la_t:\n",
    "        return \"la_t\"\n",
    "    print(\"aqui toy\")\n",
    "    return \"No la_t\"\n",
    "\n",
    "t(True)"
   ]
  },
  {
   "cell_type": "code",
   "execution_count": 50,
   "metadata": {},
   "outputs": [],
   "source": [
    "def regresar(row,iterated,returned):\n",
    "    l=[]\n",
    "    for row in iterated:\n",
    "        l.append(returned)\n",
    "    return l\n"
   ]
  },
  {
   "cell_type": "markdown",
   "metadata": {},
   "source": [
    "# Probando recorrer filas"
   ]
  },
  {
   "cell_type": "code",
   "execution_count": 58,
   "metadata": {},
   "outputs": [
    {
     "name": "stdout",
     "output_type": "stream",
     "text": [
      "13.2 ms ± 56.9 µs per loop (mean ± std. dev. of 7 runs, 100 loops each)\n"
     ]
    }
   ],
   "source": [
    "%%timeit\n",
    "l=[]\n",
    "l.append(df_sygnal_data.apply(lambda row: row[\"date\"],axis=1))\n",
    "l"
   ]
  },
  {
   "cell_type": "code",
   "execution_count": 59,
   "metadata": {},
   "outputs": [
    {
     "name": "stdout",
     "output_type": "stream",
     "text": [
      "5.14 ms ± 209 µs per loop (mean ± std. dev. of 7 runs, 100 loops each)\n"
     ]
    }
   ],
   "source": [
    "%%timeit\n",
    "#for row in df_sygnal_data.itertuples():\n",
    "#    print(row.date)\n",
    "regresar(row,df_sygnal_data.itertuples(),row.date)\n"
   ]
  },
  {
   "cell_type": "code",
   "execution_count": 60,
   "metadata": {},
   "outputs": [
    {
     "name": "stdout",
     "output_type": "stream",
     "text": [
      "35.4 ms ± 479 µs per loop (mean ± std. dev. of 7 runs, 10 loops each)\n"
     ]
    }
   ],
   "source": [
    "%%timeit\n",
    "#for index, row in df_sygnal_data.iterrows():\n",
    "#    print(row.date)\n",
    "regresar((index,row),df_sygnal_data.iterrows(),row.date)    "
   ]
  },
  {
   "cell_type": "code",
   "execution_count": 62,
   "metadata": {},
   "outputs": [
    {
     "name": "stdout",
     "output_type": "stream",
     "text": [
      "92.9 µs ± 1.15 µs per loop (mean ± std. dev. of 7 runs, 10,000 loops each)\n"
     ]
    }
   ],
   "source": [
    "%%timeit\n",
    "#for i in range(len(df_sygnal_data)):\n",
    "#    print(df_sygnal_data.loc[i,\"date\"])\n",
    "regresar(i,range(len(df_sygnal_data)),df_sygnal_data.loc[i,\"date\"])"
   ]
  },
  {
   "cell_type": "code",
   "execution_count": 87,
   "metadata": {},
   "outputs": [
    {
     "name": "stdout",
     "output_type": "stream",
     "text": [
      "<class 'pandas.core.frame.DataFrame'>\n",
      "Int64Index: 31361 entries, 1640995200000 to 1650403200000\n",
      "Data columns (total 12 columns):\n",
      " #   Column       Non-Null Count  Dtype         \n",
      "---  ------       --------------  -----         \n",
      " 0   open         31361 non-null  float64       \n",
      " 1   high         31361 non-null  float64       \n",
      " 2   low          31361 non-null  float64       \n",
      " 3   close        31361 non-null  float64       \n",
      " 4   volume       31361 non-null  object        \n",
      " 5   close_time   31361 non-null  int64         \n",
      " 6   quote_av     31361 non-null  object        \n",
      " 7   trades       31361 non-null  int64         \n",
      " 8   tb_base_av   31361 non-null  object        \n",
      " 9   tb_quote_av  31361 non-null  object        \n",
      " 10  ignore       31361 non-null  object        \n",
      " 11  date_myUTC   31361 non-null  datetime64[ns]\n",
      "dtypes: datetime64[ns](1), float64(4), int64(2), object(5)\n",
      "memory usage: 4.1+ MB\n"
     ]
    }
   ],
   "source": [
    "df_symbol2=df_symbol.copy()\n",
    "df_symbol2[[\"open\",\"high\",\"low\",\"close\"]]=df_symbol2[[\"open\",\"high\",\"low\",\"close\"]].astype(float)\n",
    "df_symbol2.info()"
   ]
  },
  {
   "cell_type": "code",
   "execution_count": 70,
   "metadata": {},
   "outputs": [
    {
     "data": {
      "text/plain": [
       "Index(['_id', 'symbol_message', 'symbol', 'currencies', 'is_future', 'is_long',\n",
       "       'leverage', 'percent_amount', 'is_entry_market', 'entry_targets',\n",
       "       'take_profit_targets', 'stop_targets', 'trailing_configuration',\n",
       "       'quantity', 'quantity_take_profit', 'free', 'timeStamp_Tg', 'date',\n",
       "       'message_id', 'channel', 'channel_id'],\n",
       "      dtype='object')"
      ]
     },
     "execution_count": 70,
     "metadata": {},
     "output_type": "execute_result"
    }
   ],
   "source": [
    "df_sygnal_data.columns"
   ]
  },
  {
   "cell_type": "code",
   "execution_count": 77,
   "metadata": {},
   "outputs": [
    {
     "data": {
      "text/plain": [
       "46216.93"
      ]
     },
     "execution_count": 77,
     "metadata": {},
     "output_type": "execute_result"
    }
   ],
   "source": [
    "df_symbol.iloc[0,0]\n",
    "float(df_symbol.iloc[0,0])"
   ]
  },
  {
   "cell_type": "code",
   "execution_count": 159,
   "metadata": {},
   "outputs": [
    {
     "data": {
      "text/plain": [
       "Timestamp('2021-12-31 20:00:00')"
      ]
     },
     "execution_count": 159,
     "metadata": {},
     "output_type": "execute_result"
    }
   ],
   "source": [
    "operate=43000\n",
    "mask=(df_symbol2[\"open\"])>=operate | (df_symbol2[\"high\"]>=operate) | (df_symbol2[\"low\"]>=operate) | (df_symbol2[\"close\"]>=operate) & df_symbol2[\"date_myUTC\"].between(\"2020-03-08\",\"2022-04-08\")\n",
    "lalist:pd.DataFrame= df_symbol[mask].iloc[0:3][[\"date_myUTC\",\"open\"]]\n",
    "ladict={k[1]:k[0] for k in lalist.to_dict(\"split\")[\"data\"]}\n",
    "list(ladict.values())[0]"
   ]
  },
  {
   "cell_type": "code",
   "execution_count": 117,
   "metadata": {},
   "outputs": [
    {
     "data": {
      "text/plain": [
       "[Timestamp('2021-12-31 20:10:00'),\n",
       " Timestamp('2021-12-31 20:05:00'),\n",
       " Timestamp('2021-12-31 20:00:00')]"
      ]
     },
     "execution_count": 117,
     "metadata": {},
     "output_type": "execute_result"
    }
   ],
   "source": [
    "lalist.sort(reverse=True)\n",
    "lalist"
   ]
  }
 ],
 "metadata": {
  "interpreter": {
   "hash": "8c0b148944122d742c1291827f2d677fb42d442700130e91491ee3d2626c4890"
  },
  "kernelspec": {
   "display_name": "Python 3.9.7 ('pasanti_venv')",
   "language": "python",
   "name": "python3"
  },
  "language_info": {
   "codemirror_mode": {
    "name": "ipython",
    "version": 3
   },
   "file_extension": ".py",
   "mimetype": "text/x-python",
   "name": "python",
   "nbconvert_exporter": "python",
   "pygments_lexer": "ipython3",
   "version": "3.9.7"
  },
  "orig_nbformat": 4
 },
 "nbformat": 4,
 "nbformat_minor": 2
}
