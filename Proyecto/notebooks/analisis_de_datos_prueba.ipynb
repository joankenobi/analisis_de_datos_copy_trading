{
 "cells": [
  {
   "cell_type": "code",
   "execution_count": null,
   "metadata": {},
   "outputs": [],
   "source": [
    "from pymongo import MongoClient\n"
   ]
  },
  {
   "cell_type": "code",
   "execution_count": null,
   "metadata": {},
   "outputs": [],
   "source": [
    "from prophet import Prophet"
   ]
  },
  {
   "cell_type": "code",
   "execution_count": 16,
   "metadata": {},
   "outputs": [],
   "source": [
    "m=Prophet()"
   ]
  },
  {
   "cell_type": "code",
   "execution_count": 1,
   "metadata": {},
   "outputs": [],
   "source": [
    "import pandas as pd\n",
    "import numpy as np\n",
    "import seaborn as sns\n",
    "import matplotlib.pyplot as plt\n",
    "import seaborn as sb\n",
    "#import binance\n",
    "from datetime import datetime, timedelta\n",
    "from dateutil import parser\n",
    "#pd.options.display.float_format=\"{:,.1f}\".format"
   ]
  },
  {
   "cell_type": "markdown",
   "metadata": {},
   "source": [
    "# conectar con la DB"
   ]
  },
  {
   "cell_type": "code",
   "execution_count": 18,
   "metadata": {},
   "outputs": [],
   "source": [
    "client = MongoClient('localhost', 27017)\n",
    "db=client[\"back_prueba\"]\n",
    "#db.drop_collection()\n",
    "data= db.signals.find()\n",
    "list_data = list(data)\n"
   ]
  },
  {
   "cell_type": "code",
   "execution_count": 19,
   "metadata": {},
   "outputs": [
    {
     "data": {
      "text/plain": [
       "Index(['_id', 'symbol_message', 'symbol', 'currencies', 'is_future', 'is_long',\n",
       "       'leverage', 'percent_amount', 'is_entry_market', 'entry_targets',\n",
       "       'take_profit_targets', 'stop_targets', 'trailing_configuration',\n",
       "       'quantity', 'quantity_take_profit', 'free', 'timeStamp_Tg', 'date',\n",
       "       'message_id', 'channel', 'channel_id', 'message_link', 'dates_entry',\n",
       "       'dates_stoploss', 'dates_profit', 'efficiency'],\n",
       "      dtype='object')"
      ]
     },
     "execution_count": 19,
     "metadata": {},
     "output_type": "execute_result"
    }
   ],
   "source": [
    "df = pd.DataFrame(list_data)\n",
    "df.columns\n"
   ]
  },
  {
   "cell_type": "code",
   "execution_count": 20,
   "metadata": {},
   "outputs": [
    {
     "data": {
      "text/html": [
       "<div>\n",
       "<style scoped>\n",
       "    .dataframe tbody tr th:only-of-type {\n",
       "        vertical-align: middle;\n",
       "    }\n",
       "\n",
       "    .dataframe tbody tr th {\n",
       "        vertical-align: top;\n",
       "    }\n",
       "\n",
       "    .dataframe thead th {\n",
       "        text-align: right;\n",
       "    }\n",
       "</style>\n",
       "<table border=\"1\" class=\"dataframe\">\n",
       "  <thead>\n",
       "    <tr style=\"text-align: right;\">\n",
       "      <th></th>\n",
       "      <th>is_long</th>\n",
       "      <th>dates_entry</th>\n",
       "      <th>dates_profit</th>\n",
       "      <th>dates_stoploss</th>\n",
       "      <th>symbol</th>\n",
       "      <th>efficiency</th>\n",
       "      <th>channel</th>\n",
       "    </tr>\n",
       "  </thead>\n",
       "  <tbody>\n",
       "    <tr>\n",
       "      <th>0</th>\n",
       "      <td>True</td>\n",
       "      <td>{'269.5': 2020-08-28 11:10:00, '267.0': 2020-0...</td>\n",
       "      <td>{'273.0': 2020-08-30 08:35:00, '275.0': 2020-0...</td>\n",
       "      <td>{'257.05': 2020-09-02 07:10:00}</td>\n",
       "      <td>BCHUSDT</td>\n",
       "      <td>{'3/3 ': 1.0}</td>\n",
       "      <td>Crypto Futures Spot Signals😘</td>\n",
       "    </tr>\n",
       "    <tr>\n",
       "      <th>1</th>\n",
       "      <td>True</td>\n",
       "      <td>{'367.2': 2020-09-14 07:15:00, '363.0': 2020-0...</td>\n",
       "      <td>{'370.0': 2020-09-14 08:00:00, '373.4': 2020-0...</td>\n",
       "      <td>{'352.11': 2020-09-21 07:20:00}</td>\n",
       "      <td>ETHUSDT</td>\n",
       "      <td>{'5/5 ': 1.0}</td>\n",
       "      <td>Crypto Futures Spot Signals😘</td>\n",
       "    </tr>\n",
       "    <tr>\n",
       "      <th>2</th>\n",
       "      <td>False</td>\n",
       "      <td>{'11030.0': 2020-10-09 07:00:00, '11065.0': 20...</td>\n",
       "      <td>{'10950.0': False, '10900.0': False, '10850.0'...</td>\n",
       "      <td>{'11190.0': 2020-10-09 22:05:00}</td>\n",
       "      <td>BTCUSDT</td>\n",
       "      <td>{'0/5 ': 0.0}</td>\n",
       "      <td>Crypto Futures Spot Signals😘</td>\n",
       "    </tr>\n",
       "    <tr>\n",
       "      <th>3</th>\n",
       "      <td>True</td>\n",
       "      <td>{'1.1285999999999998': 2021-02-17 03:55:00, '1...</td>\n",
       "      <td>{'2.0': False, '3.0': False}</td>\n",
       "      <td>{'1.0947419999999999': 2021-02-22 10:10:00}</td>\n",
       "      <td>ONTUSDT</td>\n",
       "      <td>{'0/2 ': 0.0}</td>\n",
       "      <td>𝑪𝒐𝒊𝒏|𝑪𝒐𝒂𝒄𝒉|𝑺𝒊𝒈𝒏𝒂𝒍𝒔</td>\n",
       "    </tr>\n",
       "    <tr>\n",
       "      <th>4</th>\n",
       "      <td>True</td>\n",
       "      <td>{'1.9205999999999999': 2021-02-20 18:15:00, '1...</td>\n",
       "      <td>{'2.03': False}</td>\n",
       "      <td>{'1.862982': 2021-02-20 18:30:00}</td>\n",
       "      <td>TOMOUSDT</td>\n",
       "      <td>{'0/1 ': 0.0}</td>\n",
       "      <td>𝑪𝒐𝒊𝒏|𝑪𝒐𝒂𝒄𝒉|𝑺𝒊𝒈𝒏𝒂𝒍𝒔</td>\n",
       "    </tr>\n",
       "    <tr>\n",
       "      <th>5</th>\n",
       "      <td>True</td>\n",
       "      <td>{'4.2867': 2021-02-18 09:55:00, '4.297525': 20...</td>\n",
       "      <td>{'4.45': 2021-02-18 12:30:00}</td>\n",
       "      <td>{'4.158099': 2021-02-18 22:05:00}</td>\n",
       "      <td>NEARUSDT</td>\n",
       "      <td>{'1/1 ': 1.0}</td>\n",
       "      <td>𝑪𝒐𝒊𝒏|𝑪𝒐𝒂𝒄𝒉|𝑺𝒊𝒈𝒏𝒂𝒍𝒔</td>\n",
       "    </tr>\n",
       "    <tr>\n",
       "      <th>6</th>\n",
       "      <td>True</td>\n",
       "      <td>{'167.0': 2021-08-30 19:45:00, '175.0': 2021-0...</td>\n",
       "      <td>{'176.8': 2021-09-01 10:20:00, '179.0': 2021-0...</td>\n",
       "      <td>{'156.79': 2021-09-20 07:25:00}</td>\n",
       "      <td>LTCUSDT</td>\n",
       "      <td>{'9/10 ': 0.9}</td>\n",
       "      <td>Bitcoin Bullets VIP Free</td>\n",
       "    </tr>\n",
       "    <tr>\n",
       "      <th>7</th>\n",
       "      <td>True</td>\n",
       "      <td>{'0.264': 2021-09-07 10:45:00, '0.288': 2021-0...</td>\n",
       "      <td>{'0.292': False, '0.3': False, '0.31': False, ...</td>\n",
       "      <td>{'0.244': 2021-09-07 10:55:00}</td>\n",
       "      <td>DOGEUSDT</td>\n",
       "      <td>{'0/10 ': 0.0}</td>\n",
       "      <td>Bitcoin Bullets VIP Free</td>\n",
       "    </tr>\n",
       "    <tr>\n",
       "      <th>8</th>\n",
       "      <td>True</td>\n",
       "      <td>{'1.033': 2021-09-07 10:55:00, '1.108': 2021-0...</td>\n",
       "      <td>{'1.122': False, '1.14': False, '1.16': False,...</td>\n",
       "      <td>{'0.942': 2021-09-07 11:05:00}</td>\n",
       "      <td>ONTUSDT</td>\n",
       "      <td>{'0/14 ': 0.0}</td>\n",
       "      <td>Bitcoin Bullets VIP Free</td>\n",
       "    </tr>\n",
       "    <tr>\n",
       "      <th>9</th>\n",
       "      <td>False</td>\n",
       "      <td>{'40.0': 2021-07-26 00:40:00, '41.66': 2021-07...</td>\n",
       "      <td>{'39.0': 2021-07-26 02:25:00, '37.5': 2021-07-...</td>\n",
       "      <td>{'47.76': 2021-07-27 05:25:00}</td>\n",
       "      <td>AXSUSDT</td>\n",
       "      <td>{'3/8 ': 0.375}</td>\n",
       "      <td>Federal Russian Insiders VIP Free</td>\n",
       "    </tr>\n",
       "    <tr>\n",
       "      <th>10</th>\n",
       "      <td>True</td>\n",
       "      <td>{'0.635': 2021-12-04 01:25:00, '0.6575': 2021-...</td>\n",
       "      <td>{'0.7': 2021-12-04 01:35:00, '0.72': 2021-12-0...</td>\n",
       "      <td>{'0.56': 2022-01-20 21:35:00}</td>\n",
       "      <td>ONTUSDT</td>\n",
       "      <td>{'4/9 ': 0.4444444444444444}</td>\n",
       "      <td>Federal Russian Insiders VIP Free</td>\n",
       "    </tr>\n",
       "    <tr>\n",
       "      <th>11</th>\n",
       "      <td>True</td>\n",
       "      <td>{'131.8': 2021-12-04 01:25:00, '135.9': 2021-0...</td>\n",
       "      <td>{'143.0': 2021-12-04 01:25:00, '147.0': 2021-1...</td>\n",
       "      <td>{'123.05': 2022-01-10 10:15:00}</td>\n",
       "      <td>LTCUSDT</td>\n",
       "      <td>{'5/8 ': 0.625}</td>\n",
       "      <td>Federal Russian Insiders VIP Free</td>\n",
       "    </tr>\n",
       "  </tbody>\n",
       "</table>\n",
       "</div>"
      ],
      "text/plain": [
       "    is_long                                        dates_entry  \\\n",
       "0      True  {'269.5': 2020-08-28 11:10:00, '267.0': 2020-0...   \n",
       "1      True  {'367.2': 2020-09-14 07:15:00, '363.0': 2020-0...   \n",
       "2     False  {'11030.0': 2020-10-09 07:00:00, '11065.0': 20...   \n",
       "3      True  {'1.1285999999999998': 2021-02-17 03:55:00, '1...   \n",
       "4      True  {'1.9205999999999999': 2021-02-20 18:15:00, '1...   \n",
       "5      True  {'4.2867': 2021-02-18 09:55:00, '4.297525': 20...   \n",
       "6      True  {'167.0': 2021-08-30 19:45:00, '175.0': 2021-0...   \n",
       "7      True  {'0.264': 2021-09-07 10:45:00, '0.288': 2021-0...   \n",
       "8      True  {'1.033': 2021-09-07 10:55:00, '1.108': 2021-0...   \n",
       "9     False  {'40.0': 2021-07-26 00:40:00, '41.66': 2021-07...   \n",
       "10     True  {'0.635': 2021-12-04 01:25:00, '0.6575': 2021-...   \n",
       "11     True  {'131.8': 2021-12-04 01:25:00, '135.9': 2021-0...   \n",
       "\n",
       "                                         dates_profit  \\\n",
       "0   {'273.0': 2020-08-30 08:35:00, '275.0': 2020-0...   \n",
       "1   {'370.0': 2020-09-14 08:00:00, '373.4': 2020-0...   \n",
       "2   {'10950.0': False, '10900.0': False, '10850.0'...   \n",
       "3                        {'2.0': False, '3.0': False}   \n",
       "4                                     {'2.03': False}   \n",
       "5                       {'4.45': 2021-02-18 12:30:00}   \n",
       "6   {'176.8': 2021-09-01 10:20:00, '179.0': 2021-0...   \n",
       "7   {'0.292': False, '0.3': False, '0.31': False, ...   \n",
       "8   {'1.122': False, '1.14': False, '1.16': False,...   \n",
       "9   {'39.0': 2021-07-26 02:25:00, '37.5': 2021-07-...   \n",
       "10  {'0.7': 2021-12-04 01:35:00, '0.72': 2021-12-0...   \n",
       "11  {'143.0': 2021-12-04 01:25:00, '147.0': 2021-1...   \n",
       "\n",
       "                                 dates_stoploss    symbol  \\\n",
       "0               {'257.05': 2020-09-02 07:10:00}   BCHUSDT   \n",
       "1               {'352.11': 2020-09-21 07:20:00}   ETHUSDT   \n",
       "2              {'11190.0': 2020-10-09 22:05:00}   BTCUSDT   \n",
       "3   {'1.0947419999999999': 2021-02-22 10:10:00}   ONTUSDT   \n",
       "4             {'1.862982': 2021-02-20 18:30:00}  TOMOUSDT   \n",
       "5             {'4.158099': 2021-02-18 22:05:00}  NEARUSDT   \n",
       "6               {'156.79': 2021-09-20 07:25:00}   LTCUSDT   \n",
       "7                {'0.244': 2021-09-07 10:55:00}  DOGEUSDT   \n",
       "8                {'0.942': 2021-09-07 11:05:00}   ONTUSDT   \n",
       "9                {'47.76': 2021-07-27 05:25:00}   AXSUSDT   \n",
       "10                {'0.56': 2022-01-20 21:35:00}   ONTUSDT   \n",
       "11              {'123.05': 2022-01-10 10:15:00}   LTCUSDT   \n",
       "\n",
       "                      efficiency                            channel  \n",
       "0                  {'3/3 ': 1.0}       Crypto Futures Spot Signals😘  \n",
       "1                  {'5/5 ': 1.0}       Crypto Futures Spot Signals😘  \n",
       "2                  {'0/5 ': 0.0}       Crypto Futures Spot Signals😘  \n",
       "3                  {'0/2 ': 0.0}                 𝑪𝒐𝒊𝒏|𝑪𝒐𝒂𝒄𝒉|𝑺𝒊𝒈𝒏𝒂𝒍𝒔  \n",
       "4                  {'0/1 ': 0.0}                 𝑪𝒐𝒊𝒏|𝑪𝒐𝒂𝒄𝒉|𝑺𝒊𝒈𝒏𝒂𝒍𝒔  \n",
       "5                  {'1/1 ': 1.0}                 𝑪𝒐𝒊𝒏|𝑪𝒐𝒂𝒄𝒉|𝑺𝒊𝒈𝒏𝒂𝒍𝒔  \n",
       "6                 {'9/10 ': 0.9}           Bitcoin Bullets VIP Free  \n",
       "7                 {'0/10 ': 0.0}           Bitcoin Bullets VIP Free  \n",
       "8                 {'0/14 ': 0.0}           Bitcoin Bullets VIP Free  \n",
       "9                {'3/8 ': 0.375}  Federal Russian Insiders VIP Free  \n",
       "10  {'4/9 ': 0.4444444444444444}  Federal Russian Insiders VIP Free  \n",
       "11               {'5/8 ': 0.625}  Federal Russian Insiders VIP Free  "
      ]
     },
     "execution_count": 20,
     "metadata": {},
     "output_type": "execute_result"
    }
   ],
   "source": [
    "mask=df[\"symbol\"]==\"KAVAUSDT\"\n",
    "df.loc[:,[\"is_long\",'dates_entry',\n",
    "        'dates_profit', \n",
    "        'dates_stoploss',\n",
    "        'symbol',\n",
    "        \"efficiency\",\n",
    "        \"channel\"]]"
   ]
  },
  {
   "cell_type": "code",
   "execution_count": 21,
   "metadata": {},
   "outputs": [
    {
     "data": {
      "text/plain": [
       "datetime.datetime(2020, 9, 14, 11, 10, 46)"
      ]
     },
     "execution_count": 21,
     "metadata": {},
     "output_type": "execute_result"
    }
   ],
   "source": [
    "datetime.utcfromtimestamp(1600081846)"
   ]
  },
  {
   "cell_type": "markdown",
   "metadata": {},
   "source": [
    "# Read pickle"
   ]
  },
  {
   "cell_type": "code",
   "execution_count": 22,
   "metadata": {},
   "outputs": [],
   "source": [
    "#df_sygnal_data = pd.read_csv(\"sygnals_operations.csv\")\n",
    "df_sygnal_data:pd.DataFrame = pd.read_pickle(\"sygnals_operations.pickle\")"
   ]
  },
  {
   "cell_type": "markdown",
   "metadata": {},
   "source": [
    "# Crear archivo pickle"
   ]
  },
  {
   "cell_type": "code",
   "execution_count": 23,
   "metadata": {},
   "outputs": [],
   "source": [
    "df.to_pickle('sygnals_operations.pickle',)\n"
   ]
  },
  {
   "cell_type": "markdown",
   "metadata": {},
   "source": [
    "# drop a row from df"
   ]
  },
  {
   "cell_type": "code",
   "execution_count": 24,
   "metadata": {},
   "outputs": [
    {
     "data": {
      "text/plain": [
       "0                 [257.05]\n",
       "1                 [352.11]\n",
       "2                [11190.0]\n",
       "3     [1.0947419999999999]\n",
       "4               [1.862982]\n",
       "5               [4.158099]\n",
       "6                 [156.79]\n",
       "7                  [0.244]\n",
       "8                  [0.942]\n",
       "9                  [47.76]\n",
       "10                  [0.56]\n",
       "11                [123.05]\n",
       "Name: stop_targets, dtype: object"
      ]
     },
     "execution_count": 24,
     "metadata": {},
     "output_type": "execute_result"
    }
   ],
   "source": [
    "mask=\"stop_targets\"\n",
    "df[mask]"
   ]
  },
  {
   "cell_type": "code",
   "execution_count": 25,
   "metadata": {},
   "outputs": [
    {
     "data": {
      "text/plain": [
       "0       257.050000\n",
       "1       352.110000\n",
       "2     11190.000000\n",
       "3         1.094742\n",
       "4         1.862982\n",
       "5         4.158099\n",
       "6       156.790000\n",
       "7         0.244000\n",
       "8         0.942000\n",
       "9        47.760000\n",
       "10        0.560000\n",
       "11      123.050000\n",
       "Name: stop_targets, dtype: float64"
      ]
     },
     "execution_count": 25,
     "metadata": {},
     "output_type": "execute_result"
    }
   ],
   "source": [
    "df[\"stop_targets\"].apply(lambda x: x.pop(0))\n",
    "#lis=[].pop(0)\n",
    "#lis"
   ]
  },
  {
   "cell_type": "code",
   "execution_count": 26,
   "metadata": {},
   "outputs": [
    {
     "data": {
      "text/html": [
       "<div>\n",
       "<style scoped>\n",
       "    .dataframe tbody tr th:only-of-type {\n",
       "        vertical-align: middle;\n",
       "    }\n",
       "\n",
       "    .dataframe tbody tr th {\n",
       "        vertical-align: top;\n",
       "    }\n",
       "\n",
       "    .dataframe thead th {\n",
       "        text-align: right;\n",
       "    }\n",
       "</style>\n",
       "<table border=\"1\" class=\"dataframe\">\n",
       "  <thead>\n",
       "    <tr style=\"text-align: right;\">\n",
       "      <th></th>\n",
       "      <th>symbol</th>\n",
       "      <th>currencies</th>\n",
       "      <th>channel</th>\n",
       "    </tr>\n",
       "  </thead>\n",
       "  <tbody>\n",
       "    <tr>\n",
       "      <th>0</th>\n",
       "      <td>BCHUSDT</td>\n",
       "      <td>{'primary': 'BCH', 'segundary': 'USDT'}</td>\n",
       "      <td>Crypto Futures Spot Signals😘</td>\n",
       "    </tr>\n",
       "    <tr>\n",
       "      <th>1</th>\n",
       "      <td>ETHUSDT</td>\n",
       "      <td>{'primary': 'ETH', 'segundary': 'USDT'}</td>\n",
       "      <td>Crypto Futures Spot Signals😘</td>\n",
       "    </tr>\n",
       "    <tr>\n",
       "      <th>2</th>\n",
       "      <td>BTCUSDT</td>\n",
       "      <td>{'primary': 'BTC', 'segundary': 'USDT'}</td>\n",
       "      <td>Crypto Futures Spot Signals😘</td>\n",
       "    </tr>\n",
       "    <tr>\n",
       "      <th>3</th>\n",
       "      <td>ONTUSDT</td>\n",
       "      <td>{'primary': 'ONT', 'segundary': 'USDT'}</td>\n",
       "      <td>𝑪𝒐𝒊𝒏|𝑪𝒐𝒂𝒄𝒉|𝑺𝒊𝒈𝒏𝒂𝒍𝒔</td>\n",
       "    </tr>\n",
       "    <tr>\n",
       "      <th>4</th>\n",
       "      <td>TOMOUSDT</td>\n",
       "      <td>{'primary': 'TOMO', 'segundary': 'USDT'}</td>\n",
       "      <td>𝑪𝒐𝒊𝒏|𝑪𝒐𝒂𝒄𝒉|𝑺𝒊𝒈𝒏𝒂𝒍𝒔</td>\n",
       "    </tr>\n",
       "    <tr>\n",
       "      <th>5</th>\n",
       "      <td>NEARUSDT</td>\n",
       "      <td>{'primary': 'NEAR', 'segundary': 'USDT'}</td>\n",
       "      <td>𝑪𝒐𝒊𝒏|𝑪𝒐𝒂𝒄𝒉|𝑺𝒊𝒈𝒏𝒂𝒍𝒔</td>\n",
       "    </tr>\n",
       "    <tr>\n",
       "      <th>6</th>\n",
       "      <td>LTCUSDT</td>\n",
       "      <td>{'primary': 'LTC', 'segundary': 'USDT'}</td>\n",
       "      <td>Bitcoin Bullets VIP Free</td>\n",
       "    </tr>\n",
       "    <tr>\n",
       "      <th>7</th>\n",
       "      <td>DOGEUSDT</td>\n",
       "      <td>{'primary': 'DOGE', 'segundary': 'USDT'}</td>\n",
       "      <td>Bitcoin Bullets VIP Free</td>\n",
       "    </tr>\n",
       "    <tr>\n",
       "      <th>8</th>\n",
       "      <td>ONTUSDT</td>\n",
       "      <td>{'primary': 'ONT', 'segundary': 'USDT'}</td>\n",
       "      <td>Bitcoin Bullets VIP Free</td>\n",
       "    </tr>\n",
       "    <tr>\n",
       "      <th>9</th>\n",
       "      <td>AXSUSDT</td>\n",
       "      <td>{'primary': 'AXS', 'segundary': 'USDT'}</td>\n",
       "      <td>Federal Russian Insiders VIP Free</td>\n",
       "    </tr>\n",
       "    <tr>\n",
       "      <th>10</th>\n",
       "      <td>ONTUSDT</td>\n",
       "      <td>{'primary': 'ONT', 'segundary': 'USDT'}</td>\n",
       "      <td>Federal Russian Insiders VIP Free</td>\n",
       "    </tr>\n",
       "    <tr>\n",
       "      <th>11</th>\n",
       "      <td>LTCUSDT</td>\n",
       "      <td>{'primary': 'LTC', 'segundary': 'USDT'}</td>\n",
       "      <td>Federal Russian Insiders VIP Free</td>\n",
       "    </tr>\n",
       "  </tbody>\n",
       "</table>\n",
       "</div>"
      ],
      "text/plain": [
       "      symbol                                currencies  \\\n",
       "0    BCHUSDT   {'primary': 'BCH', 'segundary': 'USDT'}   \n",
       "1    ETHUSDT   {'primary': 'ETH', 'segundary': 'USDT'}   \n",
       "2    BTCUSDT   {'primary': 'BTC', 'segundary': 'USDT'}   \n",
       "3    ONTUSDT   {'primary': 'ONT', 'segundary': 'USDT'}   \n",
       "4   TOMOUSDT  {'primary': 'TOMO', 'segundary': 'USDT'}   \n",
       "5   NEARUSDT  {'primary': 'NEAR', 'segundary': 'USDT'}   \n",
       "6    LTCUSDT   {'primary': 'LTC', 'segundary': 'USDT'}   \n",
       "7   DOGEUSDT  {'primary': 'DOGE', 'segundary': 'USDT'}   \n",
       "8    ONTUSDT   {'primary': 'ONT', 'segundary': 'USDT'}   \n",
       "9    AXSUSDT   {'primary': 'AXS', 'segundary': 'USDT'}   \n",
       "10   ONTUSDT   {'primary': 'ONT', 'segundary': 'USDT'}   \n",
       "11   LTCUSDT   {'primary': 'LTC', 'segundary': 'USDT'}   \n",
       "\n",
       "                              channel  \n",
       "0        Crypto Futures Spot Signals😘  \n",
       "1        Crypto Futures Spot Signals😘  \n",
       "2        Crypto Futures Spot Signals😘  \n",
       "3                  𝑪𝒐𝒊𝒏|𝑪𝒐𝒂𝒄𝒉|𝑺𝒊𝒈𝒏𝒂𝒍𝒔  \n",
       "4                  𝑪𝒐𝒊𝒏|𝑪𝒐𝒂𝒄𝒉|𝑺𝒊𝒈𝒏𝒂𝒍𝒔  \n",
       "5                  𝑪𝒐𝒊𝒏|𝑪𝒐𝒂𝒄𝒉|𝑺𝒊𝒈𝒏𝒂𝒍𝒔  \n",
       "6            Bitcoin Bullets VIP Free  \n",
       "7            Bitcoin Bullets VIP Free  \n",
       "8            Bitcoin Bullets VIP Free  \n",
       "9   Federal Russian Insiders VIP Free  \n",
       "10  Federal Russian Insiders VIP Free  \n",
       "11  Federal Russian Insiders VIP Free  "
      ]
     },
     "execution_count": 26,
     "metadata": {},
     "output_type": "execute_result"
    }
   ],
   "source": [
    "df[[\"symbol\",\"currencies\", \"channel\"]]\n"
   ]
  },
  {
   "cell_type": "code",
   "execution_count": 27,
   "metadata": {},
   "outputs": [
    {
     "data": {
      "text/plain": [
       "Index(['_id', 'symbol_message', 'symbol', 'currencies', 'is_future', 'is_long',\n",
       "       'leverage', 'percent_amount', 'is_entry_market', 'entry_targets',\n",
       "       'take_profit_targets', 'stop_targets', 'trailing_configuration',\n",
       "       'quantity', 'quantity_take_profit', 'free', 'timeStamp_Tg', 'date',\n",
       "       'message_id', 'channel', 'channel_id', 'message_link', 'dates_entry',\n",
       "       'dates_stoploss', 'dates_profit', 'efficiency'],\n",
       "      dtype='object')"
      ]
     },
     "execution_count": 27,
     "metadata": {},
     "output_type": "execute_result"
    }
   ],
   "source": [
    "df.columns"
   ]
  },
  {
   "cell_type": "code",
   "execution_count": 28,
   "metadata": {},
   "outputs": [],
   "source": [
    "mask=df[\"symbol_message\"].str.contains(\"/\")\n",
    "mask\n",
    "df=df[mask]"
   ]
  },
  {
   "cell_type": "code",
   "execution_count": 29,
   "metadata": {},
   "outputs": [
    {
     "data": {
      "text/plain": [
       "Crypto Futures Spot Signals😘    3\n",
       "Name: channel, dtype: int64"
      ]
     },
     "execution_count": 29,
     "metadata": {},
     "output_type": "execute_result"
    }
   ],
   "source": [
    "df.channel.value_counts()\n"
   ]
  },
  {
   "cell_type": "code",
   "execution_count": 30,
   "metadata": {},
   "outputs": [
    {
     "data": {
      "text/plain": [
       "pandas.core.series.Series"
      ]
     },
     "execution_count": 30,
     "metadata": {},
     "output_type": "execute_result"
    }
   ],
   "source": [
    "symbols_count = df[[\"symbol\", \"channel\"]].value_counts().sort_values(ascending=False)\n",
    "important_symbol = symbols_count.head(40)\n",
    "type(important_symbol)\n"
   ]
  },
  {
   "cell_type": "code",
   "execution_count": 31,
   "metadata": {},
   "outputs": [
    {
     "data": {
      "text/html": [
       "<div>\n",
       "<style scoped>\n",
       "    .dataframe tbody tr th:only-of-type {\n",
       "        vertical-align: middle;\n",
       "    }\n",
       "\n",
       "    .dataframe tbody tr th {\n",
       "        vertical-align: top;\n",
       "    }\n",
       "\n",
       "    .dataframe thead tr th {\n",
       "        text-align: left;\n",
       "    }\n",
       "\n",
       "    .dataframe thead tr:last-of-type th {\n",
       "        text-align: right;\n",
       "    }\n",
       "</style>\n",
       "<table border=\"1\" class=\"dataframe\">\n",
       "  <thead>\n",
       "    <tr>\n",
       "      <th></th>\n",
       "      <th colspan=\"4\" halign=\"left\">symbol</th>\n",
       "    </tr>\n",
       "    <tr>\n",
       "      <th></th>\n",
       "      <th>count</th>\n",
       "      <th>unique</th>\n",
       "      <th>top</th>\n",
       "      <th>freq</th>\n",
       "    </tr>\n",
       "    <tr>\n",
       "      <th>channel</th>\n",
       "      <th></th>\n",
       "      <th></th>\n",
       "      <th></th>\n",
       "      <th></th>\n",
       "    </tr>\n",
       "  </thead>\n",
       "  <tbody>\n",
       "    <tr>\n",
       "      <th>Crypto Futures Spot Signals😘</th>\n",
       "      <td>3</td>\n",
       "      <td>3</td>\n",
       "      <td>BCHUSDT</td>\n",
       "      <td>1</td>\n",
       "    </tr>\n",
       "  </tbody>\n",
       "</table>\n",
       "</div>"
      ],
      "text/plain": [
       "                             symbol                     \n",
       "                              count unique      top freq\n",
       "channel                                                 \n",
       "Crypto Futures Spot Signals😘      3      3  BCHUSDT    1"
      ]
     },
     "execution_count": 31,
     "metadata": {},
     "output_type": "execute_result"
    }
   ],
   "source": [
    "symbols_count = df[[\"symbol\", \"channel\"]]\n",
    "important_symbol = symbols_count\n",
    "important_symbol.groupby(\"channel\").describe()\n"
   ]
  },
  {
   "cell_type": "code",
   "execution_count": 32,
   "metadata": {},
   "outputs": [
    {
     "data": {
      "text/plain": [
       "<AxesSubplot:>"
      ]
     },
     "execution_count": 32,
     "metadata": {},
     "output_type": "execute_result"
    },
    {
     "data": {
      "image/png": "[encoded data removed]",
      "text/plain": [
       "<Figure size 2160x720 with 1 Axes>"
      ]
     },
     "metadata": {
      "needs_background": "light"
     },
     "output_type": "display_data"
    }
   ],
   "source": [
    "important_symbol[\"symbol\"].hist(figsize=(30, 10),xrot=90, bins=200,)\n"
   ]
  },
  {
   "cell_type": "code",
   "execution_count": 33,
   "metadata": {},
   "outputs": [],
   "source": [
    "#plt.figure(figsize=(50, 10))\n",
    "#plt.xticks(rotation=90)\n",
    "#sns.histplot(data=important_symbol, x=\"symbol\",hue=\"channel\",palette=\"Set1\")\n"
   ]
  },
  {
   "cell_type": "code",
   "execution_count": 34,
   "metadata": {},
   "outputs": [
    {
     "data": {
      "text/html": [
       "<div>\n",
       "<style scoped>\n",
       "    .dataframe tbody tr th:only-of-type {\n",
       "        vertical-align: middle;\n",
       "    }\n",
       "\n",
       "    .dataframe tbody tr th {\n",
       "        vertical-align: top;\n",
       "    }\n",
       "\n",
       "    .dataframe thead th {\n",
       "        text-align: right;\n",
       "    }\n",
       "</style>\n",
       "<table border=\"1\" class=\"dataframe\">\n",
       "  <thead>\n",
       "    <tr style=\"text-align: right;\">\n",
       "      <th></th>\n",
       "      <th>timeStamp_Tg</th>\n",
       "      <th>message_id</th>\n",
       "      <th>channel_id</th>\n",
       "      <th>date</th>\n",
       "    </tr>\n",
       "  </thead>\n",
       "  <tbody>\n",
       "    <tr>\n",
       "      <th>0</th>\n",
       "      <td>1598624376</td>\n",
       "      <td>203</td>\n",
       "      <td>-1001381384148</td>\n",
       "      <td>2020-08-28 10:19:36</td>\n",
       "    </tr>\n",
       "    <tr>\n",
       "      <th>1</th>\n",
       "      <td>1600081846</td>\n",
       "      <td>281</td>\n",
       "      <td>-1001381384148</td>\n",
       "      <td>2020-09-14 07:10:46</td>\n",
       "    </tr>\n",
       "    <tr>\n",
       "      <th>2</th>\n",
       "      <td>1600576224</td>\n",
       "      <td>321</td>\n",
       "      <td>-1001381384148</td>\n",
       "      <td>2020-09-20 00:30:24</td>\n",
       "    </tr>\n",
       "  </tbody>\n",
       "</table>\n",
       "</div>"
      ],
      "text/plain": [
       "   timeStamp_Tg  message_id     channel_id                date\n",
       "0    1598624376         203 -1001381384148 2020-08-28 10:19:36\n",
       "1    1600081846         281 -1001381384148 2020-09-14 07:10:46\n",
       "2    1600576224         321 -1001381384148 2020-09-20 00:30:24"
      ]
     },
     "execution_count": 34,
     "metadata": {},
     "output_type": "execute_result"
    }
   ],
   "source": [
    "df[[\"timeStamp_Tg\",\"message_id\",\"channel_id\",\"date\"]]\n"
   ]
  },
  {
   "cell_type": "code",
   "execution_count": 35,
   "metadata": {},
   "outputs": [],
   "source": [
    "from datetime import timedelta, datetime, time"
   ]
  },
  {
   "cell_type": "code",
   "execution_count": 36,
   "metadata": {},
   "outputs": [
    {
     "data": {
      "text/plain": [
       "240.0"
      ]
     },
     "execution_count": 36,
     "metadata": {},
     "output_type": "execute_result"
    }
   ],
   "source": [
    "#str(datetime(2020,3,1,1,30,0)-h4)\n",
    "new=datetime.utcfromtimestamp(1647354765)\n",
    "old=datetime.fromtimestamp(1647354765)\n",
    "\n",
    "base=(new-old).total_seconds()/60\n",
    "\n",
    "base"
   ]
  },
  {
   "cell_type": "code",
   "execution_count": 37,
   "metadata": {},
   "outputs": [],
   "source": [
    "import math"
   ]
  },
  {
   "cell_type": "code",
   "execution_count": 38,
   "metadata": {},
   "outputs": [
    {
     "data": {
      "text/plain": [
       "4"
      ]
     },
     "execution_count": 38,
     "metadata": {},
     "output_type": "execute_result"
    }
   ],
   "source": [
    "h1=60\n",
    "math.ceil(base/h1)"
   ]
  },
  {
   "cell_type": "code",
   "execution_count": 39,
   "metadata": {},
   "outputs": [
    {
     "data": {
      "text/plain": [
       "datetime.timedelta(seconds=14400)"
      ]
     },
     "execution_count": 39,
     "metadata": {},
     "output_type": "execute_result"
    }
   ],
   "source": [
    "h4 = timedelta(hours=4)\n",
    "h4"
   ]
  },
  {
   "cell_type": "code",
   "execution_count": 40,
   "metadata": {},
   "outputs": [
    {
     "ename": "NameError",
     "evalue": "name 'df2' is not defined",
     "output_type": "error",
     "traceback": [
      "\u001b[0;31m---------------------------------------------------------------------------\u001b[0m",
      "\u001b[0;31mNameError\u001b[0m                                 Traceback (most recent call last)",
      "\u001b[1;32m/home/joan/Documentos/Programacion/Python/Pasantias/Proyecto/notebooks/analisis_de_datos_prueba.ipynb Cell 31'\u001b[0m in \u001b[0;36m<cell line: 1>\u001b[0;34m()\u001b[0m\n\u001b[0;32m----> <a href='vscode-notebook-cell:/home/joan/Documentos/Programacion/Python/Pasantias/Proyecto/notebooks/analisis_de_datos_prueba.ipynb#ch0000030?line=0'>1</a>\u001b[0m df2[\u001b[39m\"\u001b[39m\u001b[39mdatetime\u001b[39m\u001b[39m\"\u001b[39m]\u001b[39m=\u001b[39m pd\u001b[39m.\u001b[39mto_datetime(df2[\u001b[39m\"\u001b[39m\u001b[39mtimeStamp_Tg\u001b[39m\u001b[39m\"\u001b[39m], unit\u001b[39m=\u001b[39m\u001b[39m\"\u001b[39m\u001b[39ms\u001b[39m\u001b[39m\"\u001b[39m)\n\u001b[1;32m      <a href='vscode-notebook-cell:/home/joan/Documentos/Programacion/Python/Pasantias/Proyecto/notebooks/analisis_de_datos_prueba.ipynb#ch0000030?line=1'>2</a>\u001b[0m df2[\u001b[39m\"\u001b[39m\u001b[39mdatetime\u001b[39m\u001b[39m\"\u001b[39m]\n",
      "\u001b[0;31mNameError\u001b[0m: name 'df2' is not defined"
     ]
    }
   ],
   "source": [
    "df2[\"datetime\"]= pd.to_datetime(df2[\"timeStamp_Tg\"], unit=\"s\")\n",
    "df2[\"datetime\"]"
   ]
  },
  {
   "cell_type": "code",
   "execution_count": null,
   "metadata": {},
   "outputs": [
    {
     "data": {
      "text/html": [
       "<div>\n",
       "<style scoped>\n",
       "    .dataframe tbody tr th:only-of-type {\n",
       "        vertical-align: middle;\n",
       "    }\n",
       "\n",
       "    .dataframe tbody tr th {\n",
       "        vertical-align: top;\n",
       "    }\n",
       "\n",
       "    .dataframe thead th {\n",
       "        text-align: right;\n",
       "    }\n",
       "</style>\n",
       "<table border=\"1\" class=\"dataframe\">\n",
       "  <thead>\n",
       "    <tr style=\"text-align: right;\">\n",
       "      <th></th>\n",
       "      <th>timeStamp_Tg</th>\n",
       "      <th>message_id</th>\n",
       "      <th>channel_id</th>\n",
       "      <th>datetime</th>\n",
       "    </tr>\n",
       "  </thead>\n",
       "  <tbody>\n",
       "    <tr>\n",
       "      <th>0</th>\n",
       "      <td>1647354765</td>\n",
       "      <td>5316</td>\n",
       "      <td>-1001381384148</td>\n",
       "      <td>2022-03-15 14:32:45</td>\n",
       "    </tr>\n",
       "    <tr>\n",
       "      <th>1</th>\n",
       "      <td>1646753327</td>\n",
       "      <td>5244</td>\n",
       "      <td>-1001381384148</td>\n",
       "      <td>2022-03-08 15:28:47</td>\n",
       "    </tr>\n",
       "    <tr>\n",
       "      <th>2</th>\n",
       "      <td>1646653781</td>\n",
       "      <td>5228</td>\n",
       "      <td>-1001381384148</td>\n",
       "      <td>2022-03-07 11:49:41</td>\n",
       "    </tr>\n",
       "    <tr>\n",
       "      <th>3</th>\n",
       "      <td>1645112197</td>\n",
       "      <td>5092</td>\n",
       "      <td>-1001381384148</td>\n",
       "      <td>2022-02-17 15:36:37</td>\n",
       "    </tr>\n",
       "    <tr>\n",
       "      <th>4</th>\n",
       "      <td>1645031424</td>\n",
       "      <td>5081</td>\n",
       "      <td>-1001381384148</td>\n",
       "      <td>2022-02-16 17:10:24</td>\n",
       "    </tr>\n",
       "    <tr>\n",
       "      <th>...</th>\n",
       "      <td>...</td>\n",
       "      <td>...</td>\n",
       "      <td>...</td>\n",
       "      <td>...</td>\n",
       "    </tr>\n",
       "    <tr>\n",
       "      <th>1120</th>\n",
       "      <td>1627603382</td>\n",
       "      <td>97</td>\n",
       "      <td>-1001277174399</td>\n",
       "      <td>2021-07-30 00:03:02</td>\n",
       "    </tr>\n",
       "    <tr>\n",
       "      <th>1121</th>\n",
       "      <td>1627583234</td>\n",
       "      <td>95</td>\n",
       "      <td>-1001277174399</td>\n",
       "      <td>2021-07-29 18:27:14</td>\n",
       "    </tr>\n",
       "    <tr>\n",
       "      <th>1122</th>\n",
       "      <td>1627543095</td>\n",
       "      <td>88</td>\n",
       "      <td>-1001277174399</td>\n",
       "      <td>2021-07-29 07:18:15</td>\n",
       "    </tr>\n",
       "    <tr>\n",
       "      <th>1123</th>\n",
       "      <td>1627410165</td>\n",
       "      <td>66</td>\n",
       "      <td>-1001277174399</td>\n",
       "      <td>2021-07-27 18:22:45</td>\n",
       "    </tr>\n",
       "    <tr>\n",
       "      <th>1124</th>\n",
       "      <td>1627274192</td>\n",
       "      <td>44</td>\n",
       "      <td>-1001277174399</td>\n",
       "      <td>2021-07-26 04:36:32</td>\n",
       "    </tr>\n",
       "  </tbody>\n",
       "</table>\n",
       "<p>1125 rows × 4 columns</p>\n",
       "</div>"
      ],
      "text/plain": [
       "      timeStamp_Tg  message_id     channel_id            datetime\n",
       "0       1647354765        5316 -1001381384148 2022-03-15 14:32:45\n",
       "1       1646753327        5244 -1001381384148 2022-03-08 15:28:47\n",
       "2       1646653781        5228 -1001381384148 2022-03-07 11:49:41\n",
       "3       1645112197        5092 -1001381384148 2022-02-17 15:36:37\n",
       "4       1645031424        5081 -1001381384148 2022-02-16 17:10:24\n",
       "...            ...         ...            ...                 ...\n",
       "1120    1627603382          97 -1001277174399 2021-07-30 00:03:02\n",
       "1121    1627583234          95 -1001277174399 2021-07-29 18:27:14\n",
       "1122    1627543095          88 -1001277174399 2021-07-29 07:18:15\n",
       "1123    1627410165          66 -1001277174399 2021-07-27 18:22:45\n",
       "1124    1627274192          44 -1001277174399 2021-07-26 04:36:32\n",
       "\n",
       "[1125 rows x 4 columns]"
      ]
     },
     "execution_count": 14,
     "metadata": {},
     "output_type": "execute_result"
    }
   ],
   "source": [
    "df2[[\"timeStamp_Tg\",\"message_id\",\"channel_id\",\"datetime\"]]"
   ]
  },
  {
   "cell_type": "code",
   "execution_count": null,
   "metadata": {},
   "outputs": [],
   "source": [
    "df2[\"datetime\"]=df2[\"datetime\"].apply(lambda x : x - h4)\n"
   ]
  },
  {
   "cell_type": "code",
   "execution_count": null,
   "metadata": {},
   "outputs": [
    {
     "data": {
      "text/html": [
       "<div>\n",
       "<style scoped>\n",
       "    .dataframe tbody tr th:only-of-type {\n",
       "        vertical-align: middle;\n",
       "    }\n",
       "\n",
       "    .dataframe tbody tr th {\n",
       "        vertical-align: top;\n",
       "    }\n",
       "\n",
       "    .dataframe thead th {\n",
       "        text-align: right;\n",
       "    }\n",
       "</style>\n",
       "<table border=\"1\" class=\"dataframe\">\n",
       "  <thead>\n",
       "    <tr style=\"text-align: right;\">\n",
       "      <th></th>\n",
       "      <th>timeStamp_Tg</th>\n",
       "      <th>message_id</th>\n",
       "      <th>channel_id</th>\n",
       "      <th>datetime</th>\n",
       "    </tr>\n",
       "  </thead>\n",
       "  <tbody>\n",
       "    <tr>\n",
       "      <th>0</th>\n",
       "      <td>1647354765</td>\n",
       "      <td>5316</td>\n",
       "      <td>-1001381384148</td>\n",
       "      <td>2022-03-15 10:32:45</td>\n",
       "    </tr>\n",
       "    <tr>\n",
       "      <th>1</th>\n",
       "      <td>1646753327</td>\n",
       "      <td>5244</td>\n",
       "      <td>-1001381384148</td>\n",
       "      <td>2022-03-08 11:28:47</td>\n",
       "    </tr>\n",
       "    <tr>\n",
       "      <th>2</th>\n",
       "      <td>1646653781</td>\n",
       "      <td>5228</td>\n",
       "      <td>-1001381384148</td>\n",
       "      <td>2022-03-07 07:49:41</td>\n",
       "    </tr>\n",
       "    <tr>\n",
       "      <th>3</th>\n",
       "      <td>1645112197</td>\n",
       "      <td>5092</td>\n",
       "      <td>-1001381384148</td>\n",
       "      <td>2022-02-17 11:36:37</td>\n",
       "    </tr>\n",
       "    <tr>\n",
       "      <th>4</th>\n",
       "      <td>1645031424</td>\n",
       "      <td>5081</td>\n",
       "      <td>-1001381384148</td>\n",
       "      <td>2022-02-16 13:10:24</td>\n",
       "    </tr>\n",
       "    <tr>\n",
       "      <th>...</th>\n",
       "      <td>...</td>\n",
       "      <td>...</td>\n",
       "      <td>...</td>\n",
       "      <td>...</td>\n",
       "    </tr>\n",
       "    <tr>\n",
       "      <th>1120</th>\n",
       "      <td>1627603382</td>\n",
       "      <td>97</td>\n",
       "      <td>-1001277174399</td>\n",
       "      <td>2021-07-29 20:03:02</td>\n",
       "    </tr>\n",
       "    <tr>\n",
       "      <th>1121</th>\n",
       "      <td>1627583234</td>\n",
       "      <td>95</td>\n",
       "      <td>-1001277174399</td>\n",
       "      <td>2021-07-29 14:27:14</td>\n",
       "    </tr>\n",
       "    <tr>\n",
       "      <th>1122</th>\n",
       "      <td>1627543095</td>\n",
       "      <td>88</td>\n",
       "      <td>-1001277174399</td>\n",
       "      <td>2021-07-29 03:18:15</td>\n",
       "    </tr>\n",
       "    <tr>\n",
       "      <th>1123</th>\n",
       "      <td>1627410165</td>\n",
       "      <td>66</td>\n",
       "      <td>-1001277174399</td>\n",
       "      <td>2021-07-27 14:22:45</td>\n",
       "    </tr>\n",
       "    <tr>\n",
       "      <th>1124</th>\n",
       "      <td>1627274192</td>\n",
       "      <td>44</td>\n",
       "      <td>-1001277174399</td>\n",
       "      <td>2021-07-26 00:36:32</td>\n",
       "    </tr>\n",
       "  </tbody>\n",
       "</table>\n",
       "<p>1125 rows × 4 columns</p>\n",
       "</div>"
      ],
      "text/plain": [
       "      timeStamp_Tg  message_id     channel_id            datetime\n",
       "0       1647354765        5316 -1001381384148 2022-03-15 10:32:45\n",
       "1       1646753327        5244 -1001381384148 2022-03-08 11:28:47\n",
       "2       1646653781        5228 -1001381384148 2022-03-07 07:49:41\n",
       "3       1645112197        5092 -1001381384148 2022-02-17 11:36:37\n",
       "4       1645031424        5081 -1001381384148 2022-02-16 13:10:24\n",
       "...            ...         ...            ...                 ...\n",
       "1120    1627603382          97 -1001277174399 2021-07-29 20:03:02\n",
       "1121    1627583234          95 -1001277174399 2021-07-29 14:27:14\n",
       "1122    1627543095          88 -1001277174399 2021-07-29 03:18:15\n",
       "1123    1627410165          66 -1001277174399 2021-07-27 14:22:45\n",
       "1124    1627274192          44 -1001277174399 2021-07-26 00:36:32\n",
       "\n",
       "[1125 rows x 4 columns]"
      ]
     },
     "execution_count": 22,
     "metadata": {},
     "output_type": "execute_result"
    }
   ],
   "source": [
    "df2[[\"timeStamp_Tg\",\"message_id\",\"channel_id\",\"datetime\"]]"
   ]
  },
  {
   "cell_type": "code",
   "execution_count": null,
   "metadata": {},
   "outputs": [],
   "source": [
    "if len(data) > 0:  \n",
    "        old = parser.parse(\n",
    "            data[\"timestamp\"].iloc[-1]\n",
    "            )"
   ]
  },
  {
   "cell_type": "code",
   "execution_count": null,
   "metadata": {},
   "outputs": [],
   "source": [
    "if len(data)>0:\n",
    "    old= parser.parse(\n",
    "        data[\"timestamp\"].iloc[-1]\n",
    "    )"
   ]
  },
  {
   "cell_type": "code",
   "execution_count": null,
   "metadata": {},
   "outputs": [],
   "source": [
    "pd.options.display.float_format=\"{:,.1f}\".format\n",
    "pd.options.display.precision = 1"
   ]
  },
  {
   "cell_type": "markdown",
   "metadata": {},
   "source": [
    "# Leyendo symbol data"
   ]
  },
  {
   "cell_type": "code",
   "execution_count": null,
   "metadata": {},
   "outputs": [],
   "source": [
    "df_symbol:pd.DataFrame=pd.read_pickle(\"../../BTCUSDT-5m-data.pickle\")\n",
    "#df_symbol.to_csv(\"BTCUSDT-5m-data.csv\")"
   ]
  },
  {
   "cell_type": "markdown",
   "metadata": {},
   "source": [
    "# Revisando el orden de los tiempos\n",
    "\n",
    "Efectivamente como el index es timestamp."
   ]
  },
  {
   "cell_type": "code",
   "execution_count": null,
   "metadata": {},
   "outputs": [
    {
     "data": {
      "text/plain": [
       "True"
      ]
     },
     "execution_count": 132,
     "metadata": {},
     "output_type": "execute_result"
    }
   ],
   "source": [
    "### slice\n",
    "date_start=\"2020-09-20 00:30:24\"\n",
    "date_end=pd.to_datetime(\"2020-05-05 15:45:01\")\n",
    "mask: pd.Series = df_symbol[\"date_myUTC\"]\n",
    "mask = mask.between(date_start, date_end)\n",
    "temp_df_symbol=df_symbol[mask]\n",
    "\n",
    "# Compara los años de cada elemento con el año de la fecha dada\n",
    "#mask=df_symbol[\"date_myUTC\"].apply(lambda x : x.year) == date_end.year\n",
    "#df_symbol[mask].empty\n"
   ]
  },
  {
   "cell_type": "code",
   "execution_count": null,
   "metadata": {},
   "outputs": [
    {
     "data": {
      "text/plain": [
       "open                      46216.93\n",
       "high                      46391.49\n",
       "low                       46208.37\n",
       "close                     46321.34\n",
       "volume                185.67558000\n",
       "close_time           1640995499999\n",
       "quote_av          8598314.37243310\n",
       "trades                        4551\n",
       "tb_base_av            106.54655000\n",
       "tb_quote_av       4933083.00041560\n",
       "ignore                           0\n",
       "date_myUTC     2021-12-31 20:00:00\n",
       "Name: 1640995200000, dtype: object"
      ]
     },
     "execution_count": 77,
     "metadata": {},
     "output_type": "execute_result"
    }
   ],
   "source": [
    "df_symbol.loc[:, [\"open\", \"high\", \"low\", \"close\"]] = df_symbol.loc[:, [\"open\", \"high\", \"low\", \"close\"]].astype(float)\n",
    "operate=11030\n",
    "mask=mask = (df_symbol[\"date_myUTC\"] == pd.to_datetime(\"2022\")) #(df_symbol[\"high\"] >= operate) #| (df_symbol[\"low\"] <= operate)\n",
    "df_symbol.iloc[0]#.loc[:,[\"open\", \"high\", \"low\", \"close\",\"date_myUTC\"]]"
   ]
  },
  {
   "cell_type": "code",
   "execution_count": null,
   "metadata": {},
   "outputs": [],
   "source": [
    "plt."
   ]
  },
  {
   "cell_type": "markdown",
   "metadata": {},
   "source": [
    "# Capturar la eficiencia con los take profit"
   ]
  },
  {
   "cell_type": "code",
   "execution_count": null,
   "metadata": {},
   "outputs": [],
   "source": [
    "dates_profit={\n",
    "    \"0.292\": {\n",
    "      \"$date\": \"2021-09-01T14:50:00Z\"\n",
    "    },\n",
    "    \"0.3\": {\n",
    "      \"$date\": \"2021-09-01T20:30:00Z\"\n",
    "    },\n",
    "    \"0.31\": {\n",
    "      \"$date\": \"2021-09-01T21:30:00Z\"\n",
    "    },\n",
    "    \"0.325\": False,\n",
    "    \"0.34\": False,\n",
    "    \"0.36\": False,\n",
    "    \"0.38\": False,\n",
    "    \"0.4\": False,\n",
    "    \"0.42\": False,\n",
    "    \"0.45\": False\n",
    "  }"
   ]
  },
  {
   "cell_type": "code",
   "execution_count": null,
   "metadata": {},
   "outputs": [
    {
     "data": {
      "text/plain": [
       "0.3"
      ]
     },
     "execution_count": 24,
     "metadata": {},
     "output_type": "execute_result"
    }
   ],
   "source": [
    "(len(list(dates_profit.values()))-list(dates_profit.values()).count(False))/len(list(dates_profit.values()))"
   ]
  },
  {
   "cell_type": "code",
   "execution_count": null,
   "metadata": {},
   "outputs": [
    {
     "data": {
      "text/plain": [
       "0.3"
      ]
     },
     "execution_count": 23,
     "metadata": {},
     "output_type": "execute_result"
    }
   ],
   "source": [
    "3/10"
   ]
  },
  {
   "cell_type": "code",
   "execution_count": null,
   "metadata": {},
   "outputs": [
    {
     "ename": "NameError",
     "evalue": "name 'df_sygnal_data' is not defined",
     "output_type": "error",
     "traceback": [
      "\u001b[0;31m---------------------------------------------------------------------------\u001b[0m",
      "\u001b[0;31mNameError\u001b[0m                                 Traceback (most recent call last)",
      "\u001b[1;32m/home/joan/Documentos/Programacion/Python/Pasantias/Proyecto/notebooks/analisis_de_datos_prueba.ipynb Cell 37'\u001b[0m in \u001b[0;36m<cell line: 1>\u001b[0;34m()\u001b[0m\n\u001b[0;32m----> <a href='vscode-notebook-cell:/home/joan/Documentos/Programacion/Python/Pasantias/Proyecto/notebooks/analisis_de_datos_prueba.ipynb#ch0000031?line=0'>1</a>\u001b[0m df_sygnal_data\u001b[39m.\u001b[39miloc[\u001b[39m1\u001b[39m]\n",
      "\u001b[0;31mNameError\u001b[0m: name 'df_sygnal_data' is not defined"
     ]
    }
   ],
   "source": [
    "df_sygnal_data.iloc[1]#[\"entry_targets\"][1]"
   ]
  },
  {
   "cell_type": "code",
   "execution_count": null,
   "metadata": {},
   "outputs": [
    {
     "data": {
      "text/plain": [
       "(8929, 12)"
      ]
     },
     "execution_count": 139,
     "metadata": {},
     "output_type": "execute_result"
    }
   ],
   "source": [
    "# %%timeit 3.46 ms\n",
    "mask:pd.Series=BTCUSDT_date[\"date_myUTC\"]\n",
    "mask=mask.between(\"2022-03-08\",\"2022-04-08\")\n",
    "btc_by_date=BTCUSDT_date[mask]\n",
    "btc_by_date.iloc[1]\n",
    "btc_by_date.shape\n"
   ]
  },
  {
   "cell_type": "code",
   "execution_count": null,
   "metadata": {},
   "outputs": [
    {
     "data": {
      "text/plain": [
       "(12305, 12)"
      ]
     },
     "execution_count": 140,
     "metadata": {},
     "output_type": "execute_result"
    }
   ],
   "source": [
    "# %%timeit 394 ms\n",
    "\n",
    "mask:pd.Series=BTCUSDT_date[\"date_myUTC\"]\n",
    "mask=mask.isin(pd.date_range(start=\"2022-03-08 00:00.00\",end=str(BTCUSDT_date[\"date_myUTC\"].iloc[-1]),freq=\"1s\"))\n",
    "btc_by_date=BTCUSDT_date[mask]\n",
    "btc_by_date.iloc[1]\n",
    "btc_by_date.shape\n"
   ]
  },
  {
   "cell_type": "code",
   "execution_count": null,
   "metadata": {},
   "outputs": [
    {
     "data": {
      "text/plain": [
       "(8929, 12)"
      ]
     },
     "execution_count": 141,
     "metadata": {},
     "output_type": "execute_result"
    }
   ],
   "source": [
    "# %%timeit 115 ms\n",
    "\n",
    "mask:pd.Series=BTCUSDT_date[\"date_myUTC\"]\n",
    "mask=mask.isin(pd.date_range(start=\"2022-03-08 00:00.00\",end=\"2022-04-08 00:00.00\",freq=\"1s\"))\n",
    "btc_by_date=BTCUSDT_date[mask]\n",
    "btc_by_date.iloc[1]\n",
    "btc_by_date.shape\n"
   ]
  },
  {
   "cell_type": "code",
   "execution_count": null,
   "metadata": {},
   "outputs": [
    {
     "data": {
      "text/plain": [
       "(8928, 12)"
      ]
     },
     "execution_count": 142,
     "metadata": {},
     "output_type": "execute_result"
    }
   ],
   "source": [
    "# %%timeit 4.24 ms\n",
    "mask=(BTCUSDT_date[\"date_myUTC\"] > \n",
    "pd.to_datetime(\"2022-03-08 00:00.00\")) & (BTCUSDT_date[\"date_myUTC\"] <= \n",
    "pd.to_datetime(\"2022-04-08 00:00.00\"))\n",
    "btc_by_date=BTCUSDT_date[mask]\n",
    "btc_by_date.iloc[1]\n",
    "btc_by_date.shape"
   ]
  },
  {
   "cell_type": "code",
   "execution_count": null,
   "metadata": {},
   "outputs": [
    {
     "data": {
      "text/plain": [
       "'la_t'"
      ]
     },
     "execution_count": 146,
     "metadata": {},
     "output_type": "execute_result"
    }
   ],
   "source": [
    "def t(la_t):\n",
    "    if la_t:\n",
    "        return \"la_t\"\n",
    "    print(\"aqui toy\")\n",
    "    return \"No la_t\"\n",
    "\n",
    "t(True)"
   ]
  },
  {
   "cell_type": "code",
   "execution_count": null,
   "metadata": {},
   "outputs": [],
   "source": [
    "def regresar(row,iterated,returned):\n",
    "    l=[]\n",
    "    for row in iterated:\n",
    "        l.append(returned)\n",
    "    return l\n"
   ]
  },
  {
   "cell_type": "markdown",
   "metadata": {},
   "source": [
    "# Funciones para los df"
   ]
  },
  {
   "cell_type": "code",
   "execution_count": 2,
   "metadata": {},
   "outputs": [],
   "source": [
    "def float_ohlcv(df_symbol):\n",
    "    df_symbol2=df_symbol.copy()\n",
    "    df_symbol2[[\"open\",\"high\",\"low\",\"close\"]]=df_symbol2[[\"open\",\"high\",\"low\",\"close\"]].astype(float)\n",
    "    return df_symbol2"
   ]
  },
  {
   "cell_type": "markdown",
   "metadata": {},
   "source": [
    "# Probando recorrer filas"
   ]
  },
  {
   "cell_type": "code",
   "execution_count": null,
   "metadata": {},
   "outputs": [
    {
     "name": "stdout",
     "output_type": "stream",
     "text": [
      "13.2 ms ± 56.9 µs per loop (mean ± std. dev. of 7 runs, 100 loops each)\n"
     ]
    }
   ],
   "source": [
    "%%timeit\n",
    "l=[]\n",
    "l.append(df_sygnal_data.apply(lambda row: row[\"date\"],axis=1))\n",
    "l"
   ]
  },
  {
   "cell_type": "code",
   "execution_count": null,
   "metadata": {},
   "outputs": [
    {
     "name": "stdout",
     "output_type": "stream",
     "text": [
      "5.14 ms ± 209 µs per loop (mean ± std. dev. of 7 runs, 100 loops each)\n"
     ]
    }
   ],
   "source": [
    "%%timeit\n",
    "#for row in df_sygnal_data.itertuples():\n",
    "#    print(row.date)\n",
    "regresar(row,df_sygnal_data.itertuples(),row.date)\n"
   ]
  },
  {
   "cell_type": "code",
   "execution_count": null,
   "metadata": {},
   "outputs": [
    {
     "name": "stdout",
     "output_type": "stream",
     "text": [
      "35.4 ms ± 479 µs per loop (mean ± std. dev. of 7 runs, 10 loops each)\n"
     ]
    }
   ],
   "source": [
    "%%timeit\n",
    "#for index, row in df_sygnal_data.iterrows():\n",
    "#    print(row.date)\n",
    "regresar((index,row),df_sygnal_data.iterrows(),row.date)    "
   ]
  },
  {
   "cell_type": "code",
   "execution_count": null,
   "metadata": {},
   "outputs": [
    {
     "name": "stdout",
     "output_type": "stream",
     "text": [
      "92.9 µs ± 1.15 µs per loop (mean ± std. dev. of 7 runs, 10,000 loops each)\n"
     ]
    }
   ],
   "source": [
    "%%timeit\n",
    "#for i in range(len(df_sygnal_data)):\n",
    "#    print(df_sygnal_data.loc[i,\"date\"])\n",
    "regresar(i,range(len(df_sygnal_data)),df_sygnal_data.loc[i,\"date\"])"
   ]
  },
  {
   "cell_type": "code",
   "execution_count": 40,
   "metadata": {},
   "outputs": [
    {
     "ename": "NameError",
     "evalue": "name 'df_sygnal_data' is not defined",
     "output_type": "error",
     "traceback": [
      "\u001b[0;31m---------------------------------------------------------------------------\u001b[0m",
      "\u001b[0;31mNameError\u001b[0m                                 Traceback (most recent call last)",
      "\u001b[1;32m/home/joan/Documentos/Programacion/Python/Pasantias/Proyecto/notebooks/analisis_de_datos_prueba.ipynb Cell 56'\u001b[0m in \u001b[0;36m<cell line: 1>\u001b[0;34m()\u001b[0m\n\u001b[0;32m----> <a href='vscode-notebook-cell:/home/joan/Documentos/Programacion/Python/Pasantias/Proyecto/notebooks/analisis_de_datos_prueba.ipynb#ch0000052?line=0'>1</a>\u001b[0m df_sygnal_data\u001b[39m.\u001b[39mcolumns\n",
      "\u001b[0;31mNameError\u001b[0m: name 'df_sygnal_data' is not defined"
     ]
    }
   ],
   "source": [
    "df_sygnal_data.columns"
   ]
  },
  {
   "cell_type": "code",
   "execution_count": 77,
   "metadata": {},
   "outputs": [
    {
     "data": {
      "text/plain": [
       "46216.93"
      ]
     },
     "execution_count": 77,
     "metadata": {},
     "output_type": "execute_result"
    }
   ],
   "source": [
    "df_symbol.iloc[0,0]\n",
    "float(df_symbol.iloc[0,0])"
   ]
  },
  {
   "cell_type": "code",
   "execution_count": 159,
   "metadata": {},
   "outputs": [
    {
     "data": {
      "text/plain": [
       "Timestamp('2021-12-31 20:00:00')"
      ]
     },
     "execution_count": 159,
     "metadata": {},
     "output_type": "execute_result"
    }
   ],
   "source": [
    "operate=43000\n",
    "mask=(df_symbol2[\"open\"])>=operate | (df_symbol2[\"high\"]>=operate) | (df_symbol2[\"low\"]>=operate) | (df_symbol2[\"close\"]>=operate) & df_symbol2[\"date_myUTC\"].between(\"2020-03-08\",\"2022-04-08\")\n",
    "\n",
    "lalist:pd.DataFrame= df_symbol[mask].iloc[0:3][[\"date_myUTC\",\"open\"]]\n",
    "\n",
    "ladict={k[1]:k[0] for k in lalist.to_dict(\"split\")[\"data\"]}\n",
    "list(ladict.values())[0]"
   ]
  },
  {
   "cell_type": "code",
   "execution_count": 117,
   "metadata": {},
   "outputs": [
    {
     "data": {
      "text/plain": [
       "[Timestamp('2021-12-31 20:10:00'),\n",
       " Timestamp('2021-12-31 20:05:00'),\n",
       " Timestamp('2021-12-31 20:00:00')]"
      ]
     },
     "execution_count": 117,
     "metadata": {},
     "output_type": "execute_result"
    }
   ],
   "source": [
    "lalist.sort(reverse=True)\n",
    "lalist"
   ]
  },
  {
   "cell_type": "markdown",
   "metadata": {},
   "source": [
    "# Otras pruebas"
   ]
  },
  {
   "cell_type": "code",
   "execution_count": 7,
   "metadata": {},
   "outputs": [
    {
     "data": {
      "text/plain": [
       "{0: 'a', 1: 'b', 2: 'c', 3: 'd'}"
      ]
     },
     "execution_count": 7,
     "metadata": {},
     "output_type": "execute_result"
    }
   ],
   "source": [
    "l1=[0,1,2,3]\n",
    "l2=[\"a\",\"b\",\"c\",\"d\"]\n",
    "d1={}\n",
    "\n",
    "for i in l1:\n",
    "    d1[i]=l2[i]\n",
    "\n",
    "d1"
   ]
  },
  {
   "cell_type": "markdown",
   "metadata": {},
   "source": [
    "# Leer documentos bases de datos .db con pandas"
   ]
  },
  {
   "cell_type": "code",
   "execution_count": 7,
   "metadata": {},
   "outputs": [],
   "source": [
    "import sqlite3\n",
    "dat=sqlite3.connect(\"C:/Users/Joan/Downloads/Programa/tradingview.db\")"
   ]
  },
  {
   "cell_type": "code",
   "execution_count": 13,
   "metadata": {},
   "outputs": [
    {
     "data": {
      "text/plain": [
       "30"
      ]
     },
     "execution_count": 13,
     "metadata": {},
     "output_type": "execute_result"
    }
   ],
   "source": [
    "dat\n",
    "sqlite3.table"
   ]
  },
  {
   "cell_type": "code",
   "execution_count": 17,
   "metadata": {},
   "outputs": [],
   "source": [
    "df=pd.read_sql_query(\"SELECT * FROM tv\", dat)"
   ]
  },
  {
   "cell_type": "code",
   "execution_count": 25,
   "metadata": {},
   "outputs": [
    {
     "data": {
      "text/html": [
       "<div>\n",
       "<style scoped>\n",
       "    .dataframe tbody tr th:only-of-type {\n",
       "        vertical-align: middle;\n",
       "    }\n",
       "\n",
       "    .dataframe tbody tr th {\n",
       "        vertical-align: top;\n",
       "    }\n",
       "\n",
       "    .dataframe thead th {\n",
       "        text-align: right;\n",
       "    }\n",
       "</style>\n",
       "<table border=\"1\" class=\"dataframe\">\n",
       "  <thead>\n",
       "    <tr style=\"text-align: right;\">\n",
       "      <th></th>\n",
       "      <th>screener</th>\n",
       "      <th>exchange</th>\n",
       "      <th>symbol</th>\n",
       "      <th>desc</th>\n",
       "    </tr>\n",
       "  </thead>\n",
       "  <tbody>\n",
       "    <tr>\n",
       "      <th>13484</th>\n",
       "      <td>crypto</td>\n",
       "      <td>BINANCE</td>\n",
       "      <td>ALICEBTC</td>\n",
       "      <td>ALICE / Bitcoin</td>\n",
       "    </tr>\n",
       "    <tr>\n",
       "      <th>13488</th>\n",
       "      <td>crypto</td>\n",
       "      <td>BINANCE</td>\n",
       "      <td>MANABTC</td>\n",
       "      <td>Decentraland / Bitcoin</td>\n",
       "    </tr>\n",
       "    <tr>\n",
       "      <th>13493</th>\n",
       "      <td>crypto</td>\n",
       "      <td>BINANCE</td>\n",
       "      <td>BURGERUSDT</td>\n",
       "      <td>BURGER / TetherUS</td>\n",
       "    </tr>\n",
       "    <tr>\n",
       "      <th>13495</th>\n",
       "      <td>crypto</td>\n",
       "      <td>BINANCE</td>\n",
       "      <td>EPSUSDT</td>\n",
       "      <td>EPS / TetherUS</td>\n",
       "    </tr>\n",
       "    <tr>\n",
       "      <th>13499</th>\n",
       "      <td>crypto</td>\n",
       "      <td>BINANCE</td>\n",
       "      <td>RSRBTC</td>\n",
       "      <td>RSR / Bitcoin</td>\n",
       "    </tr>\n",
       "    <tr>\n",
       "      <th>...</th>\n",
       "      <td>...</td>\n",
       "      <td>...</td>\n",
       "      <td>...</td>\n",
       "      <td>...</td>\n",
       "    </tr>\n",
       "    <tr>\n",
       "      <th>69751</th>\n",
       "      <td>crypto</td>\n",
       "      <td>BINANCE</td>\n",
       "      <td>GALUSDT_PREMIUM</td>\n",
       "      <td>GALUSDT Premium Index</td>\n",
       "    </tr>\n",
       "    <tr>\n",
       "      <th>69757</th>\n",
       "      <td>crypto</td>\n",
       "      <td>BINANCE</td>\n",
       "      <td>GALUSD</td>\n",
       "      <td>GAL / US Dollar (calculated by TradingView)</td>\n",
       "    </tr>\n",
       "    <tr>\n",
       "      <th>69768</th>\n",
       "      <td>crypto</td>\n",
       "      <td>BINANCE</td>\n",
       "      <td>ASTRBTC</td>\n",
       "      <td>ASTR / Bitcoin</td>\n",
       "    </tr>\n",
       "    <tr>\n",
       "      <th>69782</th>\n",
       "      <td>crypto</td>\n",
       "      <td>BINANCE</td>\n",
       "      <td>STEEMUSDT</td>\n",
       "      <td>Steem / TetherUS</td>\n",
       "    </tr>\n",
       "    <tr>\n",
       "      <th>69791</th>\n",
       "      <td>crypto</td>\n",
       "      <td>BINANCE</td>\n",
       "      <td>DEFIUSDT_PREMIUM</td>\n",
       "      <td>DEFIUSDT Premium Index</td>\n",
       "    </tr>\n",
       "  </tbody>\n",
       "</table>\n",
       "<p>2424 rows × 4 columns</p>\n",
       "</div>"
      ],
      "text/plain": [
       "      screener exchange            symbol  \\\n",
       "13484   crypto  BINANCE          ALICEBTC   \n",
       "13488   crypto  BINANCE           MANABTC   \n",
       "13493   crypto  BINANCE        BURGERUSDT   \n",
       "13495   crypto  BINANCE           EPSUSDT   \n",
       "13499   crypto  BINANCE            RSRBTC   \n",
       "...        ...      ...               ...   \n",
       "69751   crypto  BINANCE   GALUSDT_PREMIUM   \n",
       "69757   crypto  BINANCE            GALUSD   \n",
       "69768   crypto  BINANCE           ASTRBTC   \n",
       "69782   crypto  BINANCE         STEEMUSDT   \n",
       "69791   crypto  BINANCE  DEFIUSDT_PREMIUM   \n",
       "\n",
       "                                              desc  \n",
       "13484                              ALICE / Bitcoin  \n",
       "13488                       Decentraland / Bitcoin  \n",
       "13493                            BURGER / TetherUS  \n",
       "13495                               EPS / TetherUS  \n",
       "13499                                RSR / Bitcoin  \n",
       "...                                            ...  \n",
       "69751                        GALUSDT Premium Index  \n",
       "69757  GAL / US Dollar (calculated by TradingView)  \n",
       "69768                               ASTR / Bitcoin  \n",
       "69782                             Steem / TetherUS  \n",
       "69791                       DEFIUSDT Premium Index  \n",
       "\n",
       "[2424 rows x 4 columns]"
      ]
     },
     "execution_count": 25,
     "metadata": {},
     "output_type": "execute_result"
    }
   ],
   "source": [
    "df[df[\"exchange\"]=='BINANCE']"
   ]
  },
  {
   "cell_type": "code",
   "execution_count": 22,
   "metadata": {},
   "outputs": [
    {
     "data": {
      "text/plain": [
       "array(['NASDAQ', 'NYSE', 'OTC', 'AMEX', 'FX_IDC', 'BINANCE', 'BITFINEX',\n",
       "       'HITBTC', 'KUCOIN', 'BITTREX', 'KRAKEN', 'COINBASE', 'EXMO',\n",
       "       'HUOBI', 'BITHUMB', 'BITSTAMP', 'POLONIEX', 'CURRENCYCOMLEV',\n",
       "       'OKCOIN', 'COINFLOOR', 'KORBIT', 'BYBIT', 'BITKUB', 'CAPITALCOM',\n",
       "       'GEMINI', 'BITFLYER', 'MERCADO', 'CEXIO', 'BITPANDAPRO',\n",
       "       'TRADESTATION', 'THEROCKTRADING', 'BITSO', 'BTCYOU', 'IDX', 'NSE',\n",
       "       'BSE', 'TVC', 'DJ', 'CBOE', 'EURONEXT', 'SIX', 'OANDA', 'OMXCOP',\n",
       "       'FTSEMYX', 'TWSE', 'BVC', 'OMXVSE', 'OMXSTO', 'FX', 'TSX', 'BME',\n",
       "       'BIST', 'OMXRSE', 'OMXTSE', 'SZSE', 'HSI', 'SP', 'DFM', 'EGX',\n",
       "       'BAHRAIN', 'BMV', 'BMFBOVESPA', 'OMXICE', 'ASX', 'TADAWUL', 'XETR',\n",
       "       'TASE', 'QSE', 'GPW', 'OMXHEX', 'BVL', 'MOEX', 'BCBA', 'BCS',\n",
       "       'NZX', 'BELEX', 'NYMEX_MINI', 'CME_MINI', 'CBOT', 'NYMEX', 'CME',\n",
       "       'COMEX', 'ICEUS', 'CBOT_MINI', 'COMEX_MINI', 'EUREX', 'LSE',\n",
       "       'LSIN', 'CRYPTOCAP', 'FTX', 'HNX', 'HOSE', 'UPCOM', 'JSE', 'SET',\n",
       "       'BITCOKE', 'BINGBON', 'OKEX', 'COINEX', 'BINANCEUS', 'PHEMEX',\n",
       "       'TIMEX', 'GLOBALPRIME', 'SUSHISWAP', 'UNISWAP', 'SUSHISWAPPOLYGON',\n",
       "       'BITGET', 'QUICKSWAP', 'BITMEX', 'TRADERJOE', 'UPBIT', 'PANGOLIN',\n",
       "       'DELTA', 'ASCENDEX', 'DERIBIT', 'SPOOKYSWAP', 'WHITEBIT', 'BINGX',\n",
       "       'HONEYSWAPPOLYGON', 'BTSE', 'PSE', 'GATEIO', 'WOONETWORK',\n",
       "       'SPARKS', 'TPEX', 'NGM'], dtype=object)"
      ]
     },
     "execution_count": 22,
     "metadata": {},
     "output_type": "execute_result"
    }
   ],
   "source": [
    "df[\"exchange\"].unique()"
   ]
  },
  {
   "cell_type": "code",
   "execution_count": 16,
   "metadata": {},
   "outputs": [
    {
     "data": {
      "text/html": [
       "<div>\n",
       "<style scoped>\n",
       "    .dataframe tbody tr th:only-of-type {\n",
       "        vertical-align: middle;\n",
       "    }\n",
       "\n",
       "    .dataframe tbody tr th {\n",
       "        vertical-align: top;\n",
       "    }\n",
       "\n",
       "    .dataframe thead th {\n",
       "        text-align: right;\n",
       "    }\n",
       "</style>\n",
       "<table border=\"1\" class=\"dataframe\">\n",
       "  <thead>\n",
       "    <tr style=\"text-align: right;\">\n",
       "      <th></th>\n",
       "      <th>name</th>\n",
       "    </tr>\n",
       "  </thead>\n",
       "  <tbody>\n",
       "    <tr>\n",
       "      <th>0</th>\n",
       "      <td>tv</td>\n",
       "    </tr>\n",
       "  </tbody>\n",
       "</table>\n",
       "</div>"
      ],
      "text/plain": [
       "  name\n",
       "0   tv"
      ]
     },
     "execution_count": 16,
     "metadata": {},
     "output_type": "execute_result"
    }
   ],
   "source": [
    "df=pd.read_sql_query(\"SELECT name FROM sqlite_schema WHERE type='table' ORDER BY name \",dat)\n"
   ]
  },
  {
   "cell_type": "markdown",
   "metadata": {},
   "source": [
    "# Prueba tradingview"
   ]
  },
  {
   "cell_type": "code",
   "execution_count": 3,
   "metadata": {},
   "outputs": [],
   "source": [
    "import tradingview_ta"
   ]
  },
  {
   "cell_type": "code",
   "execution_count": 37,
   "metadata": {},
   "outputs": [
    {
     "name": "stdout",
     "output_type": "stream",
     "text": [
      "{'RECOMMENDATION': 'SELL', 'BUY': 6, 'SELL': 10, 'NEUTRAL': 10}\n"
     ]
    },
    {
     "data": {
      "text/plain": [
       "['SMA50',\n",
       " 'EMA100',\n",
       " 'SMA100',\n",
       " 'EMA200',\n",
       " 'SMA200',\n",
       " 'Rec.Ichimoku',\n",
       " 'Ichimoku.BLine',\n",
       " 'Rec.VWMA',\n",
       " 'VWMA',\n",
       " 'Rec.HullMA9',\n",
       " 'HullMA9',\n",
       " 'Pivot.M.Classic.S3',\n",
       " 'Pivot.M.Classic.S2',\n",
       " 'Pivot.M.Classic.S1',\n",
       " 'Pivot.M.Classic.Middle',\n",
       " 'Pivot.M.Classic.R1',\n",
       " 'Pivot.M.Classic.R2',\n",
       " 'Pivot.M.Classic.R3',\n",
       " 'Pivot.M.Fibonacci.S3',\n",
       " 'Pivot.M.Fibonacci.S2',\n",
       " 'Pivot.M.Fibonacci.S1',\n",
       " 'Pivot.M.Fibonacci.Middle',\n",
       " 'Pivot.M.Fibonacci.R1',\n",
       " 'Pivot.M.Fibonacci.R2',\n",
       " 'Pivot.M.Fibonacci.R3',\n",
       " 'Pivot.M.Camarilla.S3',\n",
       " 'Pivot.M.Camarilla.S2',\n",
       " 'Pivot.M.Camarilla.S1',\n",
       " 'Pivot.M.Camarilla.Middle',\n",
       " 'Pivot.M.Camarilla.R1',\n",
       " 'Pivot.M.Camarilla.R2',\n",
       " 'Pivot.M.Camarilla.R3',\n",
       " 'Pivot.M.Woodie.S3',\n",
       " 'Pivot.M.Woodie.S2',\n",
       " 'Pivot.M.Woodie.S1',\n",
       " 'Pivot.M.Woodie.Middle',\n",
       " 'Pivot.M.Woodie.R1',\n",
       " 'Pivot.M.Woodie.R2',\n",
       " 'Pivot.M.Woodie.R3',\n",
       " 'Pivot.M.Demark.S1',\n",
       " 'Pivot.M.Demark.Middle',\n",
       " 'Pivot.M.Demark.R1',\n",
       " 'open',\n",
       " 'P.SAR',\n",
       " 'BB.lower',\n",
       " 'BB.upper',\n",
       " 'AO[2]',\n",
       " 'volume',\n",
       " 'change',\n",
       " 'low',\n",
       " 'high']"
      ]
     },
     "execution_count": 37,
     "metadata": {},
     "output_type": "execute_result"
    }
   ],
   "source": [
    "from tradingview_ta import TA_Handler, Interval, Exchange\n",
    "\n",
    "tesla = TA_Handler(\n",
    "    symbol=\"TSLA\",\n",
    "    screener=\"america\",\n",
    "    exchange=\"NASDAQ\",\n",
    "    interval=Interval.INTERVAL_1_DAY\n",
    ")\n",
    "#tesla.add_indicators([\"RSI7\",\"VWMA\"])\n",
    "print(tesla.get_analysis().summary)\n",
    "list(tesla.get_indicators().keys())[40:]"
   ]
  },
  {
   "cell_type": "markdown",
   "metadata": {},
   "source": [
    "## funciones"
   ]
  },
  {
   "cell_type": "code",
   "execution_count": 5,
   "metadata": {},
   "outputs": [],
   "source": [
    "def get_tv_ta_recomendation(symbol:str)-> dict:\n",
    "    handler=TA_Handler(\n",
    "        symbol=symbol,\n",
    "        screener=\"crypto\",\n",
    "        exchange=\"BINANCE\",\n",
    "        interval=Interval.INTERVAL_5_MINUTES\n",
    "    )\n",
    "    return handler.get_indicators()"
   ]
  },
  {
   "cell_type": "code",
   "execution_count": 6,
   "metadata": {},
   "outputs": [],
   "source": [
    "#data_path=\"C:/Users/Joan/Documents/Programacion/Python/Pasantias/analisis_read_binance/Proyecto/notebooks/sygnals_operations.csv\"\n",
    "df_sygnal_data= pd.read_csv(\"sygnals_operations.csv\")"
   ]
  },
  {
   "cell_type": "code",
   "execution_count": null,
   "metadata": {},
   "outputs": [],
   "source": [
    "df_sygnal_data=df_sygnal_data.iloc[:5]\n",
    "df_recomendation= []\n",
    "for i in range(len(df_sygnal_data)):\n",
    "    print(f\"\"\"i:{i} --- symbol:{df_sygnal_data.loc[i,\"symbol\"]}\"\"\")\n",
    "    dict_recomendation=get_tv_ta_recomendation(df_sygnal_data.loc[i,\"symbol\"])\n",
    "    df_recomendation.append(dict_recomendation)"
   ]
  },
  {
   "cell_type": "code",
   "execution_count": 63,
   "metadata": {},
   "outputs": [],
   "source": [
    "dict_recomendation=get_tv_ta_recomendation(df_sygnal_data.loc[0,\"symbol\"])"
   ]
  },
  {
   "cell_type": "code",
   "execution_count": 64,
   "metadata": {},
   "outputs": [
    {
     "data": {
      "text/plain": [
       "{'RECOMMENDATION': 'SELL', 'BUY': 2, 'SELL': 13, 'NEUTRAL': 11}"
      ]
     },
     "execution_count": 64,
     "metadata": {},
     "output_type": "execute_result"
    }
   ],
   "source": [
    "dict_recomendation"
   ]
  },
  {
   "cell_type": "markdown",
   "metadata": {},
   "source": [
    "# Probando pandas_ta"
   ]
  },
  {
   "cell_type": "code",
   "execution_count": 7,
   "metadata": {},
   "outputs": [],
   "source": [
    "import pandas_ta as ta"
   ]
  },
  {
   "cell_type": "code",
   "execution_count": 8,
   "metadata": {},
   "outputs": [],
   "source": [
    "df_symbol=pd.read_pickle(\"../../ATOMBTC-5m-data.pickle\")"
   ]
  },
  {
   "cell_type": "code",
   "execution_count": 13,
   "metadata": {},
   "outputs": [],
   "source": [
    "df_symbol=float_ohlcv(df_symbol=df_symbol)"
   ]
  },
  {
   "cell_type": "markdown",
   "metadata": {},
   "source": [
    "Para copiar las recomendaciones de trading view revisar:\n",
    "\n",
    "- Trading view compute: https://github.com/brian-the-dev/python-tradingview-ta/blob/main/tradingview_ta/technicals.py\n",
    "\n",
    "- Trading view clasification: https://github.com/brian-the-dev/python-tradingview-ta/blob/main/tradingview_ta/main.py"
   ]
  },
  {
   "cell_type": "code",
   "execution_count": null,
   "metadata": {},
   "outputs": [],
   "source": [
    "# OSCCILATORS\n",
    "#rsi\n",
    "df_symbol.ta.rsi() # need a RSI1\n",
    "df_symbol.ta.rsi(length=5) # is RSI1\n",
    "\n",
    "#stoch\n",
    "df_symbol.ta.stoch() # need a stk1 and a std1\n",
    "df_symbol.ta.stoch().iloc[-2] # the before value are stk1 and std1\n",
    "\n",
    "#CCI 20 and CCI 201 (this is the before value of CCI 20)\n",
    "cci=pd.concat(\n",
    "    [df_symbol.ta.cci(length=20).iloc[-1],df_symbol.ta.cci(length=20).iloc[-2]],axis=1)\n",
    "cci\n",
    "#ADX (14)\n",
    "# need an adxpdi1, adxndi1\n",
    "df_symbol.ta.adx(length=14,).iloc[-1:,:], df_symbol.ta.adx(length=14,).iloc[-2,1:] #the before value is adxpdi1, adxndi1\n",
    "#AO\n",
    "df_symbol.ta.ao().iloc[-1],df_symbol.ta.ao().iloc[-2],df_symbol.ta.ao().iloc[-3] # THE BEFORE DATA IS ao1, ao2"
   ]
  },
  {
   "cell_type": "markdown",
   "metadata": {},
   "source": [
    "Ya que 5 min es una temporalidad muy baja lo mejor seria es aplicar la recomendacion a una temporalidad de 1 día. con el fin de predecir la tendencia sobre esta temporalidad."
   ]
  },
  {
   "cell_type": "code",
   "execution_count": null,
   "metadata": {},
   "outputs": [],
   "source": []
  },
  {
   "cell_type": "code",
   "execution_count": 26,
   "metadata": {},
   "outputs": [
    {
     "data": {
      "text/plain": [
       "(-6.2e-07, -2.6e-07, 2e-07)"
      ]
     },
     "execution_count": 26,
     "metadata": {},
     "output_type": "execute_result"
    }
   ],
   "source": [
    "tv=get_tv_ta_recomendation(\"ATOMBTC\")\n",
    "tv['AO'],tv['AO[1]'],tv['AO[2]']\n",
    "\n",
    "\n",
    "#tv.keys()"
   ]
  },
  {
   "cell_type": "code",
   "execution_count": 27,
   "metadata": {},
   "outputs": [
    {
     "data": {
      "text/plain": [
       "(timestamp\n",
       " 1653901200000    1.000588e-06\n",
       " 1653901500000    5.758824e-07\n",
       " 1653901800000    1.805882e-07\n",
       " 1653902100000   -2.814706e-07\n",
       " 1653902400000   -6.632353e-07\n",
       " Name: AO_5_34, dtype: float64,\n",
       " timestamp\n",
       " 1653900900000    1.335882e-06\n",
       " 1653901200000    1.000588e-06\n",
       " 1653901500000    5.758824e-07\n",
       " 1653901800000    1.805882e-07\n",
       " 1653902100000   -2.814706e-07\n",
       " 1653902400000   -6.632353e-07\n",
       " Name: AO_5_34, dtype: float64)"
      ]
     },
     "execution_count": 27,
     "metadata": {},
     "output_type": "execute_result"
    }
   ],
   "source": [
    "df_symbol=pd.read_pickle(\"../../ATOMBTC-5m-data.pickle\")\n",
    "df_symbol=float_ohlcv(df_symbol=df_symbol)\n",
    "df_symbol.ta.ao().iloc[-5:], df_symbol.ta.ao().iloc[-6:] # need a RSI1\n"
   ]
  },
  {
   "cell_type": "markdown",
   "metadata": {},
   "source": [
    "# Funciones recomendacionde TV_TA pero usando pandas_ta"
   ]
  },
  {
   "cell_type": "code",
   "execution_count": null,
   "metadata": {},
   "outputs": [],
   "source": [
    "# Tradingview Technical Analysis (tradingview-ta)\n",
    "# Author: deathlyface (https://github.com/deathlyface)\n",
    "# License: MIT\n",
    "\n",
    "import requests, json, datetime, warnings\n",
    "from .technicals import Compute\n",
    "\n",
    "__version__ = \"3.2.10\"\n",
    "\n",
    "class Analysis(object):\n",
    "    exchange = \"\"\n",
    "    symbol = \"\"\n",
    "    screener = \"\"\n",
    "    time = \"\"\n",
    "    interval = \"\"\n",
    "    summary = {}\n",
    "    oscillators = {}\n",
    "    moving_averages = {}\n",
    "    indicators = {}\n",
    "\n",
    "class Interval:\n",
    "    INTERVAL_1_MINUTE = \"1m\"\n",
    "    INTERVAL_5_MINUTES = \"5m\"\n",
    "    INTERVAL_15_MINUTES = \"15m\"\n",
    "    INTERVAL_30_MINUTES = \"30m\"\n",
    "    INTERVAL_1_HOUR = \"1h\"\n",
    "    INTERVAL_2_HOURS = \"2h\"\n",
    "    INTERVAL_4_HOURS = \"4h\"\n",
    "    INTERVAL_1_DAY = \"1d\"\n",
    "    INTERVAL_1_WEEK = \"1W\"\n",
    "    INTERVAL_1_MONTH = \"1M\"\n",
    "\n",
    "class Exchange:\n",
    "    FOREX = \"FX_IDC\"\n",
    "    CFD = \"TVC\"\n",
    "\n",
    "\n",
    "class TradingView:\n",
    "    # Note: Please DO NOT modify the order or DELETE existing indicators, it will break the technical analysis. You may APPEND custom indicator to the END of the list.\n",
    "    indicators = [\"Recommend.Other\",\"Recommend.All\",\"Recommend.MA\",\"RSI\",\"RSI[1]\",\"Stoch.K\",\"Stoch.D\",\"Stoch.K[1]\",\"Stoch.D[1]\",\"CCI20\",\"CCI20[1]\",\"ADX\",\"ADX+DI\",\"ADX-DI\",\"ADX+DI[1]\",\"ADX-DI[1]\",\"AO\",\"AO[1]\",\"Mom\",\"Mom[1]\",\"MACD.macd\",\"MACD.signal\",\"Rec.Stoch.RSI\",\"Stoch.RSI.K\",\"Rec.WR\",\"W.R\",\"Rec.BBPower\",\"BBPower\",\"Rec.UO\",\"UO\",\"close\",\"EMA5\",\"SMA5\",\"EMA10\",\"SMA10\",\"EMA20\",\"SMA20\",\"EMA30\",\"SMA30\",\"EMA50\",\"SMA50\",\"EMA100\",\"SMA100\",\"EMA200\",\"SMA200\",\"Rec.Ichimoku\",\"Ichimoku.BLine\",\"Rec.VWMA\",\"VWMA\",\"Rec.HullMA9\",\"HullMA9\",\"Pivot.M.Classic.S3\",\"Pivot.M.Classic.S2\",\"Pivot.M.Classic.S1\",\"Pivot.M.Classic.Middle\",\"Pivot.M.Classic.R1\",\"Pivot.M.Classic.R2\",\"Pivot.M.Classic.R3\",\"Pivot.M.Fibonacci.S3\",\"Pivot.M.Fibonacci.S2\",\"Pivot.M.Fibonacci.S1\",\"Pivot.M.Fibonacci.Middle\",\"Pivot.M.Fibonacci.R1\",\"Pivot.M.Fibonacci.R2\",\"Pivot.M.Fibonacci.R3\",\"Pivot.M.Camarilla.S3\",\"Pivot.M.Camarilla.S2\",\"Pivot.M.Camarilla.S1\",\"Pivot.M.Camarilla.Middle\",\"Pivot.M.Camarilla.R1\",\"Pivot.M.Camarilla.R2\",\"Pivot.M.Camarilla.R3\",\"Pivot.M.Woodie.S3\",\"Pivot.M.Woodie.S2\",\"Pivot.M.Woodie.S1\",\"Pivot.M.Woodie.Middle\",\"Pivot.M.Woodie.R1\",\"Pivot.M.Woodie.R2\",\"Pivot.M.Woodie.R3\",\"Pivot.M.Demark.S1\",\"Pivot.M.Demark.Middle\",\"Pivot.M.Demark.R1\", \"open\", \"P.SAR\", \"BB.lower\", \"BB.upper\", \"AO[2]\", \"volume\", \"change\", \"low\", \"high\", \"Stoch.RSI.D\"]\n",
    "\n",
    "    scan_url = \"https://scanner.tradingview.com/\"\n",
    "\n",
    "    def data(symbols, interval, indicators):\n",
    "        \"\"\"Format TradingView's Scanner Post Data\n",
    "        Args:\n",
    "            symbols (list): List of EXCHANGE:SYMBOL (ex: [\"NASDAQ:AAPL\"] or [\"BINANCE:BTCUSDT\"])\n",
    "            interval (string): Time Interval (ex: 1m, 5m, 15m, 1h, 4h, 1d, 1W, 1M)\n",
    "        Returns:\n",
    "            string: JSON object as a string.\n",
    "        \"\"\"\n",
    "        if interval == \"1m\":\n",
    "            # 1 Minute\n",
    "            data_interval = \"|1\"\n",
    "        elif interval == \"5m\":\n",
    "            # 5 Minutes\n",
    "            data_interval = \"|5\"\n",
    "        elif interval == \"15m\":\n",
    "            # 15 Minutes\n",
    "            data_interval = \"|15\"\n",
    "        elif interval == \"30m\":\n",
    "            # 30 Minutes\n",
    "            data_interval = \"|30\"\n",
    "        elif interval == \"1h\":\n",
    "            # 1 Hour\n",
    "            data_interval = \"|60\"\n",
    "        elif interval == \"2h\":\n",
    "            # 2 Hours\n",
    "            data_interval = \"|120\"\n",
    "        elif interval == \"4h\":\n",
    "            # 4 Hour\n",
    "            data_interval = \"|240\"\n",
    "        elif interval == \"1W\":\n",
    "            # 1 Week\n",
    "            data_interval = \"|1W\"\n",
    "        elif interval == \"1M\":\n",
    "            # 1 Month\n",
    "            data_interval = \"|1M\"\n",
    "        else:\n",
    "            if interval != '1d':\n",
    "                warnings.warn(\"Interval is empty or not valid, defaulting to 1 day.\")\n",
    "            # Default, 1 Day\n",
    "            data_interval = \"\"\n",
    "\n",
    "        data_json = {\"symbols\":{\"tickers\":[symbol.upper() for symbol in symbols],\"query\":{\"types\":[]}},\"columns\":[x + data_interval for x in indicators]}\n",
    "\n",
    "        return data_json\n",
    "\n",
    "def calculate(indicators, indicators_key, screener, symbol, exchange, interval):\n",
    "    oscillators_counter, ma_counter = {\"BUY\": 0, \"SELL\": 0, \"NEUTRAL\": 0}, {\"BUY\": 0, \"SELL\": 0, \"NEUTRAL\": 0}\n",
    "    computed_oscillators, computed_ma = {}, {}\n",
    "\n",
    "    indicators = list(indicators.values())\n",
    "\n",
    "    # RECOMMENDATIONS\n",
    "    if None not in indicators[0:2]:\n",
    "        recommend_oscillators = Compute.Recommend(indicators[0])\n",
    "        recommend_summary = Compute.Recommend(indicators[1])\n",
    "        recommend_moving_averages = Compute.Recommend(indicators[2])\n",
    "    else:\n",
    "        return None\n",
    "\n",
    "    # OSCILLATORS\n",
    "    # RSI (14)\n",
    "    if None not in indicators[3:5]:\n",
    "        computed_oscillators[\"RSI\"] = Compute.RSI(indicators[3], indicators[4])\n",
    "        oscillators_counter[computed_oscillators[\"RSI\"]] += 1\n",
    "    # Stoch %K\n",
    "    if None not in indicators[5:9]:\n",
    "        computed_oscillators[\"STOCH.K\"] = Compute.Stoch(indicators[5], indicators[6], indicators[7], indicators[8])\n",
    "        oscillators_counter[computed_oscillators[\"STOCH.K\"]] += 1\n",
    "    # CCI (20)\n",
    "    if None not in indicators[9:11]:\n",
    "        computed_oscillators[\"CCI\"] = Compute.CCI20(indicators[9], indicators[10])\n",
    "        oscillators_counter[computed_oscillators[\"CCI\"]] += 1\n",
    "    # ADX (14)\n",
    "    if None not in indicators[11:16]:\n",
    "        computed_oscillators[\"ADX\"] = Compute.ADX(indicators[11], indicators[12], indicators[13], indicators[14], indicators[15])\n",
    "        oscillators_counter[computed_oscillators[\"ADX\"]] += 1\n",
    "    # AO\n",
    "    if None not in indicators[16:18] and indicators[86] != None:\n",
    "        computed_oscillators[\"AO\"] = Compute.AO(indicators[16], indicators[17], indicators[86])\n",
    "        oscillators_counter[computed_oscillators[\"AO\"]] += 1\n",
    "    # Mom (10)\n",
    "    if None not in indicators[18:20]:\n",
    "        computed_oscillators[\"Mom\"] = Compute.Mom(indicators[18], indicators[19])\n",
    "        oscillators_counter[computed_oscillators[\"Mom\"]] += 1\n",
    "    # MACD\n",
    "    if None not in indicators[20:22]:\n",
    "        computed_oscillators[\"MACD\"] = Compute.MACD(indicators[20], indicators[21])\n",
    "        oscillators_counter[computed_oscillators[\"MACD\"]] += 1\n",
    "    # Stoch RSI\n",
    "    if indicators[22] != None:\n",
    "        computed_oscillators[\"Stoch.RSI\"] = Compute.Simple(indicators[22])\n",
    "        oscillators_counter[computed_oscillators[\"Stoch.RSI\"]] += 1\n",
    "    # W%R\n",
    "    if indicators[24] != None:\n",
    "        computed_oscillators[\"W%R\"] = Compute.Simple(indicators[24])\n",
    "        oscillators_counter[computed_oscillators[\"W%R\"]] += 1\n",
    "    # BBP\n",
    "    if indicators[26] != None:\n",
    "        computed_oscillators[\"BBP\"] = Compute.Simple(indicators[26])\n",
    "        oscillators_counter[computed_oscillators[\"BBP\"]] += 1\n",
    "    # UO\n",
    "    if indicators[28] != None:\n",
    "        computed_oscillators[\"UO\"] = Compute.Simple(indicators[28])\n",
    "        oscillators_counter[computed_oscillators[\"UO\"]] += 1\n",
    "\n",
    "    # MOVING AVERAGES\n",
    "    ma_list = [\"EMA10\",\"SMA10\",\"EMA20\",\"SMA20\",\"EMA30\",\"SMA30\",\"EMA50\",\"SMA50\",\"EMA100\",\"SMA100\",\"EMA200\",\"SMA200\"]\n",
    "    close = indicators[30]\n",
    "    ma_list_counter = 0\n",
    "    for index in range(33, 45):\n",
    "        if indicators[index] != None:\n",
    "            computed_ma[ma_list[ma_list_counter]] = Compute.MA(indicators[index], close)\n",
    "            ma_counter[computed_ma[ma_list[ma_list_counter]]] += 1\n",
    "            ma_list_counter += 1\n",
    "\n",
    "    # MOVING AVERAGES, pt 2\n",
    "    # ICHIMOKU\n",
    "    if indicators[45] != None:\n",
    "        computed_ma[\"Ichimoku\"] = Compute.Simple(indicators[45])\n",
    "        ma_counter[computed_ma[\"Ichimoku\"]] += 1\n",
    "    # VWMA\n",
    "    if indicators[47] != None:\n",
    "        computed_ma[\"VWMA\"] = Compute.Simple(indicators[47])\n",
    "        ma_counter[computed_ma[\"VWMA\"]] += 1\n",
    "    # HullMA (9)\n",
    "    if indicators[49] != None:\n",
    "        computed_ma[\"HullMA\"] = Compute.Simple(indicators[49])\n",
    "        ma_counter[computed_ma[\"HullMA\"]] += 1\n",
    "\n",
    "    analysis = Analysis()\n",
    "    analysis.screener = screener\n",
    "    analysis.exchange = exchange\n",
    "    analysis.symbol = symbol\n",
    "    analysis.interval = interval\n",
    "    analysis.time = datetime.datetime.now()\n",
    "\n",
    "    for x in range(len(indicators)):\n",
    "        analysis.indicators[indicators_key[x]] = indicators[x]\n",
    "\n",
    "    analysis.indicators = analysis.indicators.copy()\n",
    "\n",
    "    analysis.oscillators = {\"RECOMMENDATION\": recommend_oscillators, \"BUY\": oscillators_counter[\"BUY\"], \"SELL\": oscillators_counter[\"SELL\"], \"NEUTRAL\": oscillators_counter[\"NEUTRAL\"], \"COMPUTE\": computed_oscillators}\n",
    "    analysis.moving_averages = {\"RECOMMENDATION\": recommend_moving_averages, \"BUY\": ma_counter[\"BUY\"], \"SELL\": ma_counter[\"SELL\"], \"NEUTRAL\": ma_counter[\"NEUTRAL\"], \"COMPUTE\": computed_ma}\n",
    "    analysis.summary = {\"RECOMMENDATION\": recommend_summary, \"BUY\": oscillators_counter[\"BUY\"] + ma_counter[\"BUY\"], \"SELL\": oscillators_counter[\"SELL\"] + ma_counter[\"SELL\"], \"NEUTRAL\": oscillators_counter[\"NEUTRAL\"] + ma_counter[\"NEUTRAL\"]}\n",
    "\n",
    "    return analysis\n",
    "\n",
    "class TA_Handler(object):\n",
    "    screener = \"\"\n",
    "    exchange = \"\"\n",
    "    symbol = \"\"\n",
    "    interval = \"\"\n",
    "    timeout = None\n",
    "\n",
    "    indicators = TradingView.indicators.copy()\n",
    "\n",
    "    def __init__(self, screener=\"\", exchange=\"\", symbol=\"\", interval=\"\", timeout=None, proxies=None):\n",
    "        \"\"\"Create an instance of TA_Handler class\n",
    "        Args:\n",
    "            screener (str, required): Screener (see documentation and tradingview's site).\n",
    "            exchange (str, required): Exchange (see documentation and tradingview's site).\n",
    "            symbol (str, required): Abbreviation of a stock or currency (see documentation and tradingview's site).\n",
    "            interval (str, optional): See the interval class and the documentation. Defaults to 1 day.\n",
    "            timeout (float, optional): Timeout for requests (in seconds). Defaults to None.\n",
    "            proxies (dict, optional): Proxies to be used for requests. Defaults to None (disabled).\n",
    "        \"\"\"\n",
    "        self.screener = screener\n",
    "        self.exchange = exchange\n",
    "        self.symbol = symbol\n",
    "        self.interval = interval\n",
    "        self.timeout = timeout\n",
    "        self.proxies = proxies\n",
    "\n",
    "    # Set functions\n",
    "    def set_screener_as_stock(self, country):\n",
    "        \"\"\"Set the screener as a country (for stocks).\n",
    "        Args:\n",
    "            country (string): Stock's country (ex: If NFLX or AAPL, then \"america\" is the screener)\n",
    "        \"\"\"\n",
    "        self.screener = country\n",
    "\n",
    "    def set_screener_as_crypto(self):\n",
    "        \"\"\"Set the screener as crypto (for cryptocurrencies).\n",
    "        \"\"\"\n",
    "        self.screener = \"crypto\"\n",
    "\n",
    "    def set_screener_as_cfd(self):\n",
    "        \"\"\"Set the screener as cfd (contract for differences).\n",
    "        \"\"\"\n",
    "        self.screener = \"cfd\"\n",
    "\n",
    "    def set_screener_as_forex(self):\n",
    "        \"\"\"Set the screener as forex.\n",
    "        \"\"\"\n",
    "        self.screener = \"forex\"\n",
    "\n",
    "    def set_exchange_as_crypto_or_stock(self, exchange):\n",
    "        \"\"\"Set the exchange\n",
    "        Args:\n",
    "            exchange (string): Stock/Crypto's exchange (NASDAQ, NYSE, BINANCE, BITTREX, etc).\n",
    "        \"\"\"\n",
    "        self.exchange = exchange\n",
    "\n",
    "    def set_exchange_as_forex(self):\n",
    "        \"\"\"Set the exchange as FX_IDC for forex.\n",
    "        \"\"\"\n",
    "        self.exchange = \"FX_IDC\"\n",
    "\n",
    "    def set_exchange_as_cfd(self):\n",
    "        \"\"\"Set the exchange as TVC for cfd.\n",
    "        \"\"\"\n",
    "        self.exchange = \"TVC\"\n",
    "\n",
    "    def set_interval_as(self, intvl):\n",
    "        \"\"\"Set the interval.\n",
    "        Refer to: https://python-tradingview-ta.readthedocs.io/en/latest/usage.html#setting-the-interval\n",
    "        Args:\n",
    "            intvl (string): interval. You can use values from the Interval class.\n",
    "        \"\"\"\n",
    "        self.interval = intvl\n",
    "\n",
    "    def set_symbol_as(self, symbol):\n",
    "        \"\"\"Set the symbol.\n",
    "        Refer to: https://python-tradingview-ta.readthedocs.io/en/latest/usage.html#setting-the-symbol\n",
    "        Args:\n",
    "            symbol (string): abbreviation of a stock or currency (ex: NFLX, AAPL, BTCUSD).\n",
    "        \"\"\"\n",
    "        self.symbol = symbol\n",
    "\n",
    "    def get_indicators(self, indicators=[]):\n",
    "        \"\"\"Just the indicators, please. See valid indicators on https://pastebin.com/1DjWv2Hd.\n",
    "        Args:\n",
    "            indicators (list, optional): List of string of indicators (ex: [\"RSI7\", \"open\"]). Defaults to self.indicators.\n",
    "        Returns:\n",
    "            dict: A dictionary with a format of {\"indicator\": value}.\n",
    "        \"\"\"\n",
    "        if len(indicators) == 0:\n",
    "            indicators = self.indicators\n",
    "\n",
    "        if self.screener == \"\" or type(self.screener) != str:\n",
    "            raise Exception(\"Screener is empty or not valid.\")\n",
    "        elif self.exchange == \"\" or type(self.exchange) != str:\n",
    "            raise Exception(\"Exchange is empty or not valid.\")\n",
    "        elif self.symbol == \"\" or type(self.symbol) != str:\n",
    "            raise Exception(\"Symbol is empty or not valid.\")\n",
    "\n",
    "        exchange_symbol = f\"{self.exchange}:{self.symbol}\"\n",
    "        data = TradingView.data([exchange_symbol], self.interval, indicators)\n",
    "        scan_url = f\"{TradingView.scan_url}{self.screener.lower()}/scan\"\n",
    "        headers = {\"User-Agent\": \"tradingview_ta/{}\".format(__version__)}\n",
    "        response = requests.post(scan_url,json=data, headers=headers, timeout=self.timeout, proxies=self.proxies)\n",
    "\n",
    "        # Return False if can't get data\n",
    "        if response.status_code != 200:\n",
    "            raise Exception(\"Can't access TradingView's API. HTTP status code: {}. Check for invalid symbol, exchange, or indicators.\".format(response.status_code))\n",
    "\n",
    "        result = json.loads(response.text)[\"data\"]\n",
    "        if result != []:\n",
    "            indicators_val = {}\n",
    "            for x in range(len(indicators)):\n",
    "                indicators_val[indicators[x]] = result[0][\"d\"][x]\n",
    "            return indicators_val\n",
    "        else:\n",
    "            raise Exception(\"Exchange or symbol not found.\")\n",
    "\n",
    "    # Add custom indicators\n",
    "    def add_indicators(self, indicators):\n",
    "        \"\"\"Add custom indicators. See valid indicators on https://pastebin.com/1DjWv2Hd.\n",
    "        Args:\n",
    "            indicators (list): List of strings of indicators. (ex: [\"RSI7\", \"VWMA\"])\n",
    "        \"\"\"\n",
    "        self.indicators += indicators\n",
    "\n",
    "    # Get analysis\n",
    "    def get_analysis(self):\n",
    "        \"\"\"Get analysis from TradingView and compute it.\n",
    "        Returns:\n",
    "            Analysis: Contains information about the analysis.\n",
    "        \"\"\"\n",
    "\n",
    "        return calculate(indicators=self.get_indicators(), indicators_key=self.indicators, screener=self.screener, symbol=self.symbol, exchange=self.exchange, interval=self.interval)\n",
    "\n",
    "def get_multiple_analysis(screener, interval, symbols, additional_indicators=[], timeout=None, proxies=None):\n",
    "    \"\"\"Retrieve multiple technical analysis at once. Note: You can't mix different screener and interval\n",
    "    Args:\n",
    "        screener (str, required): Screener (see documentation and tradingview's site).\n",
    "        interval (str, optional): See the interval class and the documentation. Defaults to 1 day.\n",
    "        symbols (list, required): List of exchange and ticker symbol separated by a colon. Example: [\"NASDAQ:TSLA\", \"NYSE:DOCN\"] or [\"BINANCE:BTCUSDT\", \"BITSTAMP:ETHUSD\"].\n",
    "        additional_indicators (list, optional): List of additional indicators to be requested from TradingView, see valid indicators on https://pastebin.com/1DjWv2Hd.\n",
    "        timeout (float, optional): Timeout for requests (in seconds). Defaults to None.\n",
    "        proxies (dict, optional): Proxies to be used for requests. Defaults to None (disabled).\n",
    "    Returns:\n",
    "        dict: dictionary with a format of {\"EXCHANGE:SYMBOL\": Analysis}.\n",
    "    \"\"\"\n",
    "    if screener == \"\" or type(screener) != str:\n",
    "        raise Exception(\"Screener is empty or not valid.\")\n",
    "    if len(symbols) == 0 or type(symbols) != list:\n",
    "        raise Exception(\"Symbols is empty or not valid.\")\n",
    "    for symbol in symbols:\n",
    "        if len(symbol.split(\":\")) != 2 or \"\" in symbol.split(\":\"):\n",
    "            raise Exception(\"One or more symbol is invalid. Symbol should be a list of exchange and ticker symbol separated by a colon. Example: [\\\"NASDAQ:TSLA\\\", \\\"NYSE:DOCN\\\"] or [\\\"BINANCE:BTCUSDT\\\", \\\"BITSTAMP:ETHUSD\\\"].\")\n",
    "\n",
    "    indicators_key = TradingView.indicators.copy()\n",
    "\n",
    "    if additional_indicators:\n",
    "        indicators_key += additional_indicators\n",
    "\n",
    "    data = TradingView.data(symbols, interval, indicators_key)\n",
    "    scan_url = f\"{TradingView.scan_url}{screener.lower()}/scan\"\n",
    "    headers = {\"User-Agent\": \"tradingview_ta/{}\".format(__version__)}\n",
    "    response = requests.post(scan_url,json=data, headers=headers, timeout=timeout, proxies=proxies)\n",
    "\n",
    "    result = json.loads(response.text)[\"data\"]\n",
    "    final = {}\n",
    "\n",
    "    for analysis in result:\n",
    "        # Convert list to dict\n",
    "        indicators = {}\n",
    "        for x in range(len(analysis[\"d\"])):\n",
    "            indicators[indicators_key[x]] = analysis[\"d\"][x]\n",
    "\n",
    "        final[analysis[\"s\"]] = calculate(indicators=indicators, indicators_key=indicators_key, screener=screener, symbol=analysis[\"s\"].split(\":\")[1], exchange=analysis[\"s\"].split(\":\")[0], interval=interval)\n",
    "\n",
    "    for symbol in symbols:\n",
    "        # Add None if there is no analysis for symbol\n",
    "        if symbol.upper() not in final:\n",
    "            final[symbol.upper()] = None\n",
    "\n",
    "    return final"
   ]
  },
  {
   "cell_type": "code",
   "execution_count": null,
   "metadata": {},
   "outputs": [],
   "source": [
    "# Tradingview Technical Analysis (tradingview-ta)\n",
    "# Author: deathlyface (https://github.com/deathlyface)\n",
    "# Rewritten from https://www.tradingview.com/static/bundles/technicals.f2e6e6a51aebb6cd46f8.js\n",
    "# License: MIT\n",
    "\n",
    "class Recommendation:\n",
    "    buy = \"BUY\"\n",
    "    strong_buy = \"STRONG_BUY\"\n",
    "    sell = \"SELL\"\n",
    "    strong_sell = \"STRONG_SELL\"\n",
    "    neutral = \"NEUTRAL\"\n",
    "    error = \"ERROR\"\n",
    "\n",
    "class Compute:\n",
    "    def MA(ma, close):\n",
    "        \"\"\"Compute Moving Average\n",
    "        Args:\n",
    "            ma (float): MA value\n",
    "            close (float): Close value\n",
    "        Returns:\n",
    "            string: \"BUY\", \"SELL\", or \"NEUTRAL\"\n",
    "        \"\"\"\n",
    "        if (ma < close):\n",
    "            return Recommendation.buy\n",
    "        elif (ma > close):\n",
    "            return Recommendation.sell\n",
    "        else:\n",
    "            return Recommendation.neutral\n",
    "\n",
    "    def RSI(rsi, rsi1):\n",
    "        \"\"\"Compute Relative Strength Index\n",
    "        Args:\n",
    "            rsi (float): RSI value\n",
    "            rsi1 (float): RSI[1] value\n",
    "        Returns:\n",
    "            string: \"BUY\", \"SELL\", or \"NEUTRAL\"\n",
    "        \"\"\"\n",
    "        if (rsi < 30 and rsi1 < rsi):\n",
    "            return Recommendation.buy\n",
    "        elif (rsi > 70 and rsi1 > rsi):\n",
    "            return Recommendation.sell\n",
    "        else:\n",
    "            return Recommendation.neutral\n",
    "\n",
    "    def Stoch(k, d, k1, d1):\n",
    "        \"\"\"Compute Stochastic\n",
    "        Args:\n",
    "            k (float): Stoch.K value\n",
    "            d (float): Stoch.D value\n",
    "            k1 (float): Stoch.K[1] value\n",
    "            d1 (float): Stoch.D[1] value\n",
    "        Returns:.\n",
    "            string: \"BUY\", \"SELL\", or \"NEUTRAL\"\n",
    "        \"\"\"\n",
    "        if (k < 20 and d < 20 and k > d and k1 < d1):\n",
    "            return Recommendation.buy\n",
    "        elif (k > 80 and d > 80 and k < d and k1 > d1):\n",
    "            return Recommendation.sell\n",
    "        else:\n",
    "            return Recommendation.neutral\n",
    "\n",
    "    def CCI20(cci20, cci201):\n",
    "        \"\"\"Compute Commodity Channel Index 20\n",
    "        Args:\n",
    "            cci20 (float): CCI20 value\n",
    "            cci201 ([type]): CCI20[1] value\n",
    "        Returns:\n",
    "            string: \"BUY\", \"SELL\", or \"NEUTRAL\"\n",
    "        \"\"\"\n",
    "        if (cci20 < -100 and cci20 > cci201):\n",
    "            return Recommendation.buy\n",
    "        elif (cci20 > 100 and cci20 < cci201):\n",
    "            return Recommendation.sell\n",
    "        else:\n",
    "            return Recommendation.neutral\n",
    "\n",
    "    def ADX(adx, adxpdi, adxndi, adxpdi1, adxndi1):\n",
    "        \"\"\"Compute Average Directional Index\n",
    "        Args:\n",
    "            adx (float): ADX value\n",
    "            adxpdi (float): ADX+DI value\n",
    "            adxndi (float): ADX-DI value\n",
    "            adxpdi1 (float): ADX+DI[1] value\n",
    "            adxndi1 (float): ADX-DI[1] value\n",
    "        Returns:\n",
    "            string: \"BUY\", \"SELL\", or \"NEUTRAL\"\n",
    "        \"\"\"\n",
    "        if (adx > 20 and adxpdi1 < adxndi1 and adxpdi > adxndi):\n",
    "            return Recommendation.buy\n",
    "        elif (adx > 20 and adxpdi1 > adxndi1 and adxpdi < adxndi):\n",
    "            return Recommendation.sell\n",
    "        else:\n",
    "            return Recommendation.neutral\n",
    "\n",
    "    def AO(ao, ao1, ao2):\n",
    "        \"\"\"Compute Awesome Oscillator\n",
    "        Args:\n",
    "            ao (float): AO value\n",
    "            ao1 (float): AO[1] value\n",
    "            ao2 (float): AO[2] value\n",
    "        Returns:\n",
    "            string: \"BUY\", \"SELL\", or \"NEUTRAL\"\n",
    "        \"\"\"\n",
    "        if (ao > 0 and ao1 < 0) or (ao > 0 and ao1 > 0 and ao > ao1 and ao2 > ao1):\n",
    "            return Recommendation.buy\n",
    "        elif (ao < 0 and ao1 > 0) or (ao < 0 and ao1 < 0 and ao < ao1 and ao2 < ao1):\n",
    "            return Recommendation.sell\n",
    "        else:\n",
    "            return Recommendation.neutral\n",
    "\n",
    "    def Mom(mom, mom1):\n",
    "        \"\"\"Compute Momentum\n",
    "        Args:\n",
    "            mom (float): Mom value\n",
    "            mom1 (float): Mom[1] value\n",
    "        Returns:\n",
    "            string: \"BUY\", \"SELL\", or \"NEUTRAL\"\n",
    "        \"\"\"\n",
    "        if (mom < mom1):\n",
    "            return Recommendation.sell\n",
    "        elif (mom > mom1):\n",
    "            return Recommendation.buy\n",
    "        else:\n",
    "            return Recommendation.neutral\n",
    "\n",
    "    def MACD(macd, signal):\n",
    "        \"\"\"Compute Moving Average Convergence/Divergence\n",
    "        Args:\n",
    "            macd (float): MACD.macd value\n",
    "            signal (float): MACD.signal value\n",
    "        Returns:\n",
    "            string: \"BUY\", \"SELL\", or \"NEUTRAL\"\n",
    "        \"\"\"\n",
    "        if (macd > signal):\n",
    "            return Recommendation.buy\n",
    "        elif (macd < signal):\n",
    "            return Recommendation.sell\n",
    "        else:\n",
    "            return Recommendation.neutral\n",
    "        \n",
    "    def BBBuy(close, bblower):\n",
    "        \"\"\"Compute Bull Bear Buy\n",
    "        Args:\n",
    "            close (float): close value\n",
    "            bblower (float): BB.lower value\n",
    "        Returns:\n",
    "            string: \"BUY\", \"SELL\", or \"NEUTRAL\"\n",
    "        \"\"\"\n",
    "        if (close < bblower):\n",
    "            return Recommendation.buy\n",
    "        else:\n",
    "            return Recommendation.neutral\n",
    "\n",
    "    def BBSell(close, bbupper):\n",
    "        \"\"\"Compute Bull Bear Sell\n",
    "        Args:\n",
    "            close (float): close value\n",
    "            bbupper (float): BB.upper value\n",
    "        Returns:\n",
    "            string: \"BUY\", \"SELL\", or \"NEUTRAL\"\n",
    "        \"\"\"\n",
    "        if (close > bbupper):\n",
    "            return Recommendation.sell\n",
    "        else:\n",
    "            return Recommendation.neutral\n",
    "\n",
    "    def PSAR(psar, open):\n",
    "        \"\"\"Compute Parabolic Stop-And-Reverse\n",
    "        Args:\n",
    "            psar (float): P.SAR value\n",
    "            open (float): open value\n",
    "        Returns:\n",
    "            string: \"BUY\", \"SELL\", or \"NEUTRAL\"\n",
    "        \"\"\"\n",
    "        if (psar < open):\n",
    "            return Recommendation.buy\n",
    "        elif (psar > open):\n",
    "            return Recommendation.sell\n",
    "        else:\n",
    "            return Recommendation.neutral\n",
    "\n",
    "    def Recommend(value):\n",
    "        \"\"\"Compute Recommend\n",
    "        Args:\n",
    "            value (float): recommend value\n",
    "        Returns:\n",
    "            string: \"STRONG_BUY\", \"BUY\", \"NEUTRAL\", \"SELL\", \"STRONG_SELL\", or \"ERROR\"\n",
    "        \"\"\"\n",
    "        if value >= -1 and value < -.5:\n",
    "            return Recommendation.strong_sell\n",
    "        elif value >= -.5 and value < -.1:\n",
    "            return Recommendation.sell\n",
    "        elif value >= -.1 and value <= .1:\n",
    "            return Recommendation.neutral\n",
    "        elif value > .1 and value <= .5 :\n",
    "            return Recommendation.buy\n",
    "        elif value > .5 and value <= 1:\n",
    "            return Recommendation.strong_buy\n",
    "        else:\n",
    "            return Recommendation.error\n",
    "\n",
    "    def Simple(value):\n",
    "        \"\"\"Compute Simple\n",
    "        Args:\n",
    "            value (float): Rec.X value\n",
    "        Returns:\n",
    "            string: \"BUY\", \"SELL\", or \"NEUTRAL\"\n",
    "        \"\"\"\n",
    "        if (value == -1):\n",
    "            return Recommendation.sell\n",
    "        elif (value == 1):\n",
    "            return Recommendation.buy\n",
    "        else:\n",
    "            return Recommendation.neutral"
   ]
  },
  {
   "cell_type": "markdown",
   "metadata": {},
   "source": [
    "- Cortar el df de hasta el día de la publicación.\n",
    "- Calcular los obciladores.\n",
    "- aplicar el compute.\n",
    "- actualizar base de datos."
   ]
  }
 ],
 "metadata": {
  "interpreter": {
   "hash": "a14bdbe9f715ea087dcd1ac157ff383c1803eb47c6bf2fe043eef5111c475d5c"
  },
  "kernelspec": {
   "display_name": "Python 3.9.12 ('pasanti_venv')",
   "language": "python",
   "name": "python3"
  },
  "language_info": {
   "codemirror_mode": {
    "name": "ipython",
    "version": 3
   },
   "file_extension": ".py",
   "mimetype": "text/x-python",
   "name": "python",
   "nbconvert_exporter": "python",
   "pygments_lexer": "ipython3",
   "version": "3.9.7"
  },
  "orig_nbformat": 4
 },
 "nbformat": 4,
 "nbformat_minor": 2
}
